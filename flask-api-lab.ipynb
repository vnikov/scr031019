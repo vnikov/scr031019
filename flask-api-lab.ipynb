{
 "cells": [
  {
   "cell_type": "markdown",
   "metadata": {},
   "source": [
    "# Flask API Lab\n",
    "\n",
    "- Create views for commenting on the blog (use the existing BASIC authorization header)\n",
    "- Create a blueprint 'authors' which will allow a user to update data about themselves, in particular `fullName` \n",
    "  and `password`. \n",
    "- Update the post and comment resources to return author information\n",
    "- Update your views to verify that the user's password matches the password passed in the authorization header"
   ]
  },
  {
   "cell_type": "code",
   "execution_count": null,
   "metadata": {},
   "outputs": [],
   "source": []
  }
 ],
 "metadata": {
  "kernelspec": {
   "display_name": "Python 3",
   "language": "python",
   "name": "python3"
  },
  "language_info": {
   "codemirror_mode": {
    "name": "ipython",
    "version": 3
   },
   "file_extension": ".py",
   "mimetype": "text/x-python",
   "name": "python",
   "nbconvert_exporter": "python",
   "pygments_lexer": "ipython3",
   "version": "3.7.2"
  }
 },
 "nbformat": 4,
 "nbformat_minor": 2
}
