{
 "cells": [
  {
   "cell_type": "markdown",
   "metadata": {},
   "source": [
    "### Lab: Celery\n",
    "* create a Celery task named __`write_file()`__ which takes two arguments, a filename and a string, and write the string to the file\n",
    "* create a second task named __`read_file()`__ which reads from a file\n",
    "  * if the file does not exist, it waits until the file exists (perhaps have it poll once a second)\n",
    "  * after a successful read, the task should delete the file\n",
    "* test your tasks\n",
    "* incorporate the task into a program which gets input from the user, and uses the tasks above to read and write data to a file (imagine that the files are on a remote system, even though that won't be the case for our lab)"
   ]
  },
  {
   "cell_type": "code",
   "execution_count": null,
   "metadata": {},
   "outputs": [],
   "source": []
  }
 ],
 "metadata": {
  "kernelspec": {
   "display_name": "Python 3",
   "language": "python",
   "name": "python3"
  },
  "language_info": {
   "codemirror_mode": {
    "name": "ipython",
    "version": 3
   },
   "file_extension": ".py",
   "mimetype": "text/x-python",
   "name": "python",
   "nbconvert_exporter": "python",
   "pygments_lexer": "ipython3",
   "version": "3.7.2"
  }
 },
 "nbformat": 4,
 "nbformat_minor": 2
}
