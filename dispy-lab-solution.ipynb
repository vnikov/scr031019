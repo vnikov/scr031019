{
 "cells": [
  {
   "cell_type": "markdown",
   "metadata": {},
   "source": [
    "# Dispy Lab\n",
    "\n",
    "First, get your `dispynode.py` server running"
   ]
  },
  {
   "cell_type": "markdown",
   "metadata": {},
   "source": [
    "Create a `JobCluster` to fetch the temperature in a number of cities:"
   ]
  },
  {
   "cell_type": "code",
   "execution_count": null,
   "metadata": {},
   "outputs": [],
   "source": [
    "APPID = '10d4440bbaa8581bb8da9bd1fbea5617'\n",
    "UNITS = 'metric'\n",
    "cities = [\n",
    "    'Boulder', 'Atlanta', 'San Francisco',\n",
    "    'Reno', 'Honolulu', 'Zurich', 'Dubai',\n",
    "    'Dublin','Stuttgart', 'Rome', 'Singapore', \n",
    "    'Bangalore', 'Hyderabad', 'Seattle',\n",
    "]\n",
    "\n",
    "def get_temp(city, units, appid):\n",
    "    import requests\n",
    "    url = 'http://api.openweathermap.org/data/2.5/weather'\n",
    "    resp = requests.get(url, params={\n",
    "        'q': city,\n",
    "        'units': units,\n",
    "        'appid': appid,        \n",
    "    })\n",
    "    json_data = resp.json()\n",
    "    return json_data['main']['temp']"
   ]
  },
  {
   "cell_type": "code",
   "execution_count": null,
   "metadata": {},
   "outputs": [],
   "source": [
    "import dispy\n",
    "MY_IP = '192.168.1.68'\n",
    "cluster = dispy.JobCluster(get_temp) # , ip_addr=MY_IP)"
   ]
  },
  {
   "cell_type": "markdown",
   "metadata": {},
   "source": [
    "Submit the jobs and retrieve their results"
   ]
  },
  {
   "cell_type": "code",
   "execution_count": 3,
   "metadata": {},
   "outputs": [],
   "source": [
    "jobs = [cluster.submit(city, UNITS, APPID) for city in cities]"
   ]
  },
  {
   "cell_type": "code",
   "execution_count": null,
   "metadata": {},
   "outputs": [],
   "source": [
    "for city, job in zip(cities, jobs):\n",
    "    print(city, job())"
   ]
  },
  {
   "cell_type": "code",
   "execution_count": null,
   "metadata": {},
   "outputs": [],
   "source": []
  }
 ],
 "metadata": {
  "kernelspec": {
   "display_name": "Python 3",
   "language": "python",
   "name": "python3"
  },
  "language_info": {
   "codemirror_mode": {
    "name": "ipython",
    "version": 3
   },
   "file_extension": ".py",
   "mimetype": "text/x-python",
   "name": "python",
   "nbconvert_exporter": "python",
   "pygments_lexer": "ipython3",
   "version": "3.7.2"
  }
 },
 "nbformat": 4,
 "nbformat_minor": 2
}
