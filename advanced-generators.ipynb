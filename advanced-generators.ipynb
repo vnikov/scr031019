{
 "cells": [
  {
   "cell_type": "markdown",
   "metadata": {},
   "source": [
    "# Generators and Coroutines"
   ]
  },
  {
   "cell_type": "markdown",
   "metadata": {},
   "source": [
    "## Processing Pipelines"
   ]
  },
  {
   "cell_type": "code",
   "execution_count": 1,
   "metadata": {},
   "outputs": [],
   "source": [
    "def gen_lines(filename):\n",
    "    \"\"\"This is a 'source', so it does not take a generator as input.\"\"\"\n",
    "    with open(filename) as fp:\n",
    "        for line in fp:\n",
    "            yield line"
   ]
  },
  {
   "cell_type": "code",
   "execution_count": 2,
   "metadata": {},
   "outputs": [],
   "source": [
    "def gstrip(gen):\n",
    "    for line in gen:\n",
    "        yield line.strip()"
   ]
  },
  {
   "cell_type": "code",
   "execution_count": 3,
   "metadata": {},
   "outputs": [],
   "source": [
    "def gdecomment(gen):\n",
    "    for line in gen:\n",
    "        if line.startswith('#'):\n",
    "            continue\n",
    "        yield line"
   ]
  },
  {
   "cell_type": "code",
   "execution_count": 4,
   "metadata": {},
   "outputs": [],
   "source": [
    "def gsplit(gen):\n",
    "    for line in gen:\n",
    "        yield line.split()"
   ]
  },
  {
   "cell_type": "code",
   "execution_count": 8,
   "metadata": {},
   "outputs": [
    {
     "name": "stdout",
     "output_type": "stream",
     "text": [
      "['127.0.0.1', 'localhost', 'localhost.carefol.io']\n",
      "['255.255.255.255', 'broadcasthost']\n",
      "['::1', 'localhost']\n",
      "['fe80::1%lo0', 'localhost']\n",
      "['127.0.0.1', 'eht_cf-web_1', 'eht_sso-web_1', 'eht_blob-web_1', 'eht_pcc-gw-web_1']\n"
     ]
    }
   ],
   "source": [
    "x = gen_lines('/etc/hosts')\n",
    "x = gstrip(x)\n",
    "x = gdecomment(x)\n",
    "x = gsplit(x)\n",
    "for line in x:\n",
    "    print(line)"
   ]
  },
  {
   "cell_type": "code",
   "execution_count": 9,
   "metadata": {},
   "outputs": [
    {
     "name": "stdout",
     "output_type": "stream",
     "text": [
      "['127.0.0.1', 'localhost', 'localhost.carefol.io']\n",
      "['255.255.255.255', 'broadcasthost']\n",
      "['::1', 'localhost']\n",
      "['fe80::1%lo0', 'localhost']\n",
      "['127.0.0.1', 'eht_cf-web_1', 'eht_sso-web_1', 'eht_blob-web_1', 'eht_pcc-gw-web_1']\n"
     ]
    }
   ],
   "source": [
    "x = gen_lines('/etc/hosts')\n",
    "x = (line.strip() for line in x)\n",
    "x = (line for line in x if not line.startswith('#'))\n",
    "x = (line for line in x if line)\n",
    "x = (line.split() for line in x)\n",
    "for line in x:\n",
    "    print(line)"
   ]
  },
  {
   "cell_type": "markdown",
   "metadata": {},
   "source": [
    "## Coroutines"
   ]
  },
  {
   "cell_type": "code",
   "execution_count": 10,
   "metadata": {},
   "outputs": [],
   "source": [
    "def simple_coro(name):\n",
    "    while True:\n",
    "        value = yield\n",
    "        print('coro {} got {}'.format(name, value))"
   ]
  },
  {
   "cell_type": "code",
   "execution_count": 11,
   "metadata": {},
   "outputs": [],
   "source": [
    "sc0 = simple_coro('sc0')\n",
    "sc1 = simple_coro('sc1')"
   ]
  },
  {
   "cell_type": "code",
   "execution_count": 12,
   "metadata": {},
   "outputs": [],
   "source": [
    "next(sc0)\n",
    "next(sc1)"
   ]
  },
  {
   "cell_type": "code",
   "execution_count": 13,
   "metadata": {},
   "outputs": [
    {
     "name": "stdout",
     "output_type": "stream",
     "text": [
      "coro sc0 got foo\n"
     ]
    }
   ],
   "source": [
    "sc0.send('foo')"
   ]
  },
  {
   "cell_type": "code",
   "execution_count": 14,
   "metadata": {},
   "outputs": [
    {
     "name": "stdout",
     "output_type": "stream",
     "text": [
      "coro sc1 got bar\n"
     ]
    }
   ],
   "source": [
    "sc1.send('bar')"
   ]
  },
  {
   "cell_type": "markdown",
   "metadata": {},
   "source": [
    "### Coroutine use case: Forked Processing Pipelines"
   ]
  },
  {
   "cell_type": "code",
   "execution_count": 15,
   "metadata": {},
   "outputs": [],
   "source": [
    "def handle_ipv4():\n",
    "    value = yield\n",
    "    while True:\n",
    "        if value is None:\n",
    "            break\n",
    "        value = yield ('Got IPV4 line: {}'.format(value))\n",
    "        \n",
    "def handle_ipv6():\n",
    "    value = yield\n",
    "    while True:\n",
    "        if value is None:\n",
    "            break\n",
    "        value = yield('Got IPV6 line: {}'.format(value))\n",
    "        \n",
    "ipv4_handler = handle_ipv4()\n",
    "ipv6_handler = handle_ipv6()\n",
    "\n",
    "# \"start\" the handlers\n",
    "next(ipv4_handler)\n",
    "next(ipv6_handler)\n",
    "        \n",
    "def splitter(gen):\n",
    "    for line in gen:\n",
    "        if '::' in line:\n",
    "            yield ipv6_handler.send(line)\n",
    "        else:\n",
    "            yield ipv4_handler.send(line)\n",
    "    ipv4_handler.send(None)\n",
    "    ipv6_handler.send(None)"
   ]
  },
  {
   "cell_type": "code",
   "execution_count": 16,
   "metadata": {},
   "outputs": [
    {
     "name": "stdout",
     "output_type": "stream",
     "text": [
      "Got IPV4 line: 127.0.0.1\tlocalhost localhost.carefol.io\n",
      "Got IPV4 line: 255.255.255.255\tbroadcasthost\n",
      "Got IPV6 line: ::1             localhost\n",
      "Got IPV6 line: fe80::1%lo0\tlocalhost\n",
      "Got IPV4 line: 127.0.0.1\teht_cf-web_1 eht_sso-web_1 eht_blob-web_1 eht_pcc-gw-web_1\n"
     ]
    },
    {
     "ename": "RuntimeError",
     "evalue": "generator raised StopIteration",
     "output_type": "error",
     "traceback": [
      "\u001b[0;31m---------------------------------------------------------------------------\u001b[0m",
      "\u001b[0;31mStopIteration\u001b[0m                             Traceback (most recent call last)",
      "\u001b[0;32m<ipython-input-15-56c45a1bb18a>\u001b[0m in \u001b[0;36msplitter\u001b[0;34m(gen)\u001b[0m\n\u001b[1;32m     27\u001b[0m             \u001b[0;32myield\u001b[0m \u001b[0mipv4_handler\u001b[0m\u001b[0;34m.\u001b[0m\u001b[0msend\u001b[0m\u001b[0;34m(\u001b[0m\u001b[0mline\u001b[0m\u001b[0;34m)\u001b[0m\u001b[0;34m\u001b[0m\u001b[0;34m\u001b[0m\u001b[0m\n\u001b[0;32m---> 28\u001b[0;31m     \u001b[0mipv4_handler\u001b[0m\u001b[0;34m.\u001b[0m\u001b[0msend\u001b[0m\u001b[0;34m(\u001b[0m\u001b[0;32mNone\u001b[0m\u001b[0;34m)\u001b[0m\u001b[0;34m\u001b[0m\u001b[0;34m\u001b[0m\u001b[0m\n\u001b[0m\u001b[1;32m     29\u001b[0m     \u001b[0mipv6_handler\u001b[0m\u001b[0;34m.\u001b[0m\u001b[0msend\u001b[0m\u001b[0;34m(\u001b[0m\u001b[0;32mNone\u001b[0m\u001b[0;34m)\u001b[0m\u001b[0;34m\u001b[0m\u001b[0;34m\u001b[0m\u001b[0m\n",
      "\u001b[0;31mStopIteration\u001b[0m: ",
      "\nThe above exception was the direct cause of the following exception:\n",
      "\u001b[0;31mRuntimeError\u001b[0m                              Traceback (most recent call last)",
      "\u001b[0;32m<ipython-input-16-5899ad88a8a6>\u001b[0m in \u001b[0;36m<module>\u001b[0;34m\u001b[0m\n\u001b[1;32m      3\u001b[0m \u001b[0mx\u001b[0m \u001b[0;34m=\u001b[0m \u001b[0mgdecomment\u001b[0m\u001b[0;34m(\u001b[0m\u001b[0mx\u001b[0m\u001b[0;34m)\u001b[0m\u001b[0;34m\u001b[0m\u001b[0;34m\u001b[0m\u001b[0m\n\u001b[1;32m      4\u001b[0m \u001b[0mx\u001b[0m \u001b[0;34m=\u001b[0m \u001b[0msplitter\u001b[0m\u001b[0;34m(\u001b[0m\u001b[0mx\u001b[0m\u001b[0;34m)\u001b[0m\u001b[0;34m\u001b[0m\u001b[0;34m\u001b[0m\u001b[0m\n\u001b[0;32m----> 5\u001b[0;31m \u001b[0;32mfor\u001b[0m \u001b[0mline\u001b[0m \u001b[0;32min\u001b[0m \u001b[0mx\u001b[0m\u001b[0;34m:\u001b[0m\u001b[0;34m\u001b[0m\u001b[0;34m\u001b[0m\u001b[0m\n\u001b[0m\u001b[1;32m      6\u001b[0m     \u001b[0mprint\u001b[0m\u001b[0;34m(\u001b[0m\u001b[0mline\u001b[0m\u001b[0;34m)\u001b[0m\u001b[0;34m\u001b[0m\u001b[0;34m\u001b[0m\u001b[0m\n",
      "\u001b[0;31mRuntimeError\u001b[0m: generator raised StopIteration"
     ]
    }
   ],
   "source": [
    "x = gen_lines('/etc/hosts')\n",
    "x = gstrip(x)\n",
    "x = gdecomment(x)\n",
    "x = splitter(x)\n",
    "for line in x:\n",
    "    print(line)"
   ]
  },
  {
   "cell_type": "markdown",
   "metadata": {},
   "source": [
    "# Event streams"
   ]
  },
  {
   "cell_type": "code",
   "execution_count": 18,
   "metadata": {},
   "outputs": [],
   "source": [
    "def every_xs(x):\n",
    "    for i in range(5):\n",
    "        name = yield x\n",
    "        print('{}: every_xs({}, {})'.format(name, x, i))\n"
   ]
  },
  {
   "cell_type": "code",
   "execution_count": 19,
   "metadata": {},
   "outputs": [],
   "source": [
    "import heapq\n",
    "\n",
    "every_1s = every_xs(1)\n",
    "every_2s = every_xs(2)\n",
    "every_3s = every_xs(3)\n",
    "\n",
    "def ev_loop(coros):\n",
    "    now = 0\n",
    "    events = []\n",
    "    # Initialize coroutines\n",
    "    for name, coro in coros.items():\n",
    "        when = next(coro)\n",
    "        heapq.heappush(events, (when + now, name, coro))\n",
    "        \n",
    "    while events:\n",
    "        new_now, name, coro = heapq.heappop(events)\n",
    "        if new_now != now:\n",
    "            print('=== {} ==='.format(new_now))\n",
    "            now = new_now\n",
    "        try:\n",
    "            offset = coro.send(name)\n",
    "            sched = offset + now\n",
    "            # print '{}: scheduled next event for {}'.format(name, offset+now)\n",
    "            heapq.heappush(events, (offset + now, name, coro))\n",
    "        except StopIteration:\n",
    "            continue\n",
    "        \n",
    "        "
   ]
  },
  {
   "cell_type": "code",
   "execution_count": 20,
   "metadata": {},
   "outputs": [
    {
     "name": "stdout",
     "output_type": "stream",
     "text": [
      "=== 1 ===\n",
      "1s: every_xs(1, 0)\n",
      "=== 2 ===\n",
      "1s: every_xs(1, 1)\n",
      "2s: every_xs(2, 0)\n",
      "=== 3 ===\n",
      "1s: every_xs(1, 2)\n",
      "3s: every_xs(3, 0)\n",
      "=== 4 ===\n",
      "1s: every_xs(1, 3)\n",
      "2s: every_xs(2, 1)\n",
      "=== 5 ===\n",
      "1s: every_xs(1, 4)\n",
      "=== 6 ===\n",
      "2s: every_xs(2, 2)\n",
      "3s: every_xs(3, 1)\n",
      "=== 8 ===\n",
      "2s: every_xs(2, 3)\n",
      "=== 9 ===\n",
      "3s: every_xs(3, 2)\n",
      "=== 10 ===\n",
      "2s: every_xs(2, 4)\n",
      "=== 12 ===\n",
      "3s: every_xs(3, 3)\n",
      "=== 15 ===\n",
      "3s: every_xs(3, 4)\n"
     ]
    }
   ],
   "source": [
    "ev_loop({'1s': every_1s, '2s': every_2s, '3s': every_3s})"
   ]
  },
  {
   "cell_type": "code",
   "execution_count": 21,
   "metadata": {},
   "outputs": [],
   "source": [
    "def every_xs(sim, x):\n",
    "    while True:\n",
    "        print('Yielding from every_xs({})'.format(x))\n",
    "        yield sim.delay(x)\n"
   ]
  },
  {
   "cell_type": "code",
   "execution_count": 22,
   "metadata": {},
   "outputs": [],
   "source": [
    "class Event(object):\n",
    "    \n",
    "    def __init__(self, when, coro):\n",
    "        self.when = when\n",
    "        self.coro = coro\n",
    "        \n",
    "    def __lt__(self, other):\n",
    "        return self.when < other.when\n",
    "\n",
    "class Simulator(object):\n",
    "\n",
    "    def __init__(self):\n",
    "        self.now = 0\n",
    "        self.events = []\n",
    "        self.current = None\n",
    "\n",
    "    def run(self, coro):\n",
    "        try:\n",
    "            self.current = coro\n",
    "            ev = next(coro)\n",
    "            offset, coro = ev.when, ev.coro\n",
    "            heapq.heappush(self.events, Event(self.now + offset, coro))\n",
    "        except StopIteration:\n",
    "            pass\n",
    "        \n",
    "    def simulate(self, max_time=10):\n",
    "        while self.events and self.now <= max_time:\n",
    "            ev = heapq.heappop(self.events)\n",
    "            self.now, self.current = ev.when, ev.coro\n",
    "            try:\n",
    "                ev = self.current.send(sim)\n",
    "                offset, coro = ev.when, ev.coro\n",
    "                heapq.heappush(self.events, Event(self.now + offset, coro))\n",
    "            except StopIteration:\n",
    "                pass\n",
    "        print('Simulation terminated at', self.now)\n",
    "\n",
    "            \n",
    "    def delay(self, seconds):\n",
    "        return Event(seconds, self.current)\n",
    "        "
   ]
  },
  {
   "cell_type": "code",
   "execution_count": 23,
   "metadata": {},
   "outputs": [
    {
     "name": "stdout",
     "output_type": "stream",
     "text": [
      "Yielding from every_xs(1)\n",
      "Yielding from every_xs(2)\n",
      "Yielding from every_xs(3)\n"
     ]
    }
   ],
   "source": [
    "sim = Simulator()\n",
    "sim.run(every_xs(sim, 1))\n",
    "sim.run(every_xs(sim, 2))\n",
    "sim.run(every_xs(sim, 3))"
   ]
  },
  {
   "cell_type": "code",
   "execution_count": 24,
   "metadata": {},
   "outputs": [
    {
     "name": "stdout",
     "output_type": "stream",
     "text": [
      "Yielding from every_xs(1)\n",
      "Yielding from every_xs(2)\n",
      "Yielding from every_xs(1)\n",
      "Yielding from every_xs(3)\n",
      "Yielding from every_xs(1)\n",
      "Yielding from every_xs(2)\n",
      "Yielding from every_xs(1)\n",
      "Yielding from every_xs(1)\n",
      "Yielding from every_xs(2)\n",
      "Yielding from every_xs(3)\n",
      "Yielding from every_xs(1)\n",
      "Yielding from every_xs(1)\n",
      "Yielding from every_xs(2)\n",
      "Yielding from every_xs(1)\n",
      "Yielding from every_xs(3)\n",
      "Yielding from every_xs(1)\n",
      "Yielding from every_xs(2)\n",
      "Yielding from every_xs(1)\n",
      "Yielding from every_xs(1)\n",
      "Simulation terminated at 11\n"
     ]
    }
   ],
   "source": [
    "sim.simulate()"
   ]
  },
  {
   "cell_type": "markdown",
   "metadata": {},
   "source": [
    "### Event streams use case: Asynchronous I/O\n",
    "\n",
    "Asynchronous I/O can use event streams and coroutines to provide 'thread-like' syntax.\n",
    "\n",
    "1. A top-level event loop is created to handle events\n",
    "1. Each coroutine runs until it yields an object to 'wait' on -- call it an 'awaitable'. (This could be a socket that we are receiving data from.) The 'yield' goes to the event loop.\n",
    "1. The event loop generally has a `select` or `poll` statement that checks for available data on all its awaitable objects.\n",
    "1. When the 'awaitable' has data, that data is \"sent\" into the coroutine, which picks up *as though it had blocked waiting on data*\n"
   ]
  },
  {
   "cell_type": "markdown",
   "metadata": {},
   "source": [
    "Open [Advanced Generators Lab](./advanced-generators-lab.ipynb)"
   ]
  }
 ],
 "metadata": {
  "kernelspec": {
   "display_name": "Python 3",
   "language": "python",
   "name": "python3"
  },
  "language_info": {
   "codemirror_mode": {
    "name": "ipython",
    "version": 3
   },
   "file_extension": ".py",
   "mimetype": "text/x-python",
   "name": "python",
   "nbconvert_exporter": "python",
   "pygments_lexer": "ipython3",
   "version": "3.7.2"
  }
 },
 "nbformat": 4,
 "nbformat_minor": 1
}
