{
 "cells": [
  {
   "cell_type": "markdown",
   "metadata": {},
   "source": [
    "# Generators and Iterators\n",
    "\n",
    "![Iterables and Iterators](./data/img/Iterable.png)"
   ]
  },
  {
   "cell_type": "markdown",
   "metadata": {},
   "source": [
    "## Building your own generators with `yield`"
   ]
  },
  {
   "cell_type": "code",
   "execution_count": 1,
   "metadata": {},
   "outputs": [],
   "source": [
    "def counter(start, end):\n",
    "    current = start\n",
    "    while current < end:\n",
    "        yield current\n",
    "        current += 1"
   ]
  },
  {
   "cell_type": "code",
   "execution_count": 2,
   "metadata": {},
   "outputs": [
    {
     "data": {
      "text/plain": [
       "<generator object counter at 0x1047b9a98>"
      ]
     },
     "execution_count": 2,
     "metadata": {},
     "output_type": "execute_result"
    }
   ],
   "source": [
    "counter(1, 10)"
   ]
  },
  {
   "cell_type": "code",
   "execution_count": 3,
   "metadata": {},
   "outputs": [
    {
     "data": {
      "text/plain": [
       "1"
      ]
     },
     "execution_count": 3,
     "metadata": {},
     "output_type": "execute_result"
    }
   ],
   "source": [
    "x = counter(1,10)\n",
    "next(x)"
   ]
  },
  {
   "cell_type": "code",
   "execution_count": 4,
   "metadata": {},
   "outputs": [
    {
     "data": {
      "text/plain": [
       "2"
      ]
     },
     "execution_count": 4,
     "metadata": {},
     "output_type": "execute_result"
    }
   ],
   "source": [
    "next(x)"
   ]
  },
  {
   "cell_type": "code",
   "execution_count": 5,
   "metadata": {},
   "outputs": [
    {
     "data": {
      "text/plain": [
       "3"
      ]
     },
     "execution_count": 5,
     "metadata": {},
     "output_type": "execute_result"
    }
   ],
   "source": [
    "next(x)"
   ]
  },
  {
   "cell_type": "code",
   "execution_count": 6,
   "metadata": {},
   "outputs": [
    {
     "data": {
      "text/plain": [
       "[1, 2, 3, 4, 5, 6, 7, 8, 9]"
      ]
     },
     "execution_count": 6,
     "metadata": {},
     "output_type": "execute_result"
    }
   ],
   "source": [
    "x = counter(1,10)\n",
    "list(x)"
   ]
  },
  {
   "cell_type": "code",
   "execution_count": 7,
   "metadata": {},
   "outputs": [
    {
     "name": "stdout",
     "output_type": "stream",
     "text": [
      "1 2 3 4 5 6 7 8 9 "
     ]
    }
   ],
   "source": [
    "for item in counter(1, 10):\n",
    "    print(item, end=' ')"
   ]
  },
  {
   "cell_type": "markdown",
   "metadata": {},
   "source": [
    "`yield` can also be used as a expression, along with the `send()` method"
   ]
  },
  {
   "cell_type": "code",
   "execution_count": 8,
   "metadata": {},
   "outputs": [],
   "source": [
    "def accumulator(start=0):\n",
    "    current = start\n",
    "    while True:\n",
    "        current += yield current"
   ]
  },
  {
   "cell_type": "code",
   "execution_count": 9,
   "metadata": {},
   "outputs": [
    {
     "data": {
      "text/plain": [
       "0"
      ]
     },
     "execution_count": 9,
     "metadata": {},
     "output_type": "execute_result"
    }
   ],
   "source": [
    "x = accumulator()\n",
    "next(x)"
   ]
  },
  {
   "cell_type": "code",
   "execution_count": 10,
   "metadata": {},
   "outputs": [
    {
     "data": {
      "text/plain": [
       "1"
      ]
     },
     "execution_count": 10,
     "metadata": {},
     "output_type": "execute_result"
    }
   ],
   "source": [
    "x.send(1)"
   ]
  },
  {
   "cell_type": "code",
   "execution_count": 11,
   "metadata": {},
   "outputs": [
    {
     "data": {
      "text/plain": [
       "2"
      ]
     },
     "execution_count": 11,
     "metadata": {},
     "output_type": "execute_result"
    }
   ],
   "source": [
    "x.send(1)"
   ]
  },
  {
   "cell_type": "code",
   "execution_count": 12,
   "metadata": {},
   "outputs": [
    {
     "data": {
      "text/plain": [
       "12"
      ]
     },
     "execution_count": 12,
     "metadata": {},
     "output_type": "execute_result"
    }
   ],
   "source": [
    "x.send(10)"
   ]
  },
  {
   "cell_type": "markdown",
   "metadata": {},
   "source": [
    "## The iterator protocol\n",
    "\n",
    "What does `for x in sequence:` *really* do?"
   ]
  },
  {
   "cell_type": "code",
   "execution_count": 13,
   "metadata": {},
   "outputs": [
    {
     "name": "stdout",
     "output_type": "stream",
     "text": [
      "0\n",
      "1\n",
      "2\n",
      "3\n"
     ]
    }
   ],
   "source": [
    "seq = range(4)\n",
    "for x in seq: \n",
    "    print(x)"
   ]
  },
  {
   "cell_type": "code",
   "execution_count": 14,
   "metadata": {},
   "outputs": [
    {
     "name": "stdout",
     "output_type": "stream",
     "text": [
      "<range_iterator object at 0x104803540>\n"
     ]
    }
   ],
   "source": [
    "iter_seq = iter(seq)\n",
    "print(iter_seq)"
   ]
  },
  {
   "cell_type": "code",
   "execution_count": 15,
   "metadata": {},
   "outputs": [
    {
     "name": "stdout",
     "output_type": "stream",
     "text": [
      "0\n",
      "1\n",
      "2\n",
      "3\n"
     ]
    }
   ],
   "source": [
    "iter_seq = iter(seq)\n",
    "try:\n",
    "    while True:\n",
    "        x = next(iter_seq)\n",
    "        print(x)\n",
    "except StopIteration:\n",
    "    pass"
   ]
  },
  {
   "cell_type": "code",
   "execution_count": 16,
   "metadata": {},
   "outputs": [
    {
     "data": {
      "text/plain": [
       "1"
      ]
     },
     "execution_count": 16,
     "metadata": {},
     "output_type": "execute_result"
    }
   ],
   "source": [
    "lst = [1,2,3]\n",
    "next(iter(lst))"
   ]
  },
  {
   "cell_type": "code",
   "execution_count": 17,
   "metadata": {},
   "outputs": [],
   "source": [
    "li = iter([1,2,3])"
   ]
  },
  {
   "cell_type": "code",
   "execution_count": 21,
   "metadata": {},
   "outputs": [
    {
     "ename": "StopIteration",
     "evalue": "",
     "output_type": "error",
     "traceback": [
      "\u001b[0;31m---------------------------------------------------------------------------\u001b[0m",
      "\u001b[0;31mStopIteration\u001b[0m                             Traceback (most recent call last)",
      "\u001b[0;32m<ipython-input-21-c9b8845252db>\u001b[0m in \u001b[0;36m<module>\u001b[0;34m\u001b[0m\n\u001b[0;32m----> 1\u001b[0;31m \u001b[0mnext\u001b[0m\u001b[0;34m(\u001b[0m\u001b[0mli\u001b[0m\u001b[0;34m)\u001b[0m\u001b[0;34m\u001b[0m\u001b[0;34m\u001b[0m\u001b[0m\n\u001b[0m",
      "\u001b[0;31mStopIteration\u001b[0m: "
     ]
    }
   ],
   "source": [
    "next(li)"
   ]
  },
  {
   "cell_type": "markdown",
   "metadata": {},
   "source": [
    "Generators are their own iterators:"
   ]
  },
  {
   "cell_type": "code",
   "execution_count": 22,
   "metadata": {},
   "outputs": [
    {
     "name": "stdout",
     "output_type": "stream",
     "text": [
      "<generator object counter at 0x10487bb10>\n",
      "<generator object counter at 0x10487bb10>\n"
     ]
    },
    {
     "data": {
      "text/plain": [
       "True"
      ]
     },
     "execution_count": 22,
     "metadata": {},
     "output_type": "execute_result"
    }
   ],
   "source": [
    "x = counter(0, 4)\n",
    "print(x)\n",
    "print(iter(x))\n",
    "x is iter(x)"
   ]
  },
  {
   "cell_type": "code",
   "execution_count": 23,
   "metadata": {},
   "outputs": [
    {
     "name": "stdout",
     "output_type": "stream",
     "text": [
      "0\n",
      "1\n",
      "2\n",
      "3\n"
     ]
    }
   ],
   "source": [
    "for item in counter(0, 4): \n",
    "    print(item)"
   ]
  },
  {
   "cell_type": "code",
   "execution_count": 24,
   "metadata": {},
   "outputs": [
    {
     "ename": "StopIteration",
     "evalue": "",
     "output_type": "error",
     "traceback": [
      "\u001b[0;31m---------------------------------------------------------------------------\u001b[0m",
      "\u001b[0;31mStopIteration\u001b[0m                             Traceback (most recent call last)",
      "\u001b[0;32m<ipython-input-24-b1b414e633b5>\u001b[0m in \u001b[0;36m<module>\u001b[0;34m\u001b[0m\n\u001b[1;32m      1\u001b[0m \u001b[0mx\u001b[0m \u001b[0;34m=\u001b[0m \u001b[0mcounter\u001b[0m\u001b[0;34m(\u001b[0m\u001b[0;36m0\u001b[0m\u001b[0;34m,\u001b[0m \u001b[0;36m4\u001b[0m\u001b[0;34m)\u001b[0m\u001b[0;34m\u001b[0m\u001b[0;34m\u001b[0m\u001b[0m\n\u001b[1;32m      2\u001b[0m \u001b[0;32mwhile\u001b[0m \u001b[0;32mTrue\u001b[0m\u001b[0;34m:\u001b[0m\u001b[0;34m\u001b[0m\u001b[0;34m\u001b[0m\u001b[0m\n\u001b[0;32m----> 3\u001b[0;31m     \u001b[0mnext\u001b[0m\u001b[0;34m(\u001b[0m\u001b[0mx\u001b[0m\u001b[0;34m)\u001b[0m\u001b[0;34m\u001b[0m\u001b[0;34m\u001b[0m\u001b[0m\n\u001b[0m",
      "\u001b[0;31mStopIteration\u001b[0m: "
     ]
    }
   ],
   "source": [
    "x = counter(0, 4)\n",
    "while True:\n",
    "    next(x)"
   ]
  },
  {
   "cell_type": "markdown",
   "metadata": {},
   "source": [
    "We can also define our own iterator classes (though generators are usually more readable):"
   ]
  },
  {
   "cell_type": "code",
   "execution_count": 25,
   "metadata": {},
   "outputs": [
    {
     "name": "stdout",
     "output_type": "stream",
     "text": [
      "[0, 1, 2, 3, 4]\n"
     ]
    }
   ],
   "source": [
    "class Counter(object):\n",
    "    def __init__(self, start, end):\n",
    "        self._start = start\n",
    "        self._end = end\n",
    "    def __iter__(self):\n",
    "        '''This is often implemented as a generator function'''\n",
    "        return CounterIterator(self._start, self._end)\n",
    "    \n",
    "class CounterIterator(object):\n",
    "    def __init__(self, start, end):\n",
    "        self._cur = start\n",
    "        self._end = end\n",
    "    def __next__(self):\n",
    "        result = self._cur\n",
    "        self._cur += 1\n",
    "        if result < self._end:\n",
    "            return result\n",
    "        else:\n",
    "            raise StopIteration\n",
    "\n",
    "ctr = Counter(0, 5)\n",
    "print(list(ctr))"
   ]
  },
  {
   "cell_type": "markdown",
   "metadata": {},
   "source": [
    "# Set and dict comprehensions"
   ]
  },
  {
   "cell_type": "code",
   "execution_count": 28,
   "metadata": {},
   "outputs": [
    {
     "data": {
      "text/plain": [
       "{0, 1, 2, 3}"
      ]
     },
     "execution_count": 28,
     "metadata": {},
     "output_type": "execute_result"
    }
   ],
   "source": [
    "{x for x in range(4)}"
   ]
  },
  {
   "cell_type": "code",
   "execution_count": 29,
   "metadata": {},
   "outputs": [
    {
     "data": {
      "text/plain": [
       "{0: 'y', 1: 'y', 2: 'y', 3: 'y'}"
      ]
     },
     "execution_count": 29,
     "metadata": {},
     "output_type": "execute_result"
    }
   ],
   "source": [
    "{x:'y' for x in range(4)}"
   ]
  },
  {
   "cell_type": "markdown",
   "metadata": {},
   "source": [
    "## Generator expressions"
   ]
  },
  {
   "cell_type": "code",
   "execution_count": 30,
   "metadata": {},
   "outputs": [
    {
     "data": {
      "text/plain": [
       "[0, 2, 4, 6, 8]"
      ]
     },
     "execution_count": 30,
     "metadata": {},
     "output_type": "execute_result"
    }
   ],
   "source": [
    "[ x for x in range(10) if x % 2 == 0 ]"
   ]
  },
  {
   "cell_type": "code",
   "execution_count": 31,
   "metadata": {},
   "outputs": [
    {
     "data": {
      "text/plain": [
       "<generator object <genexpr> at 0x10487ba98>"
      ]
     },
     "execution_count": 31,
     "metadata": {},
     "output_type": "execute_result"
    }
   ],
   "source": [
    "( x for x in range(10) if x % 2 == 0 )"
   ]
  },
  {
   "cell_type": "code",
   "execution_count": 32,
   "metadata": {},
   "outputs": [],
   "source": [
    "gen = ( x for x in range(10) if x % 2 == 0 )"
   ]
  },
  {
   "cell_type": "code",
   "execution_count": 33,
   "metadata": {},
   "outputs": [
    {
     "data": {
      "text/plain": [
       "0"
      ]
     },
     "execution_count": 33,
     "metadata": {},
     "output_type": "execute_result"
    }
   ],
   "source": [
    "next(gen)"
   ]
  },
  {
   "cell_type": "code",
   "execution_count": 34,
   "metadata": {},
   "outputs": [
    {
     "data": {
      "text/plain": [
       "2"
      ]
     },
     "execution_count": 34,
     "metadata": {},
     "output_type": "execute_result"
    }
   ],
   "source": [
    "next(gen)"
   ]
  },
  {
   "cell_type": "code",
   "execution_count": 35,
   "metadata": {},
   "outputs": [
    {
     "data": {
      "text/plain": [
       "[4, 6, 8]"
      ]
     },
     "execution_count": 35,
     "metadata": {},
     "output_type": "execute_result"
    }
   ],
   "source": [
    "list(gen)"
   ]
  },
  {
   "cell_type": "markdown",
   "metadata": {},
   "source": [
    "## The `itertools` module\n",
    "\n",
    "`itertools` provides a number of \"higher-order iterators\" that allow you to combine iterators in interesting ways."
   ]
  },
  {
   "cell_type": "code",
   "execution_count": 36,
   "metadata": {},
   "outputs": [],
   "source": [
    "from itertools import chain, count, groupby"
   ]
  },
  {
   "cell_type": "code",
   "execution_count": 37,
   "metadata": {},
   "outputs": [
    {
     "data": {
      "text/plain": [
       "[0, 1, 2, 3, 4, 5, 6, 7, 8, 9, 'a', 'b', 'c', 'd', 'e', 'f']"
      ]
     },
     "execution_count": 37,
     "metadata": {},
     "output_type": "execute_result"
    }
   ],
   "source": [
    "# chain links multiple iterators end-to-end\n",
    "xs = range(10)\n",
    "ys = 'abcdef'\n",
    "list(chain(xs, ys))\n"
   ]
  },
  {
   "cell_type": "code",
   "execution_count": 38,
   "metadata": {},
   "outputs": [
    {
     "data": {
      "text/plain": [
       "{'a': 'A',\n",
       " 'b': 'B',\n",
       " 'c': 'C',\n",
       " 'd': 'D',\n",
       " 'e': 'E',\n",
       " 'f': 'F',\n",
       " 'g': 'G',\n",
       " 'h': 'H',\n",
       " 'i': 'I',\n",
       " 'j': 'J'}"
      ]
     },
     "execution_count": 38,
     "metadata": {},
     "output_type": "execute_result"
    }
   ],
   "source": [
    "# The Python 3 built-in \"zip\" lets us iteratively zip multiple iterators. \n",
    "#  Useful when building a giant dictionary:\n",
    "import string\n",
    "dict(zip(string.ascii_lowercase, string.ascii_uppercase[:10]))"
   ]
  },
  {
   "cell_type": "code",
   "execution_count": 41,
   "metadata": {},
   "outputs": [
    {
     "name": "stdout",
     "output_type": "stream",
     "text": [
      "0 a\n",
      "1 b\n",
      "2 c\n",
      "3 d\n",
      "4 e\n",
      "5 f\n",
      "6 g\n",
      "7 h\n",
      "8 i\n",
      "9 j\n"
     ]
    }
   ],
   "source": [
    "# count() gives us a simple iterator of consecutive values\n",
    "\n",
    "for i, letter in zip(count(), string.ascii_letters[:10]):\n",
    "    print(i, letter)"
   ]
  },
  {
   "cell_type": "code",
   "execution_count": 42,
   "metadata": {},
   "outputs": [
    {
     "name": "stdout",
     "output_type": "stream",
     "text": [
      "0 a\n",
      "1 b\n",
      "2 c\n",
      "3 d\n",
      "4 e\n",
      "5 f\n",
      "6 g\n",
      "7 h\n",
      "8 i\n",
      "9 j\n"
     ]
    }
   ],
   "source": [
    "for i, letter in enumerate(string.ascii_letters[:10]):\n",
    "    print(i, letter)"
   ]
  },
  {
   "cell_type": "code",
   "execution_count": 44,
   "metadata": {},
   "outputs": [
    {
     "name": "stdout",
     "output_type": "stream",
     "text": [
      "0 a\n",
      "1 b\n",
      "2 c\n",
      "3 d\n",
      "4 e\n",
      "5 f\n",
      "6 g\n",
      "7 h\n",
      "8 i\n",
      "9 j\n"
     ]
    }
   ],
   "source": [
    "# Python anti-pattern\n",
    "for i in range(len(string.ascii_letters[:10])):\n",
    "    print(i, string.ascii_letters[i])"
   ]
  },
  {
   "cell_type": "code",
   "execution_count": 45,
   "metadata": {
    "scrolled": true
   },
   "outputs": [
    {
     "name": "stdout",
     "output_type": "stream",
     "text": [
      "a A\n",
      "b B\n",
      "c C\n",
      "d D\n",
      "e E\n",
      "f F\n",
      "g G\n",
      "h H\n",
      "i I\n",
      "j J\n"
     ]
    }
   ],
   "source": [
    "# also an anti-pattern\n",
    "d = dict(zip(string.ascii_lowercase, string.ascii_uppercase[:10]))\n",
    "for key in d.keys():\n",
    "    print(key, d[key])"
   ]
  },
  {
   "cell_type": "code",
   "execution_count": 46,
   "metadata": {},
   "outputs": [
    {
     "name": "stdout",
     "output_type": "stream",
     "text": [
      "a A\n",
      "b B\n",
      "c C\n",
      "d D\n",
      "e E\n",
      "f F\n",
      "g G\n",
      "h H\n",
      "i I\n",
      "j J\n"
     ]
    }
   ],
   "source": [
    "for key, value in d.items():\n",
    "    print(key, value)"
   ]
  },
  {
   "cell_type": "markdown",
   "metadata": {},
   "source": [
    "`groupby()` allows us to efficiently group values from an iterator into sub-values. For instance, we might have \n",
    "some datetime-based data that we wish to convert to date-based data:"
   ]
  },
  {
   "cell_type": "code",
   "execution_count": 47,
   "metadata": {
    "scrolled": true
   },
   "outputs": [
    {
     "name": "stdout",
     "output_type": "stream",
     "text": [
      "72\n"
     ]
    }
   ],
   "source": [
    "from random import random\n",
    "from datetime import datetime, timedelta\n",
    "\n",
    "trades = []\n",
    "dt = datetime(2016, 4, 24)\n",
    "while dt < datetime(2016,4,27):\n",
    "    trades.append((dt, random()))\n",
    "    dt += timedelta(hours=1)\n",
    "    \n",
    "print(len(trades))"
   ]
  },
  {
   "cell_type": "code",
   "execution_count": 48,
   "metadata": {},
   "outputs": [
    {
     "data": {
      "text/plain": [
       "[(datetime.datetime(2016, 4, 24, 0, 0), 0.6363691011690938),\n",
       " (datetime.datetime(2016, 4, 24, 1, 0), 0.941980976478694),\n",
       " (datetime.datetime(2016, 4, 24, 2, 0), 0.6816797774688172),\n",
       " (datetime.datetime(2016, 4, 24, 3, 0), 0.3347369245158667),\n",
       " (datetime.datetime(2016, 4, 24, 4, 0), 0.6706804431247804),\n",
       " (datetime.datetime(2016, 4, 24, 5, 0), 0.1088018258678417),\n",
       " (datetime.datetime(2016, 4, 24, 6, 0), 0.23118409602610024),\n",
       " (datetime.datetime(2016, 4, 24, 7, 0), 0.6398874603601146),\n",
       " (datetime.datetime(2016, 4, 24, 8, 0), 0.8154780111525243),\n",
       " (datetime.datetime(2016, 4, 24, 9, 0), 0.9474772640921865)]"
      ]
     },
     "execution_count": 48,
     "metadata": {},
     "output_type": "execute_result"
    }
   ],
   "source": [
    "trades[:10]"
   ]
  },
  {
   "cell_type": "code",
   "execution_count": 49,
   "metadata": {},
   "outputs": [
    {
     "name": "stdout",
     "output_type": "stream",
     "text": [
      "2016-04-24 24\n",
      "2016-04-25 24\n",
      "2016-04-26 24\n"
     ]
    }
   ],
   "source": [
    "def day_of_trade(val):\n",
    "    dt, value = val\n",
    "    return dt.date()\n",
    "\n",
    "for date, date_trades in groupby(trades, key=day_of_trade):\n",
    "    print(date, len(list(date_trades)))\n"
   ]
  },
  {
   "cell_type": "code",
   "execution_count": 50,
   "metadata": {},
   "outputs": [
    {
     "name": "stdout",
     "output_type": "stream",
     "text": [
      "2016-04-24 0.5952232111595388\n",
      "2016-04-25 0.5515716800929288\n",
      "2016-04-26 0.5612704896979277\n"
     ]
    }
   ],
   "source": [
    "for date, date_trades in groupby(trades, key=day_of_trade):\n",
    "    date_trades = list(date_trades)\n",
    "    print(date, sum(v for dt, v in date_trades) / len(date_trades))\n"
   ]
  },
  {
   "cell_type": "code",
   "execution_count": 51,
   "metadata": {},
   "outputs": [
    {
     "name": "stdout",
     "output_type": "stream",
     "text": [
      "2016-04-26 0.8618632021800706\n",
      "2016-04-24 0.03463216890611387\n",
      "2016-04-26 0.5034362014200177\n",
      "2016-04-24 0.8217457738231302\n",
      "2016-04-26 0.6856487853387871\n",
      "2016-04-24 0.6876206046062708\n",
      "2016-04-25 0.7290178490309717\n",
      "2016-04-26 0.6157217254812255\n",
      "2016-04-25 0.11236940666162587\n",
      "2016-04-26 0.8114640829487815\n",
      "2016-04-24 0.13379546765039618\n",
      "2016-04-26 0.14685095281773164\n",
      "2016-04-24 0.4525109139307667\n",
      "2016-04-25 0.6525766183456034\n",
      "2016-04-26 0.7417756322333598\n",
      "2016-04-25 0.4156709392751674\n",
      "2016-04-24 0.9506701760615054\n",
      "2016-04-26 0.2983440271598172\n",
      "2016-04-24 0.9346406325356714\n",
      "2016-04-26 0.3023205259493519\n",
      "2016-04-25 0.8900980119836835\n",
      "2016-04-26 0.7348038221661314\n",
      "2016-04-25 0.5891213694177395\n",
      "2016-04-26 0.9765010329642905\n",
      "2016-04-25 0.4734825422922362\n",
      "2016-04-26 0.9355769113218811\n",
      "2016-04-25 0.622229169869006\n",
      "2016-04-26 0.21830438893716025\n",
      "2016-04-25 0.48414748672297875\n",
      "2016-04-24 0.3095055882970113\n",
      "2016-04-25 0.8077164421763458\n",
      "2016-04-24 0.6454367493968538\n",
      "2016-04-26 0.5054741916492135\n",
      "2016-04-24 0.5281395449800141\n",
      "2016-04-25 0.582376621444923\n",
      "2016-04-24 0.6556599070010509\n",
      "2016-04-25 0.1194649669006137\n",
      "2016-04-26 0.8929256274212894\n",
      "2016-04-25 0.45320148365576707\n",
      "2016-04-24 0.6694737529265873\n",
      "2016-04-26 0.4706044531053891\n",
      "2016-04-24 0.6398874603601146\n",
      "2016-04-26 0.5995134152275264\n",
      "2016-04-25 0.5782331130021165\n",
      "2016-04-26 0.23232443149791038\n",
      "2016-04-25 0.6139474412016483\n",
      "2016-04-26 0.36965539794222\n",
      "2016-04-24 0.754322901290538\n",
      "2016-04-26 0.9955582074226008\n",
      "2016-04-25 0.5931073883768289\n",
      "2016-04-24 0.5610104027825727\n",
      "2016-04-25 0.597863172553074\n"
     ]
    }
   ],
   "source": [
    "import random\n",
    "random.shuffle(trades)\n",
    "\n",
    "for date, date_trades in groupby(trades, key=day_of_trade):\n",
    "    date_trades = list(date_trades)\n",
    "    print(date, sum(v for dt, v in date_trades) / len(list(date_trades)))\n"
   ]
  },
  {
   "cell_type": "markdown",
   "metadata": {},
   "source": [
    "### Note that your data *must* already be sorted in a \"grouped\" order if you use `groupby`. If you wish to group *unsorted* data, you should use a `defaultdict` instead."
   ]
  },
  {
   "cell_type": "markdown",
   "metadata": {},
   "source": [
    "# Lab\n",
    "\n",
    "Open [Generators and Iterators Lab][iteration-lab]\n",
    "\n",
    "[iteration-lab]: ./iteration-lab.ipynb"
   ]
  },
  {
   "cell_type": "code",
   "execution_count": null,
   "metadata": {},
   "outputs": [],
   "source": []
  }
 ],
 "metadata": {
  "kernelspec": {
   "display_name": "Python 3",
   "language": "python",
   "name": "python3"
  },
  "language_info": {
   "codemirror_mode": {
    "name": "ipython",
    "version": 3
   },
   "file_extension": ".py",
   "mimetype": "text/x-python",
   "name": "python",
   "nbconvert_exporter": "python",
   "pygments_lexer": "ipython3",
   "version": "3.7.2"
  }
 },
 "nbformat": 4,
 "nbformat_minor": 1
}
