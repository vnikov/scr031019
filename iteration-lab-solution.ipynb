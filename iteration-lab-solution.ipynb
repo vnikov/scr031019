{
 "cells": [
  {
   "cell_type": "markdown",
   "metadata": {
    "slideshow": {
     "slide_type": "slide"
    }
   },
   "source": [
    "# Lab for generators and Iterators\n",
    "\n",
    "Assume we have a tree structure represented with nested tuples:"
   ]
  },
  {
   "cell_type": "code",
   "execution_count": 1,
   "metadata": {},
   "outputs": [],
   "source": [
    "mytree = ('root',\n",
    "          ('child-L',\n",
    "           ('child-LL', (), ()),\n",
    "           ('child-LR', (), ())),\n",
    "          ('child-R',\n",
    "           ('child-RL', (), ()),\n",
    "           ('child-RR', (), ())))\n"
   ]
  },
  {
   "cell_type": "markdown",
   "metadata": {
    "slideshow": {
     "slide_type": "slide"
    }
   },
   "source": [
    "Write a generator that will yield the nodes of a tree and their depth in post-order:\n",
    "\n",
    "```python \n",
    "('child-LL', 2)\n",
    "('child-LR', 2)\n",
    "('child-L', 1)\n",
    "('child-RL', 2)\n",
    "...\n",
    "```"
   ]
  },
  {
   "cell_type": "code",
   "execution_count": 2,
   "metadata": {},
   "outputs": [],
   "source": [
    "def postorder(node, depth=0):\n",
    "    if not node:\n",
    "        return\n",
    "    name, lchild, rchild = node\n",
    "    yield postorder(lchild, depth + 1)\n",
    "    yield postorder(rchild, depth + 1)\n",
    "    yield name, depth\n",
    "    "
   ]
  },
  {
   "cell_type": "code",
   "execution_count": 3,
   "metadata": {},
   "outputs": [
    {
     "name": "stdout",
     "output_type": "stream",
     "text": [
      "<generator object postorder at 0x10631cb10>\n",
      "<generator object postorder at 0x10631cb88>\n",
      "('root', 0)\n"
     ]
    }
   ],
   "source": [
    "for x in postorder(mytree):\n",
    "    print(x)"
   ]
  },
  {
   "cell_type": "code",
   "execution_count": 4,
   "metadata": {},
   "outputs": [],
   "source": [
    "def postorder(node, depth=0):\n",
    "    if not node:\n",
    "        return\n",
    "    name, lchild, rchild = node\n",
    "    for n in postorder(lchild, depth + 1):\n",
    "        yield n\n",
    "    for n in postorder(rchild, depth + 1):\n",
    "        yield n\n",
    "    yield name, depth\n",
    "    "
   ]
  },
  {
   "cell_type": "markdown",
   "metadata": {
    "slideshow": {
     "slide_type": "slide"
    }
   },
   "source": [
    "Write a loop that uses that generator to *print* the nodes of a tree in post-order"
   ]
  },
  {
   "cell_type": "code",
   "execution_count": 5,
   "metadata": {},
   "outputs": [
    {
     "name": "stdout",
     "output_type": "stream",
     "text": [
      "('child-LL', 2)\n",
      "('child-LR', 2)\n",
      "('child-L', 1)\n",
      "('child-RL', 2)\n",
      "('child-RR', 2)\n",
      "('child-R', 1)\n",
      "('root', 0)\n"
     ]
    }
   ],
   "source": [
    "for name, depth in postorder(mytree):\n",
    "    print((name, depth))"
   ]
  },
  {
   "cell_type": "code",
   "execution_count": 6,
   "metadata": {},
   "outputs": [],
   "source": [
    "def postorder(node, depth=0):\n",
    "    if not node:\n",
    "        return\n",
    "    name, lchild, rchild = node\n",
    "    yield from postorder(lchild, depth + 1)\n",
    "    yield from postorder(rchild, depth + 1)\n",
    "    yield name, depth\n",
    "    "
   ]
  },
  {
   "cell_type": "code",
   "execution_count": 7,
   "metadata": {},
   "outputs": [
    {
     "name": "stdout",
     "output_type": "stream",
     "text": [
      "('child-LL', 2)\n",
      "('child-LR', 2)\n",
      "('child-L', 1)\n",
      "('child-RL', 2)\n",
      "('child-RR', 2)\n",
      "('child-R', 1)\n",
      "('root', 0)\n"
     ]
    }
   ],
   "source": [
    "for name, depth in postorder(mytree):\n",
    "    print((name, depth))"
   ]
  },
  {
   "cell_type": "code",
   "execution_count": null,
   "metadata": {},
   "outputs": [],
   "source": []
  }
 ],
 "metadata": {
  "celltoolbar": "Slideshow",
  "kernelspec": {
   "display_name": "Python 3",
   "language": "python",
   "name": "python3"
  },
  "language_info": {
   "codemirror_mode": {
    "name": "ipython",
    "version": 3
   },
   "file_extension": ".py",
   "mimetype": "text/x-python",
   "name": "python",
   "nbconvert_exporter": "python",
   "pygments_lexer": "ipython3",
   "version": "3.7.2"
  }
 },
 "nbformat": 4,
 "nbformat_minor": 1
}
