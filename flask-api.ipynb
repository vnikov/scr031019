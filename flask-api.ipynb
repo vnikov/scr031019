{
 "cells": [
  {
   "cell_type": "markdown",
   "metadata": {},
   "source": [
    "# What is Flask?\n",
    "\n",
    "A lightweight Python web framework [Flask][flask]\n",
    "\n",
    "- Very little boilerplate\n",
    "- Many choices for storage back-ends, but none included in Flask itself\n",
    "\n",
    "[flask]: http://flask.pocoo.org/\n"
   ]
  },
  {
   "cell_type": "markdown",
   "metadata": {},
   "source": [
    "# ReST: Representational State Transfer\n",
    "\n",
    "Everyone *says* they're restful, but...\n",
    "\n",
    "REST has a few attributes that make it truly RESTful:\n",
    "\n",
    "- URLs represent *resources* (i.e. nouns), not *actions* (i.e. verbs)\n",
    "    - a POST to `/mailingList/createUser` is **not** RESTful\n",
    "- Resources may have one or more *representations* (formats transferred over the web)\n",
    "    - HTML\n",
    "    - XML\n",
    "    - JSON\n",
    "- HTTP verbs are used to represent operations on resources\n",
    "    - GET - safe & idempotent, give me the representation for a resource\n",
    "    - PUT - idempotent, replace a resource at a given URL\n",
    "    - PATCH - partial update to a resource at a given URL\n",
    "    - DELETE - idempotent, delete a resource at a given URL\n",
    "    - POST - do something else (frequently create)\n",
    "- Representations must communicate their relationships to other resources via *hypertext*\n",
    "    - Generally, this means representations have URLs to relate to other resources, *not* just IDs\n",
    "    - Requiring knowledge of URL layout is not RESTful\n",
    "    - \"Hypertext as the engine of application state\" or HATEOAS\n",
    "    - We'll use a tiny part of a HATEOAS standard known as HAL"
   ]
  },
  {
   "cell_type": "markdown",
   "metadata": {},
   "source": [
    "# Getting started - our first Flask API\n",
    "\n",
    "- Single endpoint/resource: the root (/)\n",
    "- Single representation: `{\"hello\": \"world\"}`\n",
    "- Single operation: GET\n",
    "- A flask **view** is a function that maps to a URL"
   ]
  },
  {
   "cell_type": "code",
   "execution_count": null,
   "metadata": {},
   "outputs": [],
   "source": [
    "!pip install flask"
   ]
  },
  {
   "cell_type": "markdown",
   "metadata": {},
   "source": [
    "Normally, we would run flask by executing the following in the shell:\n",
    "\n",
    "\n",
    "```bash\n",
    "$ FLASK_APP=intro_flask.app1 FLASK_ENV=development flask run\n",
    "```\n",
    "\n",
    "Since we're using the notebook, here's a little program to run a subprocess in a thread:"
   ]
  },
  {
   "cell_type": "code",
   "execution_count": null,
   "metadata": {},
   "outputs": [],
   "source": [
    "!which flask"
   ]
  },
  {
   "cell_type": "code",
   "execution_count": 3,
   "metadata": {},
   "outputs": [],
   "source": [
    "import os, sys, threading, subprocess\n",
    "\n",
    "def output_thread(proc):\n",
    "    for line in proc.stdout:\n",
    "        print(line.decode('utf-8'), end='')\n",
    "    print('Exiting output thread')\n",
    "\n",
    "def run_flask_app(app_name):\n",
    "    proc = subprocess.Popen(\n",
    "        # [sys.executable, 'flask', 'run'],\n",
    "        ['flask', 'run', '--no-reload'],\n",
    "        env={\n",
    "            **os.environ, \n",
    "            'FLASK_APP': app_name,\n",
    "            'FLASK_ENV': 'development',\n",
    "        },\n",
    "        stderr=subprocess.STDOUT,\n",
    "        stdout=subprocess.PIPE\n",
    "    )\n",
    "    # Wait for the port to bind\n",
    "    for line in proc.stdout:\n",
    "        line = line.decode('utf-8')\n",
    "        print(line, end='')\n",
    "        if ' * Running on http://127.0.0.1:5000/ (Press CTRL+C to quit)' in line:\n",
    "            break\n",
    "    else:\n",
    "        print('== Error starting server ==')\n",
    "        return None\n",
    "    thd = threading.Thread(target=output_thread, args=(proc,))\n",
    "    thd.setDaemon(True)\n",
    "    thd.start()\n",
    "    return proc\n"
   ]
  },
  {
   "cell_type": "markdown",
   "metadata": {},
   "source": [
    "# The task: build a REST API for a blog in Flask\n",
    "\n",
    "- What are our resources?\n",
    "- What are the operations on the resources?"
   ]
  },
  {
   "cell_type": "code",
   "execution_count": 4,
   "metadata": {},
   "outputs": [
    {
     "name": "stdout",
     "output_type": "stream",
     "text": [
      "Overwriting data/flask-examples/app1.py\n"
     ]
    }
   ],
   "source": [
    "%%file data/flask-examples/app1.py\n",
    "import flask\n",
    "\n",
    "app = flask.Flask(__name__)\n",
    "\n",
    "@app.route('/')\n",
    "def get_root():\n",
    "    return flask.jsonify(hello='world')"
   ]
  },
  {
   "cell_type": "code",
   "execution_count": 5,
   "metadata": {
    "scrolled": true
   },
   "outputs": [
    {
     "name": "stdout",
     "output_type": "stream",
     "text": [
      " * Serving Flask app \"data.flask-examples.app1\"\n",
      " * Environment: development\n",
      " * Debug mode: on\n",
      " * Running on http://127.0.0.1:5000/ (Press CTRL+C to quit)\n"
     ]
    }
   ],
   "source": [
    "sp = run_flask_app('data.flask-examples.app1')"
   ]
  },
  {
   "cell_type": "code",
   "execution_count": 6,
   "metadata": {},
   "outputs": [
    {
     "name": "stdout",
     "output_type": "stream",
     "text": [
      "127.0.0.1 - - [22/Mar/2019 09:24:14] \"GET / HTTP/1.1\" 200 -\n"
     ]
    },
    {
     "data": {
      "text/plain": [
       "{'hello': 'world'}"
      ]
     },
     "execution_count": 6,
     "metadata": {},
     "output_type": "execute_result"
    }
   ],
   "source": [
    "import requests\n",
    "resp = requests.get('http://localhost:5000')\n",
    "resp.json()"
   ]
  },
  {
   "cell_type": "code",
   "execution_count": 7,
   "metadata": {},
   "outputs": [
    {
     "name": "stdout",
     "output_type": "stream",
     "text": [
      "127.0.0.1 - - [22/Mar/2019 09:24:18] \"GET / HTTP/1.1\" 200 -\n",
      "{\n",
      "  \"hello\": \"world\"\n",
      "}\n",
      "127.0.0.1 - - [22/Mar/2019 09:24:26] \"GET / HTTP/1.1\" 200 -\n",
      "127.0.0.1 - - [22/Mar/2019 09:24:27] \"GET /favicon.ico HTTP/1.1\" 404 -\n"
     ]
    }
   ],
   "source": [
    "!curl localhost:5000"
   ]
  },
  {
   "cell_type": "code",
   "execution_count": 8,
   "metadata": {},
   "outputs": [
    {
     "name": "stdout",
     "output_type": "stream",
     "text": [
      "Exiting output thread\n"
     ]
    }
   ],
   "source": [
    "sp.kill()"
   ]
  },
  {
   "cell_type": "markdown",
   "metadata": {},
   "source": [
    "# One more helper: run an app in a context manager"
   ]
  },
  {
   "cell_type": "code",
   "execution_count": 9,
   "metadata": {},
   "outputs": [],
   "source": [
    "import time, contextlib\n",
    "\n",
    "@contextlib.contextmanager\n",
    "def running_app(app_name):\n",
    "    proc = run_flask_app(app_name)\n",
    "    try:\n",
    "        yield proc\n",
    "    finally:\n",
    "        proc.kill()        "
   ]
  },
  {
   "cell_type": "code",
   "execution_count": 10,
   "metadata": {},
   "outputs": [
    {
     "name": "stdout",
     "output_type": "stream",
     "text": [
      " * Serving Flask app \"data.flask-examples.app1\"\n",
      " * Environment: development\n",
      " * Debug mode: on\n",
      " * Running on http://127.0.0.1:5000/ (Press CTRL+C to quit)\n",
      "127.0.0.1 - - [22/Mar/2019 09:25:54] \"GET / HTTP/1.1\" 200 -\n",
      "{\n",
      "  \"hello\": \"world\"\n",
      "}\n",
      "Exiting output thread\n"
     ]
    }
   ],
   "source": [
    "with running_app('data.flask-examples.app1'):\n",
    "    !curl localhost:5000"
   ]
  },
  {
   "cell_type": "markdown",
   "metadata": {},
   "source": [
    "# Handling url parameters"
   ]
  },
  {
   "cell_type": "code",
   "execution_count": 11,
   "metadata": {},
   "outputs": [
    {
     "name": "stdout",
     "output_type": "stream",
     "text": [
      "Overwriting data/flask-examples/app2.py\n"
     ]
    }
   ],
   "source": [
    "%%file data/flask-examples/app2.py\n",
    "import flask\n",
    "\n",
    "app = flask.Flask(__name__)\n",
    "\n",
    "@app.route('/')\n",
    "def get_root():\n",
    "    return flask.jsonify(hello='world')\n",
    "\n",
    "@app.route('/<name>')\n",
    "def get_name(name):\n",
    "    return flask.jsonify(hello=name)"
   ]
  },
  {
   "cell_type": "code",
   "execution_count": 12,
   "metadata": {},
   "outputs": [
    {
     "name": "stdout",
     "output_type": "stream",
     "text": [
      " * Serving Flask app \"data.flask-examples.app2\"\n",
      " * Environment: development\n",
      " * Debug mode: on\n",
      " * Running on http://127.0.0.1:5000/ (Press CTRL+C to quit)\n",
      "127.0.0.1 - - [22/Mar/2019 09:26:44] \"GET / HTTP/1.1\" 200 -\n",
      "{\n",
      "  \"hello\": \"world\"\n",
      "}\n",
      "127.0.0.1 - - [22/Mar/2019 09:26:44] \"GET /rick HTTP/1.1\" 200 -\n",
      "{\n",
      "  \"hello\": \"rick\"\n",
      "}\n",
      "127.0.0.1 - - [22/Mar/2019 09:26:44] \"GET /starbucks HTTP/1.1\" 200 -\n",
      "{\n",
      "  \"hello\": \"starbucks\"\n",
      "}\n",
      "Exiting output thread\n"
     ]
    }
   ],
   "source": [
    "with running_app('data.flask-examples.app2'):\n",
    "    !curl localhost:5000\n",
    "    !curl localhost:5000/rick\n",
    "    !curl localhost:5000/starbucks"
   ]
  },
  {
   "cell_type": "markdown",
   "metadata": {},
   "source": [
    "# Handling JSON data"
   ]
  },
  {
   "cell_type": "code",
   "execution_count": 13,
   "metadata": {},
   "outputs": [
    {
     "name": "stdout",
     "output_type": "stream",
     "text": [
      "Overwriting data/flask-examples/app3.py\n"
     ]
    }
   ],
   "source": [
    "%%file data/flask-examples/app3.py\n",
    "import flask\n",
    "\n",
    "app = flask.Flask(__name__)\n",
    "\n",
    "state = {'name': 'world'}\n",
    "\n",
    "@app.route('/')\n",
    "def get_root():\n",
    "    return flask.jsonify(hello=state['name'])\n",
    "\n",
    "@app.route('/', methods=['PUT'])\n",
    "def set_name():\n",
    "    body = flask.request.json  # resolves to None if no valid JSON Content-Type header\n",
    "    state['name'] = body['name']\n",
    "    return flask.jsonify(name=state['name'])"
   ]
  },
  {
   "cell_type": "code",
   "execution_count": 18,
   "metadata": {},
   "outputs": [
    {
     "name": "stdout",
     "output_type": "stream",
     "text": [
      " * Serving Flask app \"data.flask-examples.app3\"\n",
      " * Environment: development\n",
      " * Debug mode: on\n",
      " * Running on http://127.0.0.1:5000/ (Press CTRL+C to quit)\n",
      "127.0.0.1 - - [22/Mar/2019 09:31:21] \"GET / HTTP/1.1\" 200 -\n",
      "{\n",
      "  \"hello\": \"world\"\n",
      "}\n",
      "127.0.0.1 - - [22/Mar/2019 09:31:21] \"PUT / HTTP/1.1\" 200 -\n",
      "{\n",
      "  \"name\": \"Rick\"\n",
      "}\n",
      "127.0.0.1 - - [22/Mar/2019 09:31:21] \"GET / HTTP/1.1\" 200 -\n",
      "{\n",
      "  \"hello\": \"Rick\"\n",
      "}\n",
      "Exiting output thread\n"
     ]
    }
   ],
   "source": [
    "with running_app('data.flask-examples.app3'):\n",
    "    !curl localhost:5000\n",
    "    !curl -XPUT -H 'Content-Type: application/json' -d '{\"name\": \"Rick\"}' localhost:5000 \n",
    "    !curl localhost:5000"
   ]
  },
  {
   "cell_type": "code",
   "execution_count": 19,
   "metadata": {},
   "outputs": [
    {
     "name": "stdout",
     "output_type": "stream",
     "text": [
      " * Serving Flask app \"data.flask-examples.app3\"\n",
      " * Environment: development\n",
      " * Debug mode: on\n",
      " * Running on http://127.0.0.1:5000/ (Press CTRL+C to quit)\n",
      "127.0.0.1 - - [22/Mar/2019 09:32:53] \"GET / HTTP/1.1\" 200 -\n",
      "{'hello': 'world'}\n",
      "127.0.0.1 - - [22/Mar/2019 09:32:53] \"PUT / HTTP/1.1\" 200 -\n",
      "{\n",
      "  \"name\": \"Rick\"\n",
      "}\n",
      "127.0.0.1 - - [22/Mar/2019 09:32:53] \"GET / HTTP/1.1\" 200 -\n",
      "{\n",
      "  \"hello\": \"Rick\"\n",
      "}\n",
      "Exiting output thread\n"
     ]
    }
   ],
   "source": [
    "with running_app('data.flask-examples.app3'):\n",
    "    print(requests.get('http://localhost:5000').json())\n",
    "    !curl -XPUT -H 'Content-Type: application/json' -d '{\"name\": \"Rick\"}' localhost:5000 \n",
    "    !curl localhost:5000"
   ]
  },
  {
   "cell_type": "markdown",
   "metadata": {},
   "source": [
    "# Using auth data (basic) & URL generation"
   ]
  },
  {
   "cell_type": "code",
   "execution_count": 28,
   "metadata": {},
   "outputs": [
    {
     "name": "stdout",
     "output_type": "stream",
     "text": [
      "Overwriting data/flask-examples/app4.py\n"
     ]
    }
   ],
   "source": [
    "%%file data/flask-examples/app4.py\n",
    "import flask\n",
    "\n",
    "app = flask.Flask(__name__)\n",
    "\n",
    "@app.route('/profile/<username>')\n",
    "def get_profile(username):\n",
    "    return flask.jsonify(username=username)\n",
    "\n",
    "@app.route('/userinfo')\n",
    "def get_userinfo():\n",
    "    username = flask.request.authorization['username']\n",
    "    profile_url = flask.url_for(\n",
    "        'get_profile', username=username, \n",
    "        _external=True\n",
    "    )\n",
    "    return flask.jsonify(\n",
    "        _links={'profile': profile_url},\n",
    "        username=username,\n",
    "        password=flask.request.authorization['password'] # don't do this in production, obviously\n",
    "    )"
   ]
  },
  {
   "cell_type": "code",
   "execution_count": 29,
   "metadata": {},
   "outputs": [
    {
     "name": "stdout",
     "output_type": "stream",
     "text": [
      " * Serving Flask app \"data.flask-examples.app4\"\n",
      " * Environment: development\n",
      " * Debug mode: on\n",
      " * Running on http://127.0.0.1:5000/ (Press CTRL+C to quit)\n",
      "127.0.0.1 - - [22/Mar/2019 09:37:38] \"GET /userinfo HTTP/1.1\" 200 -\n",
      "{\n",
      "  \"_links\": {\n",
      "    \"profile\": \"http://localhost:5000/profile/rick\"\n",
      "  }, \n",
      "  \"password\": \"secret\", \n",
      "  \"username\": \"rick\"\n",
      "}\n",
      "Exiting output thread\n"
     ]
    }
   ],
   "source": [
    "with running_app('data.flask-examples.app4'):\n",
    "    !curl rick:secret@localhost:5000/userinfo"
   ]
  },
  {
   "cell_type": "markdown",
   "metadata": {},
   "source": [
    "# Building the blog post API\n",
    "\n",
    "## Resource structure\n",
    "\n",
    "```\n",
    "{\n",
    "    _links: {self: <link_to_post>},\n",
    "    postedDate: ...,\n",
    "    authorName: ...,\n",
    "    title: ...,\n",
    "    body: ...,\n",
    "}\n",
    "```\n",
    "\n",
    "## URL structure\n",
    "\n",
    "- / \n",
    "    - GET: return `{_links: {posts: /post}}`\n",
    "- /post\n",
    "    - GET: return list of posts\n",
    "    - POST: create and return a post\n",
    "- `/post/<post_id>` - return a single post\n",
    "    - GET: return the post\n",
    "    - PUT: update the post\n",
    "    - DELETE: delete the post\n",
    "\n"
   ]
  },
  {
   "cell_type": "code",
   "execution_count": 30,
   "metadata": {},
   "outputs": [
    {
     "name": "stdout",
     "output_type": "stream",
     "text": [
      "Overwriting data/flask-examples/app5.py\n"
     ]
    }
   ],
   "source": [
    "%%file data/flask-examples/app5.py\n",
    "from datetime import datetime\n",
    "from uuid import uuid4\n",
    "\n",
    "import flask\n",
    "from flask import Flask, jsonify, request, abort\n",
    "\n",
    "\n",
    "app = Flask(__name__)\n",
    "\n",
    "state = {\n",
    "    'posts': {\n",
    "        uuid4().hex: {\n",
    "            'postedDate': datetime.utcnow(),\n",
    "            'authorName': 'rick',\n",
    "            'title': 'first!',\n",
    "            'body': 'First post!'\n",
    "        }\n",
    "    }\n",
    "}\n",
    "\n",
    "def url_for(*args, **kwargs):\n",
    "    return flask.url_for(*args, _external=True, **kwargs)\n",
    "\n",
    "@app.route('/')\n",
    "def get_root():\n",
    "    return jsonify(_links={'posts': url_for('get_posts')})\n",
    "\n",
    "@app.route('/post')\n",
    "def get_posts():\n",
    "    post_links = [\n",
    "        url_for('get_post', id=id) \n",
    "        for id in state['posts']\n",
    "    ]\n",
    "    return jsonify(\n",
    "        _links={'self': url_for('get_posts')},\n",
    "        data=[\n",
    "            dict(_links=dict(self=link)) \n",
    "            for link in post_links\n",
    "        ]\n",
    "    )\n",
    "\n",
    "@app.route('/post/<id>')\n",
    "def get_post(id):\n",
    "    post = state['posts'].get(id)\n",
    "    if not post:\n",
    "        abort(404)\n",
    "    return jsonify(\n",
    "        _links={'self': url_for('get_post', id=id)},\n",
    "        postedDate=post['postedDate'].isoformat(),\n",
    "        authorName=post['authorName'],\n",
    "        title=post['title'],\n",
    "        body=post['body']\n",
    "    )"
   ]
  },
  {
   "cell_type": "code",
   "execution_count": 31,
   "metadata": {},
   "outputs": [
    {
     "name": "stdout",
     "output_type": "stream",
     "text": [
      " * Serving Flask app \"data.flask-examples.app5\"\n",
      " * Environment: development\n",
      " * Debug mode: on\n",
      " * Running on http://127.0.0.1:5000/ (Press CTRL+C to quit)\n",
      "127.0.0.1 - - [22/Mar/2019 09:42:19] \"GET / HTTP/1.1\" 200 -\n",
      "{\n",
      "  \"_links\": {\n",
      "    \"posts\": \"http://localhost:5000/post\"\n",
      "  }\n",
      "}\n",
      "127.0.0.1 - - [22/Mar/2019 09:42:19] \"GET /post HTTP/1.1\" 200 -\n",
      "{\n",
      "  \"_links\": {\n",
      "    \"self\": \"http://localhost:5000/post\"\n",
      "  }, \n",
      "  \"data\": [\n",
      "    {\n",
      "      \"_links\": {\n",
      "        \"self\": \"http://localhost:5000/post/e0879c2aed484fddba6892775661e4d6\"\n",
      "      }\n",
      "    }\n",
      "  ]\n",
      "}\n",
      "Got post, now need to return...\n",
      "Exiting output thread\n"
     ]
    }
   ],
   "source": [
    "with running_app('data.flask-examples.app5'):\n",
    "    !curl localhost:5000\n",
    "    !curl localhost:5000/post\n",
    "    print('Got post, now need to return...')"
   ]
  },
  {
   "cell_type": "code",
   "execution_count": 32,
   "metadata": {},
   "outputs": [
    {
     "name": "stdout",
     "output_type": "stream",
     "text": [
      " * Serving Flask app \"data.flask-examples.app5\"\n",
      " * Environment: development\n",
      " * Debug mode: on\n",
      " * Running on http://127.0.0.1:5000/ (Press CTRL+C to quit)\n",
      "127.0.0.1 - - [22/Mar/2019 09:43:23] \"GET / HTTP/1.1\" 200 -\n",
      "root is {'_links': {'posts': 'http://localhost:5000/post'}}\n",
      "127.0.0.1 - - [22/Mar/2019 09:43:23] \"GET /post HTTP/1.1\" 200 -\n",
      "posts is {'_links': {'self': 'http://localhost:5000/post'}, 'data': [{'_links': {'self': 'http://localhost:5000/post/15ff3c27f584480c9cf1f2dd0638b7e4'}}]}\n",
      "127.0.0.1 - - [22/Mar/2019 09:43:23] \"GET /post/15ff3c27f584480c9cf1f2dd0638b7e4 HTTP/1.1\" 200 -\n",
      "post is {'_links': {'self': 'http://localhost:5000/post/15ff3c27f584480c9cf1f2dd0638b7e4'}, 'authorName': 'rick', 'body': 'First post!', 'postedDate': '2019-03-22T16:43:23.213497', 'title': 'first!'}\n",
      "Exiting output thread\n"
     ]
    }
   ],
   "source": [
    "import requests\n",
    "\n",
    "with running_app('data.flask-examples.app5'):\n",
    "    root = requests.get('http://localhost:5000').json()\n",
    "    print('root is', root)\n",
    "    posts = requests.get(root['_links']['posts']).json()\n",
    "    print('posts is', posts)\n",
    "    post = requests.get(posts['data'][0]['_links']['self']).json()\n",
    "    print('post is', post)\n"
   ]
  },
  {
   "cell_type": "code",
   "execution_count": 33,
   "metadata": {},
   "outputs": [
    {
     "data": {
      "text/plain": [
       "{'_links': {'self': 'http://localhost:5000/post/15ff3c27f584480c9cf1f2dd0638b7e4'},\n",
       " 'authorName': 'rick',\n",
       " 'body': 'First post!',\n",
       " 'postedDate': '2019-03-22T16:43:23.213497',\n",
       " 'title': 'first!'}"
      ]
     },
     "execution_count": 33,
     "metadata": {},
     "output_type": "execute_result"
    }
   ],
   "source": [
    "post"
   ]
  },
  {
   "cell_type": "markdown",
   "metadata": {},
   "source": [
    "# Aside: `glom` can be handy for consuming deeply nested dicts like this"
   ]
  },
  {
   "cell_type": "code",
   "execution_count": 34,
   "metadata": {},
   "outputs": [
    {
     "name": "stdout",
     "output_type": "stream",
     "text": [
      "Collecting glom\n",
      "  Using cached https://files.pythonhosted.org/packages/87/ee/91abf3409fce15e087d20e831bc7a26d806acaa133e5ed9fd65d12e3da82/glom-19.2.0.tar.gz\n",
      "Collecting boltons (from glom)\n",
      "  Using cached https://files.pythonhosted.org/packages/32/e8/f1fcb6ba6b70d2582e7d5cb4710b4ac39f6da1976286f5306be79913d545/boltons-19.1.0-py2.py3-none-any.whl\n",
      "Requirement already satisfied: attrs in /Users/rick446/.virtualenvs/advanced-python/lib/python3.7/site-packages (from glom) (19.1.0)\n",
      "Collecting face (from glom)\n",
      "  Downloading https://files.pythonhosted.org/packages/3d/d4/e8aad9b9d475ba9e60c676f5eba3d8d062fc9013201b896b19dfc57fa5a3/face-19.0.0.tar.gz\n",
      "Installing collected packages: boltons, face, glom\n",
      "  Running setup.py install for face ... \u001b[?25ldone\n",
      "\u001b[?25h  Running setup.py install for glom ... \u001b[?25ldone\n",
      "\u001b[?25hSuccessfully installed boltons-19.1.0 face-19.0.0 glom-19.2.0\n",
      "\u001b[33mYou are using pip version 18.1, however version 19.0.3 is available.\n",
      "You should consider upgrading via the 'pip install --upgrade pip' command.\u001b[0m\n"
     ]
    }
   ],
   "source": [
    "!pip install glom"
   ]
  },
  {
   "cell_type": "code",
   "execution_count": 35,
   "metadata": {},
   "outputs": [],
   "source": [
    "from glom import glom"
   ]
  },
  {
   "cell_type": "code",
   "execution_count": 36,
   "metadata": {},
   "outputs": [
    {
     "name": "stdout",
     "output_type": "stream",
     "text": [
      " * Serving Flask app \"data.flask-examples.app5\"\n",
      " * Environment: development\n",
      " * Debug mode: on\n",
      " * Running on http://127.0.0.1:5000/ (Press CTRL+C to quit)\n",
      "127.0.0.1 - - [22/Mar/2019 09:44:33] \"GET / HTTP/1.1\" 200 -\n",
      "127.0.0.1 - - [22/Mar/2019 09:44:33] \"GET /post HTTP/1.1\" 200 -\n",
      "127.0.0.1 - - [22/Mar/2019 09:44:33] \"GET /post/34e661c59ff54879903382df589432fd HTTP/1.1\" 200 -\n"
     ]
    },
    {
     "data": {
      "text/plain": [
       "{'_links': {'self': 'http://localhost:5000/post/34e661c59ff54879903382df589432fd'},\n",
       " 'authorName': 'rick',\n",
       " 'body': 'First post!',\n",
       " 'postedDate': '2019-03-22T16:44:33.265604',\n",
       " 'title': 'first!'}"
      ]
     },
     "execution_count": 36,
     "metadata": {},
     "output_type": "execute_result"
    },
    {
     "name": "stdout",
     "output_type": "stream",
     "text": [
      "Exiting output thread\n"
     ]
    }
   ],
   "source": [
    "import requests\n",
    "\n",
    "with running_app('data.flask-examples.app5'):\n",
    "    root = requests.get('http://localhost:5000').json()\n",
    "    posts = requests.get(glom(root, '_links.posts')).json()\n",
    "    post = requests.get(glom(posts, 'data.0._links.self')).json()\n",
    "post"
   ]
  },
  {
   "cell_type": "markdown",
   "metadata": {},
   "source": [
    "## Modifying posts"
   ]
  },
  {
   "cell_type": "code",
   "execution_count": 37,
   "metadata": {},
   "outputs": [
    {
     "name": "stdout",
     "output_type": "stream",
     "text": [
      "Overwriting data/flask-examples/app6.py\n"
     ]
    }
   ],
   "source": [
    "%%file data/flask-examples/app6.py\n",
    "from datetime import datetime\n",
    "from uuid import uuid4\n",
    "\n",
    "import flask\n",
    "from flask import Flask, jsonify, request, abort\n",
    "\n",
    "\n",
    "app = Flask(__name__)\n",
    "\n",
    "state = {\n",
    "    'posts': { }\n",
    "#         uuid4().hex: {\n",
    "#             'postedDate': datetime.utcnow(),\n",
    "#             'authorName': 'rick',\n",
    "#             'title': 'first!',\n",
    "#             'body': 'First post!'\n",
    "#         }\n",
    "#     }\n",
    "}\n",
    "\n",
    "def url_for(*args, **kwargs):\n",
    "    return flask.url_for(*args, _external=True, **kwargs)\n",
    "\n",
    "@app.route('/')\n",
    "def get_root():\n",
    "    return jsonify(_links={'posts': url_for('get_posts')})\n",
    "\n",
    "@app.route('/post')\n",
    "def get_posts():\n",
    "    post_links = [url_for('get_post', id=id) for id in state['posts']]\n",
    "    return jsonify(\n",
    "        _links={'self': url_for('get_posts')},\n",
    "        data=[dict(_links=dict(self=link)) for link in post_links])\n",
    "\n",
    "@app.route('/post', methods=['POST'])\n",
    "def create_post():\n",
    "    post_id = uuid4().hex\n",
    "    post = {\n",
    "        'postedDate': datetime.utcnow(),\n",
    "        'authorName': request.authorization.username,\n",
    "        **request.json\n",
    "    }\n",
    "    state['posts'][post_id] = post\n",
    "    result = jsonify_post(post_id, post)\n",
    "    result.headers['Location'] = url_for('get_post', id=post_id)\n",
    "    return result, 201\n",
    "\n",
    "@app.route('/post/<id>')\n",
    "def get_post(id):\n",
    "    post = state['posts'].get(id)\n",
    "    if not post:\n",
    "        abort(404)\n",
    "    return jsonify_post(id, post)\n",
    "\n",
    "@app.route('/post/<id>', methods=['PUT'])\n",
    "def update_post(id):\n",
    "    post = state['posts'].get(id)\n",
    "    if not post:\n",
    "        abort(404)\n",
    "    post = {\n",
    "        'postedDate': datetime.utcnow(),\n",
    "        'authorName': request.authorization.username,\n",
    "        **request.json\n",
    "    }\n",
    "    state['posts'][id] = post\n",
    "    return jsonify_post(id, post)\n",
    "\n",
    "@app.route('/post/<id>', methods=['DELETE'])\n",
    "def delete_post(id):\n",
    "    state['posts'].pop(id)\n",
    "    return '', 204\n",
    "\n",
    "def jsonify_post(id, post, **kwargs):\n",
    "    return jsonify(\n",
    "        _links={'self': url_for('get_post', id=id)},\n",
    "        postedDate=post['postedDate'].isoformat(),\n",
    "        authorName=post['authorName'],\n",
    "        title=post['title'],\n",
    "        body=post['body']\n",
    "    )\n",
    "    "
   ]
  },
  {
   "cell_type": "code",
   "execution_count": 38,
   "metadata": {},
   "outputs": [
    {
     "name": "stdout",
     "output_type": "stream",
     "text": [
      " * Serving Flask app \"data.flask-examples.app6\"\n",
      " * Environment: development\n",
      " * Debug mode: on\n",
      " * Running on http://127.0.0.1:5000/ (Press CTRL+C to quit)\n",
      "127.0.0.1 - - [22/Mar/2019 09:47:45] \"GET / HTTP/1.1\" 200 -\n",
      "127.0.0.1 - - [22/Mar/2019 09:47:45] \"POST /post HTTP/1.1\" 201 -\n",
      "'http://localhost:5000/post/ba694badd2e14f3ca828cf851f7fbf31'\n",
      "Press enter to continue\n",
      "{'_links': {'self': 'http://localhost:5000/post/ba694badd2e14f3ca828cf851f7fbf31'},\n",
      " 'authorName': 'rick',\n",
      " 'body': 'First post!',\n",
      " 'postedDate': '2019-03-22T16:47:45.746058',\n",
      " 'title': 'First!'}\n",
      "Press enter to continue\n",
      "127.0.0.1 - - [22/Mar/2019 09:48:44] \"POST /post HTTP/1.1\" 201 -\n",
      "127.0.0.1 - - [22/Mar/2019 09:48:44] \"POST /post HTTP/1.1\" 201 -\n",
      "127.0.0.1 - - [22/Mar/2019 09:48:44] \"GET /post HTTP/1.1\" 200 -\n",
      "{'_links': {'self': 'http://localhost:5000/post'},\n",
      " 'data': [{'_links': {'self': 'http://localhost:5000/post/ba694badd2e14f3ca828cf851f7fbf31'}},\n",
      "          {'_links': {'self': 'http://localhost:5000/post/5afb301a669842b596eea78b6da20c8e'}},\n",
      "          {'_links': {'self': 'http://localhost:5000/post/92f5dda8bcf247dc91a3c9cf3c9e3178'}}]}\n",
      "Press enter to continue\n",
      "127.0.0.1 - - [22/Mar/2019 09:49:01] \"DELETE /post/ba694badd2e14f3ca828cf851f7fbf31 HTTP/1.1\" 204 -\n",
      "127.0.0.1 - - [22/Mar/2019 09:49:01] \"GET /post HTTP/1.1\" 200 -\n",
      "{'_links': {'self': 'http://localhost:5000/post'},\n",
      " 'data': [{'_links': {'self': 'http://localhost:5000/post/5afb301a669842b596eea78b6da20c8e'}},\n",
      "          {'_links': {'self': 'http://localhost:5000/post/92f5dda8bcf247dc91a3c9cf3c9e3178'}}]}\n",
      "Press enter to continue\n",
      "Exiting output thread\n"
     ]
    }
   ],
   "source": [
    "from pprint import pprint\n",
    "\n",
    "sess = requests.Session()\n",
    "sess.auth = ('rick', 'password')\n",
    "sess.headers['Content-Type'] = 'application/json'\n",
    "\n",
    "with running_app('data.flask-examples.app6'):\n",
    "    root = sess.get('http://localhost:5000').json()\n",
    "    posts_url = glom(root, '_links.posts')\n",
    "    resp = sess.post(posts_url, json=dict(title='First!', body=\"First post!\"))\n",
    "    pprint(resp.headers['Location'])\n",
    "    input('Press enter to continue')\n",
    "    post1 = resp.json()\n",
    "    pprint(post1)\n",
    "    input('Press enter to continue')\n",
    "    sess.post(posts_url, json=dict(title='Second!', body=\"Second post!\"))\n",
    "    sess.post(posts_url, json=dict(title='Third!', body=\"Another post!\"))\n",
    "    pprint(sess.get(posts_url).json())\n",
    "    input('Press enter to continue')\n",
    "    resp = sess.delete(glom(post1, '_links.self'))\n",
    "    pprint(sess.get(posts_url).json())\n",
    "    input('Press enter to continue')\n"
   ]
  },
  {
   "cell_type": "markdown",
   "metadata": {},
   "source": [
    "# Organizing code into blueprints for reusability and maintenance"
   ]
  },
  {
   "cell_type": "code",
   "execution_count": 45,
   "metadata": {},
   "outputs": [
    {
     "name": "stdout",
     "output_type": "stream",
     "text": [
      "Overwriting data/flask-examples/app7.py\n"
     ]
    }
   ],
   "source": [
    "%%file data/flask-examples/app7.py\n",
    "from flask import Flask, jsonify, url_for\n",
    "\n",
    "from . import app7_posts\n",
    "from .app7_util import url_for\n",
    "\n",
    "app = Flask(__name__)\n",
    "\n",
    "app.register_blueprint(app7_posts.mod, url_prefix='/post')\n",
    "\n",
    "@app.route('/')\n",
    "def get_root():\n",
    "    return jsonify(_links={'posts': url_for('posts.get_root')})"
   ]
  },
  {
   "cell_type": "code",
   "execution_count": 40,
   "metadata": {},
   "outputs": [
    {
     "name": "stdout",
     "output_type": "stream",
     "text": [
      "Overwriting data/flask-examples/app7_util.py\n"
     ]
    }
   ],
   "source": [
    "%%file data/flask-examples/app7_util.py\n",
    "import flask\n",
    "\n",
    "state = {'posts': {}}\n",
    "\n",
    "def url_for(*args, **kwargs):\n",
    "    return flask.url_for(*args, _external=True, **kwargs)"
   ]
  },
  {
   "cell_type": "code",
   "execution_count": 43,
   "metadata": {},
   "outputs": [
    {
     "name": "stdout",
     "output_type": "stream",
     "text": [
      "Overwriting data/flask-examples/app7_posts.py\n"
     ]
    }
   ],
   "source": [
    "%%file data/flask-examples/app7_posts.py\n",
    "from datetime import datetime\n",
    "from uuid import uuid4\n",
    "\n",
    "import flask\n",
    "from flask import Blueprint, jsonify, request, abort\n",
    "\n",
    "from .app7_util import state, url_for\n",
    "\n",
    "mod = Blueprint('posts', __name__)\n",
    "\n",
    "@mod.route('')\n",
    "def get_root():\n",
    "    post_links = [url_for('.get_post', id=id) for id in state['posts']]\n",
    "    return jsonify(\n",
    "        _links={\n",
    "            'self': url_for('.get_root'),\n",
    "            'home': url_for('get_root'),\n",
    "        },\n",
    "        data=[dict(_links=dict(self=link)) for link in post_links])\n",
    "\n",
    "@mod.route('', methods=['POST'])\n",
    "def create_post():\n",
    "    post_id = uuid4().hex\n",
    "    post = {\n",
    "        'postedDate': datetime.utcnow(),\n",
    "        'authorName': request.authorization.username,\n",
    "        **request.json\n",
    "    }\n",
    "    state['posts'][post_id] = post\n",
    "    result = jsonify_post(post_id, post)\n",
    "    result.headers['Location'] = url_for('.get_post', id=post_id)\n",
    "    return result\n",
    "\n",
    "@mod.route('<id>')\n",
    "def get_post(id):\n",
    "    post = state['posts'].get(id)\n",
    "    if not post:\n",
    "        abort(404)\n",
    "    return jsonify_posts(id, post)\n",
    "\n",
    "@mod.route('<id>', methods=['PUT'])\n",
    "def update_post(id):\n",
    "    post = state['posts'].get(id)\n",
    "    if not post:\n",
    "        abort(404)\n",
    "    post = {\n",
    "        'postedDate': datetime.utcnow(),\n",
    "        'authorName': request.authorization.username,\n",
    "        **request.json\n",
    "    }\n",
    "    state['posts'][id] = post\n",
    "    return jsonify_post(id, post)\n",
    "\n",
    "@mod.route('<id>', methods=['DELETE'])\n",
    "def delete_post(id):\n",
    "    state['posts'].pop(id)\n",
    "    return '', 204\n",
    "\n",
    "def jsonify_post(id, post, **kwargs):\n",
    "    return jsonify(\n",
    "        _links={'self': url_for('.get_post', id=id)},\n",
    "        postedDate=post['postedDate'].isoformat(),\n",
    "        authorName=post['authorName'],\n",
    "        title=post['title'],\n",
    "        body=post['body']\n",
    "    )"
   ]
  },
  {
   "cell_type": "code",
   "execution_count": 44,
   "metadata": {},
   "outputs": [
    {
     "name": "stdout",
     "output_type": "stream",
     "text": [
      " * Serving Flask app \"data.flask-examples.app7\"\n",
      " * Environment: development\n",
      " * Debug mode: on\n",
      " * Running on http://127.0.0.1:5000/ (Press CTRL+C to quit)\n",
      "127.0.0.1 - - [22/Mar/2019 09:57:30] \"GET / HTTP/1.1\" 200 -\n",
      "127.0.0.1 - - [22/Mar/2019 09:57:30] \"POST /post HTTP/1.1\" 200 -\n",
      "'http://localhost:5000/post/e1ebf41813584a02b7296064d43d1f99'\n",
      "Press enter to continue\n",
      "{'_links': {'self': 'http://localhost:5000/post/e1ebf41813584a02b7296064d43d1f99'},\n",
      " 'authorName': 'rick',\n",
      " 'body': 'First post!',\n",
      " 'postedDate': '2019-03-22T16:57:30.048764',\n",
      " 'title': 'First!'}\n",
      "Press enter to continue\n",
      "127.0.0.1 - - [22/Mar/2019 09:57:34] \"POST /post HTTP/1.1\" 200 -\n",
      "127.0.0.1 - - [22/Mar/2019 09:57:34] \"POST /post HTTP/1.1\" 200 -\n",
      "127.0.0.1 - - [22/Mar/2019 09:57:34] \"GET /post HTTP/1.1\" 200 -\n",
      "{'_links': {'home': 'http://localhost:5000/',\n",
      "            'self': 'http://localhost:5000/post'},\n",
      " 'data': [{'_links': {'self': 'http://localhost:5000/post/e1ebf41813584a02b7296064d43d1f99'}},\n",
      "          {'_links': {'self': 'http://localhost:5000/post/89f2646adf1e4c0195a701d1e98dfa1c'}},\n",
      "          {'_links': {'self': 'http://localhost:5000/post/61c142a6a9c8477b8c17739d482876ae'}}]}\n",
      "Press enter to continue\n",
      "127.0.0.1 - - [22/Mar/2019 09:57:52] \"DELETE /post/e1ebf41813584a02b7296064d43d1f99 HTTP/1.1\" 204 -\n",
      "127.0.0.1 - - [22/Mar/2019 09:57:52] \"GET /post HTTP/1.1\" 200 -\n",
      "{'_links': {'home': 'http://localhost:5000/',\n",
      "            'self': 'http://localhost:5000/post'},\n",
      " 'data': [{'_links': {'self': 'http://localhost:5000/post/89f2646adf1e4c0195a701d1e98dfa1c'}},\n",
      "          {'_links': {'self': 'http://localhost:5000/post/61c142a6a9c8477b8c17739d482876ae'}}]}\n",
      "Press enter to continue\n",
      "Exiting output thread\n"
     ]
    }
   ],
   "source": [
    "from pprint import pprint\n",
    "\n",
    "sess = requests.Session()\n",
    "sess.auth = ('rick', 'password')\n",
    "sess.headers['Content-Type'] = 'application/json'\n",
    "\n",
    "with running_app('data.flask-examples.app7'):\n",
    "    root = sess.get('http://localhost:5000').json()\n",
    "    posts_url = glom(root, '_links.posts')\n",
    "    resp = sess.post(posts_url, json=dict(title='First!', body=\"First post!\"))\n",
    "    pprint(resp.headers['Location'])\n",
    "    input('Press enter to continue')\n",
    "    post1 = resp.json()\n",
    "    pprint(post1)\n",
    "    input('Press enter to continue')\n",
    "    sess.post(posts_url, json=dict(title='Second!', body=\"Second post!\"))\n",
    "    sess.post(posts_url, json=dict(title='Third!', body=\"Another post!\"))\n",
    "    pprint(sess.get(posts_url).json())\n",
    "    input('Press enter to continue')\n",
    "    resp = sess.delete(glom(post1, '_links.self'))\n",
    "    pprint(sess.get(posts_url).json())\n",
    "    input('Press enter to continue')\n"
   ]
  },
  {
   "cell_type": "markdown",
   "metadata": {},
   "source": [
    "# Lab\n",
    "\n",
    "Open the [Flask APIs lab][flask-api-lab]\n",
    "\n",
    "[flask-api-lab]: ./flask-api-lab.ipynb"
   ]
  },
  {
   "cell_type": "code",
   "execution_count": null,
   "metadata": {},
   "outputs": [],
   "source": []
  }
 ],
 "metadata": {
  "kernelspec": {
   "display_name": "Python 3",
   "language": "python",
   "name": "python3"
  },
  "language_info": {
   "codemirror_mode": {
    "name": "ipython",
    "version": 3
   },
   "file_extension": ".py",
   "mimetype": "text/x-python",
   "name": "python",
   "nbconvert_exporter": "python",
   "pygments_lexer": "ipython3",
   "version": "3.7.2"
  }
 },
 "nbformat": 4,
 "nbformat_minor": 2
}
