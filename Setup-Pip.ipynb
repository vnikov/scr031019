{
 "cells": [
  {
   "cell_type": "markdown",
   "metadata": {},
   "source": [
    "# Setup Instructions (using pip)\n",
    "\n",
    "## 1. Download the coursware from the link given in class.\n",
    "\n",
    "This will open a dropbox page. Click the download button and download all the files as a single zip file (Direct Download) as shown:\n",
    "\n",
    "![Dropbox Download][direct-download]\n",
    "\n",
    "[direct-download]: ./data/img/direct-download.png\n"
   ]
  },
  {
   "cell_type": "markdown",
   "metadata": {},
   "source": [
    "## 2. Create the class folder structure and extract the courseware\n",
    "\n",
    "For our class, we'll use the following directory structure:\n",
    "\n",
    "- PythonClass\n",
    "  - courseware\n",
    "  - env\n",
    "\n",
    "\"courseware\" is the directory into which you should extract the courseware. \"env\" will be created later (don't create it yet). Once you have extracted the download from step 1 here, you should see a few files in the 'courseware' directory, including the `src` and `data` directories."
   ]
  },
  {
   "cell_type": "markdown",
   "metadata": {},
   "source": [
    "## 3. Install Python 3.x\n",
    "(3.7 is ideal and the latest version. The 2.x series will no longer be supported on 1/1/2020)\n",
    "\n",
    "### Mac\n",
    "\n",
    "The easiest way to do this is via [homebrew][homebrew] (\"brew install python\") if you already have homebrew installed.\n",
    "\n",
    "### Windows\n",
    "You can install the [official version from python.org][download]. When installing, be sure to add Python to your path (or have another way to access Python from the command line)\n",
    "\n",
    "### Ubuntu\n",
    "Ubuntu: You can install [via a PPA][ubuntu] to get a recent version\n",
    "\n",
    "### RHEL\n",
    "You can [follow these instructions][rhel] to get Python 3.x installed\n",
    "\n",
    "### Notes for all operating systems\n",
    "\n",
    "Whichever OS you use, you can have Python 3.x and 2.x co-resident on the same machine. If you have both installed, you'll need to access Python 3 via \"python3\" instead of plain \"python\"\n",
    "\n",
    "Confirm you have Python 3 installed by executing \"python --version\" (or \"python3 --version\")\n",
    "\n",
    "[homebrew]: https://docs.python-guide.org/starting/install3/osx/\n",
    "[download]: https://www.python.org/downloads/\n",
    "[ubuntu]: https://docs.python-guide.org/starting/install3/linux/\n",
    "[rhel]: https://developers.redhat.com/blog/2018/08/13/install-python3-rhel/"
   ]
  },
  {
   "cell_type": "markdown",
   "metadata": {},
   "source": [
    "## 4. Create a virtual environment (virtualenv)\n",
    "\n",
    "Python allows you to create semi-isolated environments (\"virtualenvs\") into which we can install third-party packages. A virtualenv is a just a folder into which you install a private copy of Python based on the system python. For the examples below, we assume you've installed Python as \"python3\".\n",
    "\n",
    "As mentioned before, we're using the following folder structure:\n",
    "\n",
    "- PythonClass\n",
    "  - courseware\n",
    "  - env\n",
    "\n",
    "\"env\" is where we will create our virtualenv\n",
    "\n",
    "To create the \"env\" directory, execute the following commands:\n",
    "\n",
    "```bash\n",
    "$ cd ~/PythonClass   # or wherever you put the PythonClass folder\n",
    "$ python3 -m venv env\n",
    "```\n",
    "\n",
    "Each time you use the virtualenv, you must _activate_ it. This puts the version of Python in the venv onto your path and changes your prompt. To activate a virtualenv on Mac or Linux, execute the following commands:\n",
    "\n",
    "```bash\n",
    "$ source env/bin/activate\n",
    "(env) $\n",
    "```\n",
    "\n",
    "On Windows, the commands are similar:\n",
    "\n",
    "```\n",
    "c:\\Users\\USERNAME> env\\Scripts\\activate.bat\n",
    "(env) c:\\Users\\USERNAME>\n",
    "```"
   ]
  },
  {
   "cell_type": "markdown",
   "metadata": {},
   "source": [
    "## 5. Install Jupyter notebook\n",
    "\n",
    "Most of our examples and many exercises will use a tool called Jupyter notebook. To install it into the virtualenv, execute the following command (the commands are the same on Windows, Mac, and Linux):\n",
    "\n",
    "```bash\n",
    "(env) $ python3 -m pip install jupyter\n",
    ".... much output ....\n",
    "(env) $\n",
    "```"
   ]
  },
  {
   "cell_type": "markdown",
   "metadata": {},
   "source": [
    "## 6. Verify that the Jupyter notebook is installed by launching it\n",
    "\n",
    "Start the Jupyter notebook by typing the following:\n",
    "\n",
    "```bash\n",
    "(env) $ jupyter notebook\n",
    "```\n",
    "\n",
    "If everything worked right, then your system web browser should open with a file listing showing the current directory. If it does not open automatically, there should be a URL printed at the command line. You can open that URL to connect to the notebook server. Depending on your firewall, you may need to grant access to the server to listen for connections from localhost.\n",
    "\n",
    "Once the Jupyter notebook opens, you should be able to browse to the 'courseware' folder and open the .ipynb files. These contain the majority of the information we'll use for the class.\n",
    "\n",
    "That's it - you're all set up for a successful class!"
   ]
  }
 ],
 "metadata": {
  "kernelspec": {
   "display_name": "Python 3",
   "language": "python",
   "name": "python3"
  },
  "language_info": {
   "codemirror_mode": {
    "name": "ipython",
    "version": 3
   },
   "file_extension": ".py",
   "mimetype": "text/x-python",
   "name": "python",
   "nbconvert_exporter": "python",
   "pygments_lexer": "ipython3",
   "version": "3.7.2"
  }
 },
 "nbformat": 4,
 "nbformat_minor": 2
}
