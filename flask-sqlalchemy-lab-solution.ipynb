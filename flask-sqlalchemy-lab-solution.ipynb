{
 "cells": [
  {
   "cell_type": "markdown",
   "metadata": {},
   "source": [
    "# Lab: Flask-sqlalchemy"
   ]
  },
  {
   "cell_type": "markdown",
   "metadata": {},
   "source": [
    "Ensure you have the right packages installed"
   ]
  },
  {
   "cell_type": "code",
   "execution_count": 1,
   "metadata": {},
   "outputs": [
    {
     "name": "stdout",
     "output_type": "stream",
     "text": [
      "Requirement already satisfied: flask-sqlalchemy in /Users/rick446/.virtualenvs/advanced-python/lib/python3.7/site-packages (2.3.2)\n",
      "Requirement already satisfied: Flask>=0.10 in /Users/rick446/.virtualenvs/advanced-python/lib/python3.7/site-packages (from flask-sqlalchemy) (1.0.2)\n",
      "Requirement already satisfied: SQLAlchemy>=0.8.0 in /Users/rick446/.virtualenvs/advanced-python/lib/python3.7/site-packages (from flask-sqlalchemy) (1.3.1)\n",
      "Requirement already satisfied: Werkzeug>=0.14 in /Users/rick446/.virtualenvs/advanced-python/lib/python3.7/site-packages (from Flask>=0.10->flask-sqlalchemy) (0.14.1)\n",
      "Requirement already satisfied: Jinja2>=2.10 in /Users/rick446/.virtualenvs/advanced-python/lib/python3.7/site-packages (from Flask>=0.10->flask-sqlalchemy) (2.10)\n",
      "Requirement already satisfied: itsdangerous>=0.24 in /Users/rick446/.virtualenvs/advanced-python/lib/python3.7/site-packages (from Flask>=0.10->flask-sqlalchemy) (1.1.0)\n",
      "Requirement already satisfied: click>=5.1 in /Users/rick446/.virtualenvs/advanced-python/lib/python3.7/site-packages (from Flask>=0.10->flask-sqlalchemy) (7.0)\n",
      "Requirement already satisfied: MarkupSafe>=0.23 in /Users/rick446/.virtualenvs/advanced-python/lib/python3.7/site-packages (from Jinja2>=2.10->Flask>=0.10->flask-sqlalchemy) (1.1.1)\n",
      "\u001b[33mYou are using pip version 18.1, however version 19.0.3 is available.\n",
      "You should consider upgrading via the 'pip install --upgrade pip' command.\u001b[0m\n"
     ]
    }
   ],
   "source": [
    "!pip install flask-sqlalchemy"
   ]
  },
  {
   "cell_type": "markdown",
   "metadata": {},
   "source": [
    "Add support for comments in the blog app"
   ]
  },
  {
   "cell_type": "code",
   "execution_count": 2,
   "metadata": {},
   "outputs": [
    {
     "name": "stdout",
     "output_type": "stream",
     "text": [
      "Overwriting data/flask-examples/sa-app-withcomments.py\n"
     ]
    }
   ],
   "source": [
    "%%file data/flask-examples/sa-app-withcomments.py\n",
    "from datetime import datetime\n",
    "\n",
    "from flask import Flask, url_for, jsonify, request, abort\n",
    "\n",
    "from sa_model import db, Post, Comment\n",
    "\n",
    "app = Flask(__name__)\n",
    "app.config['SQLALCHEMY_DATABASE_URI'] = 'sqlite:///blog.db'\n",
    "app.config['SQLALCHEMY_TRACK_MODIFICATIONS'] = False\n",
    "db.init_app(app)\n",
    "\n",
    "\n",
    "@app.route('/')\n",
    "def get_root():\n",
    "    return jsonify(_links={'posts': url_for('get_posts', _external=True)})\n",
    "\n",
    "\n",
    "@app.route('/post')\n",
    "def get_posts():\n",
    "    post_links = [\n",
    "        url_for('get_post', post_id=post.id, _external=True) \n",
    "        for post in Post.query]\n",
    "    return jsonify(\n",
    "        _links={'self': url_for('get_posts', _external=True)},\n",
    "        posts=[dict(_links=dict(self=link)) for link in post_links])\n",
    "\n",
    "@app.route('/post', methods=['POST'])\n",
    "def create_post():\n",
    "    post = Post(\n",
    "        authorName=request.authorization.username,\n",
    "        postedDate=datetime.utcnow(),\n",
    "        title=request.json['title'],\n",
    "        content=request.json['content'],\n",
    "    )\n",
    "    db.session.add(post)\n",
    "    db.session.commit()\n",
    "    result = jsonify_post(post)\n",
    "    result.headers['Location'] = url_for('get_post', post_id=post.id, _external=True)\n",
    "    return result\n",
    "\n",
    "@app.route('/post/<int:post_id>')\n",
    "def get_post(post_id):\n",
    "    post = get_post_or_404(post_id)\n",
    "    return jsonify_post(post)\n",
    "\n",
    "@app.route('/post/<int:post_id>', methods=['PUT'])\n",
    "def update_post(post_id):\n",
    "    post = get_post_or_404(post_id)\n",
    "    post.authorName = request.authorization.username\n",
    "    post.postedDate = datetime.utcnow()\n",
    "    post.title = request.json['title']\n",
    "    post.content = request.json['content']\n",
    "    db.session.commit()\n",
    "    return jsonify_post(post)\n",
    "\n",
    "@app.route('/post/<int:post_id>', methods=['DELETE'])\n",
    "def delete_post(post_id):\n",
    "    post = get_post_or_404(post_id)\n",
    "    db.session.delete(post)\n",
    "    db.session.commit()\n",
    "    return '', 204\n",
    "\n",
    "@app.route('/post/<int:post_id>/comment')\n",
    "def get_comments(post_id):\n",
    "    post = get_post_or_404(post_id)\n",
    "    comment_links = [\n",
    "        url_for('get_comment', post_id=post_id, comment_id=c.id, _external=True) \n",
    "        for c in post.comments\n",
    "    ]\n",
    "    return jsonify(\n",
    "        _links={'self': url_for('get_comments', post_id=post_id, _external=True)},\n",
    "        comments=[dict(_links=dict(self=link)) for link in comment_links])\n",
    "\n",
    "@app.route('/post/<int:post_id>/comment', methods=['POST'])\n",
    "def create_comment(post_id):\n",
    "    post = get_post_or_404(post_id)\n",
    "    comment = Comment(\n",
    "        authorName=request.authorization.username,\n",
    "        postedDate=datetime.utcnow(),\n",
    "        post_id=post_id,\n",
    "        content=request.json['content'],\n",
    "    )\n",
    "    db.session.add(comment)\n",
    "    db.session.commit()\n",
    "    result = jsonify_comment(comment)\n",
    "    result.headers['Location'] = url_for('get_comment', post_id=post_id, comment_id=comment.id, _external=True)\n",
    "    return result, 201\n",
    "\n",
    "@app.route('/post/<int:post_id>/comment/<int:comment_id>')\n",
    "def get_comment(post_id, comment_id):\n",
    "    comment = get_comment_or_404(post_id, comment_id)\n",
    "    return jsonify_comment(comment)\n",
    "    \n",
    "@app.route('/post/<int:post_id>/comment/<int:comment_id>', methods=['PUT'])\n",
    "def update_comment(post_id, comment_id):\n",
    "    comment = get_comment_or_404(post_id, comment_id)\n",
    "    comment.postedDate = datetime.utcnow()\n",
    "    comment.authorName = request.authorization.username\n",
    "    comment.content = request.json['content']\n",
    "    db.session.commit()\n",
    "    return jsonify_comment(comment)\n",
    "\n",
    "@app.route('/post/<int:post_id>/comment/<int:comment_id>', methods=['DELETE'])\n",
    "def delete_comment(post_id, comment_id):\n",
    "    comment = get_comment_or_404(post_id, comment_id)\n",
    "    db.session.delete(comment)\n",
    "    db.session.commit()\n",
    "    return '', 204\n",
    "\n",
    "def get_post_or_404(post_id):\n",
    "    post = Post.query.get(post_id)\n",
    "    if not post:\n",
    "        abort(404)\n",
    "    return post\n",
    "    \n",
    "def get_comment_or_404(post_id, comment_id):\n",
    "    comment = Comment.query.filter_by(id=comment_id).first()\n",
    "    if not comment:\n",
    "        abort(404)\n",
    "    return comment\n",
    "\n",
    "def jsonify_comment(comment):\n",
    "    return jsonify(\n",
    "        _links={\n",
    "            'self': url_for('get_comment', post_id=comment.post_id, comment_id=comment.id, _external=True),\n",
    "            'post': url_for('get_post', post_id=comment.post_id, _external=True),\n",
    "        },\n",
    "        postedDate=comment.postedDate.isoformat(),\n",
    "        authorName=comment.authorName,\n",
    "        content=comment.content,\n",
    "    )\n",
    "\n",
    "def jsonify_post(post):\n",
    "    return jsonify(\n",
    "        _links={\n",
    "            'self': url_for('get_post', post_id=post.id, _external=True),\n",
    "            'comments': url_for('get_comments', post_id=post.id, _external=True)\n",
    "        },\n",
    "        postedDate=post.postedDate.isoformat(),\n",
    "        authorName=post.authorName,\n",
    "        title=post.title,\n",
    "        content=post.content,\n",
    "    )"
   ]
  },
  {
   "cell_type": "code",
   "execution_count": 3,
   "metadata": {},
   "outputs": [],
   "source": [
    "import requests\n",
    "sess = requests.Session()\n",
    "sess.headers['Content-Type'] = 'application/json'\n",
    "sess.auth = ('rick', 'password')"
   ]
  },
  {
   "cell_type": "code",
   "execution_count": 5,
   "metadata": {},
   "outputs": [],
   "source": [
    "import sys\n",
    "sys.path.append('data/flask-examples')"
   ]
  },
  {
   "cell_type": "code",
   "execution_count": 6,
   "metadata": {},
   "outputs": [],
   "source": [
    "from flask_helpers import running_app"
   ]
  },
  {
   "cell_type": "code",
   "execution_count": 10,
   "metadata": {},
   "outputs": [
    {
     "name": "stdout",
     "output_type": "stream",
     "text": [
      " * Serving Flask app \"data/flask-examples/sa-app-withcomments.py\"\n",
      " * Environment: development\n",
      " * Debug mode: on\n",
      " * Running on http://127.0.0.1:5000/ (Press CTRL+C to quit)\n",
      "127.0.0.1 - - [22/Mar/2019 13:24:17] \"POST /post HTTP/1.1\" 200 -\n",
      "{'_links': {'comments': 'http://localhost:5000/post/3/comment', 'self': 'http://localhost:5000/post/3'}, 'authorName': 'rick', 'content': 'Some content', 'postedDate': '2019-03-22T20:24:17.527023', 'title': 'Post with comments'}\n",
      "Posting comments\n",
      "127.0.0.1 - - [22/Mar/2019 13:24:17] \"POST /post/3/comment HTTP/1.1\" 201 -\n",
      "{'_links': {'post': 'http://localhost:5000/post/3', 'self': 'http://localhost:5000/post/3/comment/1'}, 'authorName': 'rick', 'content': 'Comment #0', 'postedDate': '2019-03-22T20:24:17.554805'}\n",
      "127.0.0.1 - - [22/Mar/2019 13:24:17] \"POST /post/3/comment HTTP/1.1\" 201 -\n",
      "{'_links': {'post': 'http://localhost:5000/post/3', 'self': 'http://localhost:5000/post/3/comment/2'}, 'authorName': 'rick', 'content': 'Comment #1', 'postedDate': '2019-03-22T20:24:17.564144'}\n",
      "127.0.0.1 - - [22/Mar/2019 13:24:17] \"POST /post/3/comment HTTP/1.1\" 201 -\n",
      "{'_links': {'post': 'http://localhost:5000/post/3', 'self': 'http://localhost:5000/post/3/comment/3'}, 'authorName': 'rick', 'content': 'Comment #2', 'postedDate': '2019-03-22T20:24:17.574197'}\n",
      "127.0.0.1 - - [22/Mar/2019 13:24:17] \"POST /post/3/comment HTTP/1.1\" 201 -\n",
      "{'_links': {'post': 'http://localhost:5000/post/3', 'self': 'http://localhost:5000/post/3/comment/4'}, 'authorName': 'rick', 'content': 'Comment #3', 'postedDate': '2019-03-22T20:24:17.585327'}\n",
      "Reading comments\n",
      "127.0.0.1 - - [22/Mar/2019 13:24:17] \"GET /post/3/comment HTTP/1.1\" 200 -\n",
      "127.0.0.1 - - [22/Mar/2019 13:24:17] \"GET /post/3/comment/1 HTTP/1.1\" 200 -\n",
      "{'_links': {'post': 'http://localhost:5000/post/3', 'self': 'http://localhost:5000/post/3/comment/1'}, 'authorName': 'rick', 'content': 'Comment #0', 'postedDate': '2019-03-22T20:24:17.554805'}\n",
      "127.0.0.1 - - [22/Mar/2019 13:24:17] \"GET /post/3/comment/2 HTTP/1.1\" 200 -\n",
      "{'_links': {'post': 'http://localhost:5000/post/3', 'self': 'http://localhost:5000/post/3/comment/2'}, 'authorName': 'rick', 'content': 'Comment #1', 'postedDate': '2019-03-22T20:24:17.564144'}\n",
      "127.0.0.1 - - [22/Mar/2019 13:24:17] \"GET /post/3/comment/3 HTTP/1.1\" 200 -\n",
      "{'_links': {'post': 'http://localhost:5000/post/3', 'self': 'http://localhost:5000/post/3/comment/3'}, 'authorName': 'rick', 'content': 'Comment #2', 'postedDate': '2019-03-22T20:24:17.574197'}\n",
      "127.0.0.1 - - [22/Mar/2019 13:24:17] \"GET /post/3/comment/4 HTTP/1.1\" 200 -\n",
      "{'_links': {'post': 'http://localhost:5000/post/3', 'self': 'http://localhost:5000/post/3/comment/4'}, 'authorName': 'rick', 'content': 'Comment #3', 'postedDate': '2019-03-22T20:24:17.585327'}\n",
      "Exiting output thread\n"
     ]
    }
   ],
   "source": [
    "with running_app('data/flask-examples/sa-app-withcomments.py'):\n",
    "    resp = sess.post('http://localhost:5000/post', json={\n",
    "        'title': 'Post with comments',\n",
    "        'content': 'Some content',\n",
    "    })\n",
    "    resp.raise_for_status()\n",
    "    print(resp.json())\n",
    "    comments_url = resp.json()['_links']['comments']\n",
    "    print('Posting comments')\n",
    "    for i in range(4):\n",
    "        r = sess.post(comments_url, json={'content': f'Comment #{i}'})\n",
    "        r.raise_for_status()\n",
    "        print(r.json())\n",
    "    print('Reading comments')\n",
    "    resp = sess.get(comments_url)\n",
    "    resp.raise_for_status()\n",
    "    for c in resp.json()['comments']:\n",
    "        r = sess.get(c['_links']['self'])\n",
    "        r.raise_for_status()\n",
    "        print(r.json())\n"
   ]
  }
 ],
 "metadata": {
  "kernelspec": {
   "display_name": "Python 3",
   "language": "python",
   "name": "python3"
  },
  "language_info": {
   "codemirror_mode": {
    "name": "ipython",
    "version": 3
   },
   "file_extension": ".py",
   "mimetype": "text/x-python",
   "name": "python",
   "nbconvert_exporter": "python",
   "pygments_lexer": "ipython3",
   "version": "3.7.2"
  }
 },
 "nbformat": 4,
 "nbformat_minor": 2
}
