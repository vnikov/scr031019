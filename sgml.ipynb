{
 "cells": [
  {
   "cell_type": "markdown",
   "metadata": {},
   "source": [
    "# Parsing HTML and XML"
   ]
  },
  {
   "cell_type": "code",
   "execution_count": 1,
   "metadata": {},
   "outputs": [],
   "source": [
    "import requests"
   ]
  },
  {
   "cell_type": "code",
   "execution_count": 2,
   "metadata": {},
   "outputs": [],
   "source": [
    "resp_h5 = requests.get('https://www.google.com')\n",
    "resp_h4 = requests.get('http://www.duckduckgo.com', allow_redirects=False)   # 301 redirect"
   ]
  },
  {
   "cell_type": "code",
   "execution_count": 3,
   "metadata": {},
   "outputs": [],
   "source": [
    "html5_content = resp_h5.content\n",
    "html4_content = resp_h4.content"
   ]
  },
  {
   "cell_type": "code",
   "execution_count": 4,
   "metadata": {},
   "outputs": [
    {
     "data": {
      "text/plain": [
       "b'<html>\\r\\n<head><title>301 Moved Permanently</title></head>\\r\\n<body bgcolor=\"white\">\\r\\n<center><h1>301 Moved Permanently</h1></center>\\r\\n<hr><center>nginx</center>\\r\\n</body>\\r\\n</html>\\r\\n'"
      ]
     },
     "execution_count": 4,
     "metadata": {},
     "output_type": "execute_result"
    }
   ],
   "source": [
    "html4_content"
   ]
  },
  {
   "cell_type": "markdown",
   "metadata": {},
   "source": [
    "## Parsing HTML using HTMLParser"
   ]
  },
  {
   "cell_type": "code",
   "execution_count": 5,
   "metadata": {},
   "outputs": [],
   "source": [
    "from html.parser import HTMLParser\n",
    "\n",
    "# create a subclass and override the handler methods\n",
    "class MyHTMLParser(HTMLParser):\n",
    "    def handle_starttag(self, tag, attrs):\n",
    "        print(\"Encountered a start tag: {} (attrs {})\".format(tag, attrs))\n",
    "\n",
    "    def handle_endtag(self, tag):\n",
    "        print(\"Encountered a end tag: {}\".format(tag))\n",
    "\n",
    "    def handle_data(self, data):\n",
    "        '''Do nothing here'''"
   ]
  },
  {
   "cell_type": "code",
   "execution_count": 6,
   "metadata": {
    "scrolled": true
   },
   "outputs": [
    {
     "name": "stdout",
     "output_type": "stream",
     "text": [
      "Encountered a start tag: html (attrs [])\n",
      "Encountered a start tag: head (attrs [])\n",
      "Encountered a start tag: title (attrs [])\n",
      "Encountered a end tag: title\n",
      "Encountered a end tag: head\n",
      "Encountered a start tag: body (attrs [('bgcolor', 'white')])\n",
      "Encountered a start tag: center (attrs [])\n",
      "Encountered a start tag: h1 (attrs [])\n",
      "Encountered a end tag: h1\n",
      "Encountered a end tag: center\n",
      "Encountered a start tag: hr (attrs [])\n",
      "Encountered a start tag: center (attrs [])\n",
      "Encountered a end tag: center\n",
      "Encountered a end tag: body\n",
      "Encountered a end tag: html\n"
     ]
    }
   ],
   "source": [
    "parser = MyHTMLParser()\n",
    "parser.feed(str(html4_content))"
   ]
  },
  {
   "cell_type": "code",
   "execution_count": 7,
   "metadata": {},
   "outputs": [
    {
     "name": "stdout",
     "output_type": "stream",
     "text": [
      "Encountered a start tag: html (attrs [('itemscope', ''), ('itemtype', 'http://schema.org/WebPage'), ('lang', 'en')])\n",
      "Encountered a start tag: head (attrs [])\n",
      "Encountered a start tag: meta (attrs [('content', \"Search the world\\\\'s information, including webpages, images, videos and more. Google has many special features to help you find exactly what you\\\\'re looking for.\"), ('name', 'description')])\n",
      "Encountered a start tag: meta (attrs [('content', 'noodp'), ('name', 'robots')])\n",
      "Encountered a start tag: meta (attrs [('content', 'text/html; charset=UTF-8'), ('http-equiv', 'Content-Type')])\n",
      "Encountered a start tag: meta (attrs [('content', '/logos/doodles/2019/celebrating-johann-sebastian-bach-5702425880035328.3-l.png'), ('itemprop', 'image')])\n",
      "Encountered a start tag: meta (attrs [('content', 'Celebrating Johann Sebastian Bach'), ('property', 'twitter:title')])\n",
      "Encountered a start tag: meta (attrs [('content', 'Compose your own Bach-inspired tunes with the first ever AI-powered #GoogleDoodle! 🎼 #BachDoodle '), ('property', 'twitter:description')])\n",
      "Encountered a start tag: meta (attrs [('content', 'Compose your own Bach-inspired tunes with the first ever AI-powered #GoogleDoodle! 🎼 #BachDoodle '), ('property', 'og:description')])\n",
      "Encountered a start tag: meta (attrs [('content', 'summary_large_image'), ('property', 'twitter:card')])\n",
      "Encountered a start tag: meta (attrs [('content', '@GoogleDoodles'), ('property', 'twitter:site')])\n",
      "Encountered a start tag: meta (attrs [('content', 'https://www.google.com/logos/doodles/2019/celebrating-johann-sebastian-bach-5702425880035328.3-2xa.gif'), ('property', 'twitter:image')])\n",
      "Encountered a start tag: meta (attrs [('content', 'https://www.google.com/logos/doodles/2019/celebrating-johann-sebastian-bach-5702425880035328.3-2xa.gif'), ('property', 'og:image')])\n",
      "Encountered a start tag: meta (attrs [('content', '637'), ('property', 'og:image:width')])\n",
      "Encountered a start tag: meta (attrs [('content', '300'), ('property', 'og:image:height')])\n",
      "Encountered a start tag: meta (attrs [('content', 'https://www.google.com/logos/doodles/2019/celebrating-johann-sebastian-bach-5702425880035328.3-2xa.gif'), ('property', 'og:url')])\n",
      "Encountered a start tag: meta (attrs [('content', 'video.other'), ('property', 'og:type')])\n",
      "Encountered a start tag: title (attrs [])\n",
      "Encountered a end tag: title\n",
      "Encountered a start tag: script (attrs [('nonce', 'WQMOVlOdaK13n8n+24JVBA==')])\n",
      "Encountered a end tag: script\n",
      "Encountered a start tag: script (attrs [('nonce', 'WQMOVlOdaK13n8n+24JVBA==')])\n",
      "Encountered a end tag: script\n",
      "Encountered a start tag: style (attrs [])\n",
      "Encountered a end tag: style\n",
      "Encountered a start tag: style (attrs [])\n",
      "Encountered a end tag: style\n",
      "Encountered a start tag: script (attrs [('nonce', 'WQMOVlOdaK13n8n+24JVBA==')])\n",
      "Encountered a end tag: script\n",
      "Encountered a end tag: head\n",
      "Encountered a start tag: body (attrs [('bgcolor', '#fff')])\n",
      "Encountered a start tag: script (attrs [('nonce', 'WQMOVlOdaK13n8n+24JVBA==')])\n",
      "Encountered a end tag: script\n",
      "Encountered a start tag: div (attrs [('id', 'mngb')])\n",
      "Encountered a start tag: div (attrs [('id', 'gbar')])\n",
      "Encountered a start tag: nobr (attrs [])\n",
      "Encountered a start tag: b (attrs [('class', 'gb1')])\n",
      "Encountered a end tag: b\n",
      "Encountered a start tag: a (attrs [('class', 'gb1'), ('href', 'https://www.google.com/imghp?hl=en&tab=wi')])\n",
      "Encountered a end tag: a\n",
      "Encountered a start tag: a (attrs [('class', 'gb1'), ('href', 'https://maps.google.com/maps?hl=en&tab=wl')])\n",
      "Encountered a end tag: a\n",
      "Encountered a start tag: a (attrs [('class', 'gb1'), ('href', 'https://play.google.com/?hl=en&tab=w8')])\n",
      "Encountered a end tag: a\n",
      "Encountered a start tag: a (attrs [('class', 'gb1'), ('href', 'https://www.youtube.com/?gl=US&tab=w1')])\n",
      "Encountered a end tag: a\n",
      "Encountered a start tag: a (attrs [('class', 'gb1'), ('href', 'https://news.google.com/nwshp?hl=en&tab=wn')])\n",
      "Encountered a end tag: a\n",
      "Encountered a start tag: a (attrs [('class', 'gb1'), ('href', 'https://mail.google.com/mail/?tab=wm')])\n",
      "Encountered a end tag: a\n",
      "Encountered a start tag: a (attrs [('class', 'gb1'), ('href', 'https://drive.google.com/?tab=wo')])\n",
      "Encountered a end tag: a\n",
      "Encountered a start tag: a (attrs [('class', 'gb1'), ('style', 'text-decoration:none'), ('href', 'https://www.google.com/intl/en/about/products?tab=wh')])\n",
      "Encountered a start tag: u (attrs [])\n",
      "Encountered a end tag: u\n",
      "Encountered a end tag: a\n",
      "Encountered a end tag: nobr\n",
      "Encountered a end tag: div\n",
      "Encountered a start tag: div (attrs [('id', 'guser'), ('width', '100%')])\n",
      "Encountered a start tag: nobr (attrs [])\n",
      "Encountered a start tag: span (attrs [('id', 'gbn'), ('class', 'gbi')])\n",
      "Encountered a end tag: span\n",
      "Encountered a start tag: span (attrs [('id', 'gbf'), ('class', 'gbf')])\n",
      "Encountered a end tag: span\n",
      "Encountered a start tag: span (attrs [('id', 'gbe')])\n",
      "Encountered a end tag: span\n",
      "Encountered a start tag: a (attrs [('href', 'http://www.google.com/history/optout?hl=en'), ('class', 'gb4')])\n",
      "Encountered a end tag: a\n",
      "Encountered a start tag: a (attrs [('href', '/preferences?hl=en'), ('class', 'gb4')])\n",
      "Encountered a end tag: a\n",
      "Encountered a start tag: a (attrs [('target', '_top'), ('id', 'gb_70'), ('href', 'https://accounts.google.com/ServiceLogin?hl=en&passive=true&continue=https://www.google.com/'), ('class', 'gb4')])\n",
      "Encountered a end tag: a\n",
      "Encountered a end tag: nobr\n",
      "Encountered a end tag: div\n",
      "Encountered a start tag: div (attrs [('class', 'gbh'), ('style', 'left:0')])\n",
      "Encountered a end tag: div\n",
      "Encountered a start tag: div (attrs [('class', 'gbh'), ('style', 'right:0')])\n",
      "Encountered a end tag: div\n",
      "Encountered a end tag: div\n",
      "Encountered a start tag: center (attrs [])\n",
      "Encountered a start tag: br (attrs [('clear', 'all'), ('id', 'lgpd')])\n",
      "Encountered a start tag: div (attrs [('id', 'lga')])\n",
      "Encountered a start tag: a (attrs [('href', '/search?site=&ie=UTF-8&q=Johann+Sebastian+Bach&oi=ddle&ct=celebrating-johann-sebastian-bach-5702425880035328&hl=en&kgmid=/m/03_f0&sa=X&ved=0ahUKEwjTrKDQoJThAhWaHTQIHWKVCrEQPQgD')])\n",
      "Encountered a start tag: img (attrs [('alt', 'Celebrating Johann Sebastian Bach'), ('border', '0'), ('height', '200'), ('src', '/logos/doodles/2019/celebrating-johann-sebastian-bach-5702425880035328.3-l.png'), ('title', 'Celebrating Johann Sebastian Bach'), ('width', '436'), ('id', 'hplogo'), ('onload', 'window.lol&&lol()')])\n",
      "Encountered a start tag: br (attrs [])\n",
      "Encountered a end tag: a\n",
      "Encountered a start tag: br (attrs [])\n",
      "Encountered a end tag: div\n",
      "Encountered a start tag: form (attrs [('action', '/search'), ('name', 'f')])\n",
      "Encountered a start tag: table (attrs [('cellpadding', '0'), ('cellspacing', '0')])\n",
      "Encountered a start tag: tr (attrs [('valign', 'top')])\n",
      "Encountered a start tag: td (attrs [('width', '25%')])\n",
      "Encountered a end tag: td\n",
      "Encountered a start tag: td (attrs [('align', 'center'), ('nowrap', '')])\n",
      "Encountered a start tag: input (attrs [('name', 'ie'), ('value', 'ISO-8859-1'), ('type', 'hidden')])\n",
      "Encountered a start tag: input (attrs [('value', 'en'), ('name', 'hl'), ('type', 'hidden')])\n",
      "Encountered a start tag: input (attrs [('name', 'source'), ('type', 'hidden'), ('value', 'hp')])\n",
      "Encountered a start tag: input (attrs [('name', 'biw'), ('type', 'hidden')])\n",
      "Encountered a start tag: input (attrs [('name', 'bih'), ('type', 'hidden')])\n",
      "Encountered a start tag: div (attrs [('class', 'ds'), ('style', 'height:32px;margin:4px 0')])\n",
      "Encountered a start tag: input (attrs [('style', 'color:#000;margin:0;padding:5px 8px 0 6px;vertical-align:top'), ('autocomplete', 'off'), ('class', 'lst'), ('value', ''), ('title', 'Google Search'), ('maxlength', '2048'), ('name', 'q'), ('size', '57')])\n",
      "Encountered a end tag: div\n",
      "Encountered a start tag: br (attrs [('style', 'line-height:0')])\n",
      "Encountered a start tag: span (attrs [('class', 'ds')])\n",
      "Encountered a start tag: span (attrs [('class', 'lsbb')])\n",
      "Encountered a start tag: input (attrs [('class', 'lsb'), ('value', 'Google Search'), ('name', 'btnG'), ('type', 'submit')])\n",
      "Encountered a end tag: span\n",
      "Encountered a end tag: span\n",
      "Encountered a start tag: span (attrs [('class', 'ds')])\n",
      "Encountered a start tag: span (attrs [('class', 'lsbb')])\n",
      "Encountered a start tag: input (attrs [('class', 'lsb'), ('value', \"I\\\\'m Feeling Lucky\"), ('name', 'btnI'), ('onclick', \"if(this.form.q.value)this.checked=1; else top.location=\\\\'/doodles/\\\\'\"), ('type', 'submit')])\n",
      "Encountered a end tag: span\n",
      "Encountered a end tag: span\n",
      "Encountered a end tag: td\n",
      "Encountered a start tag: td (attrs [('class', 'fl sblc'), ('align', 'left'), ('nowrap', ''), ('width', '25%')])\n",
      "Encountered a start tag: a (attrs [('href', '/advanced_search?hl=en&authuser=0')])\n",
      "Encountered a end tag: a\n",
      "Encountered a start tag: a (attrs [('href', '/language_tools?hl=en&authuser=0')])\n",
      "Encountered a end tag: a\n",
      "Encountered a end tag: td\n",
      "Encountered a end tag: tr\n",
      "Encountered a end tag: table\n",
      "Encountered a start tag: input (attrs [('id', 'gbv'), ('name', 'gbv'), ('type', 'hidden'), ('value', '1')])\n",
      "Encountered a start tag: script (attrs [('nonce', 'WQMOVlOdaK13n8n+24JVBA==')])\n",
      "Encountered a end tag: script\n",
      "Encountered a end tag: form\n",
      "Encountered a start tag: div (attrs [('id', 'gac_scont')])\n",
      "Encountered a end tag: div\n",
      "Encountered a start tag: div (attrs [('style', 'font-size:83%;min-height:3.5em')])\n",
      "Encountered a start tag: br (attrs [])\n",
      "Encountered a start tag: div (attrs [('id', 'prm')])\n",
      "Encountered a start tag: style (attrs [])\n",
      "Encountered a end tag: style\n",
      "Encountered a start tag: div (attrs [('class', 'szppmdbYutt__middle-slot-promo'), ('data-ved', '0ahUKEwjTrKDQoJThAhWaHTQIHWKVCrEQnIcBCAQ')])\n",
      "Encountered a start tag: a (attrs [('class', 'NKcBbd'), ('href', 'https://www.google.com/url?q=https://youtu.be/XBfYPp6KF2g&source=hpp&id=19011457&ct=3&usg=AFQjCNFwUsEleSoziAeJ4VvoDjnlgSu9iQ&sa=X&ved=0ahUKEwjTrKDQoJThAhWaHTQIHWKVCrEQ8IcBCAU'), ('rel', 'nofollow')])\n",
      "Encountered a end tag: a\n",
      "Encountered a start tag: span (attrs [])\n",
      "Encountered a end tag: span\n",
      "Encountered a end tag: div\n",
      "Encountered a end tag: div\n",
      "Encountered a end tag: div\n",
      "Encountered a start tag: span (attrs [('id', 'footer')])\n",
      "Encountered a start tag: div (attrs [('style', 'font-size:10pt')])\n",
      "Encountered a start tag: div (attrs [('style', 'margin:19px auto;text-align:center'), ('id', 'fll')])\n",
      "Encountered a start tag: a (attrs [('href', '/intl/en/ads/')])\n",
      "Encountered a end tag: a\n",
      "Encountered a start tag: a (attrs [('href', '/services/')])\n",
      "Encountered a end tag: a\n",
      "Encountered a start tag: a (attrs [('href', '/intl/en/about.html')])\n",
      "Encountered a end tag: a\n",
      "Encountered a end tag: div\n",
      "Encountered a end tag: div\n",
      "Encountered a start tag: p (attrs [('style', 'color:#767676;font-size:8pt')])\n",
      "Encountered a start tag: a (attrs [('href', '/intl/en/policies/privacy/')])\n",
      "Encountered a end tag: a\n",
      "Encountered a start tag: a (attrs [('href', '/intl/en/policies/terms/')])\n",
      "Encountered a end tag: a\n",
      "Encountered a end tag: p\n",
      "Encountered a end tag: span\n",
      "Encountered a end tag: center\n",
      "Encountered a start tag: script (attrs [('nonce', 'WQMOVlOdaK13n8n+24JVBA==')])\n",
      "Encountered a end tag: script\n",
      "Encountered a end tag: body\n",
      "Encountered a end tag: html\n"
     ]
    }
   ],
   "source": [
    "parser.feed(str(html5_content))"
   ]
  },
  {
   "cell_type": "markdown",
   "metadata": {},
   "source": [
    "## Parsing (bad) HTML using BeautifulSoup"
   ]
  },
  {
   "cell_type": "code",
   "execution_count": 8,
   "metadata": {},
   "outputs": [
    {
     "name": "stdout",
     "output_type": "stream",
     "text": [
      "Requirement already up-to-date: beautifulsoup4 in /Users/rick446/.virtualenvs/advanced-python/lib/python3.7/site-packages (4.7.1)\n",
      "Requirement already satisfied, skipping upgrade: soupsieve>=1.2 in /Users/rick446/.virtualenvs/advanced-python/lib/python3.7/site-packages (from beautifulsoup4) (1.8)\n",
      "\u001b[33mYou are using pip version 18.1, however version 19.0.3 is available.\n",
      "You should consider upgrading via the 'pip install --upgrade pip' command.\u001b[0m\n"
     ]
    }
   ],
   "source": [
    "!pip install -U beautifulsoup4"
   ]
  },
  {
   "cell_type": "code",
   "execution_count": 10,
   "metadata": {},
   "outputs": [],
   "source": [
    "from bs4 import BeautifulSoup\n",
    "soup = BeautifulSoup(html4_content, 'html.parser')"
   ]
  },
  {
   "cell_type": "code",
   "execution_count": 11,
   "metadata": {},
   "outputs": [
    {
     "data": {
      "text/plain": [
       "<head><title>301 Moved Permanently</title></head>"
      ]
     },
     "execution_count": 11,
     "metadata": {},
     "output_type": "execute_result"
    }
   ],
   "source": [
    "soup.find('head')"
   ]
  },
  {
   "cell_type": "code",
   "execution_count": 12,
   "metadata": {},
   "outputs": [
    {
     "data": {
      "text/plain": [
       "[<center><h1>301 Moved Permanently</h1></center>, <center>nginx</center>]"
      ]
     },
     "execution_count": 12,
     "metadata": {},
     "output_type": "execute_result"
    }
   ],
   "source": [
    "soup.findAll('center')"
   ]
  },
  {
   "cell_type": "code",
   "execution_count": 13,
   "metadata": {},
   "outputs": [
    {
     "name": "stdout",
     "output_type": "stream",
     "text": [
      "Requirement already satisfied: html5lib in /Users/rick446/.virtualenvs/advanced-python/lib/python3.7/site-packages (1.0.1)\n",
      "Requirement already satisfied: six>=1.9 in /Users/rick446/.virtualenvs/advanced-python/lib/python3.7/site-packages (from html5lib) (1.12.0)\n",
      "Requirement already satisfied: webencodings in /Users/rick446/.virtualenvs/advanced-python/lib/python3.7/site-packages (from html5lib) (0.5.1)\n",
      "\u001b[33mYou are using pip version 18.1, however version 19.0.3 is available.\n",
      "You should consider upgrading via the 'pip install --upgrade pip' command.\u001b[0m\n"
     ]
    }
   ],
   "source": [
    "!pip install html5lib"
   ]
  },
  {
   "cell_type": "code",
   "execution_count": 14,
   "metadata": {},
   "outputs": [],
   "source": [
    "soup = BeautifulSoup(html5_content, 'html5lib')"
   ]
  },
  {
   "cell_type": "code",
   "execution_count": 15,
   "metadata": {},
   "outputs": [
    {
     "data": {
      "text/plain": [
       "[<div id=\"mngb\"> <div id=\"gbar\"><nobr><b class=\"gb1\">Search</b> <a class=\"gb1\" href=\"https://www.google.com/imghp?hl=en&amp;tab=wi\">Images</a> <a class=\"gb1\" href=\"https://maps.google.com/maps?hl=en&amp;tab=wl\">Maps</a> <a class=\"gb1\" href=\"https://play.google.com/?hl=en&amp;tab=w8\">Play</a> <a class=\"gb1\" href=\"https://www.youtube.com/?gl=US&amp;tab=w1\">YouTube</a> <a class=\"gb1\" href=\"https://news.google.com/nwshp?hl=en&amp;tab=wn\">News</a> <a class=\"gb1\" href=\"https://mail.google.com/mail/?tab=wm\">Gmail</a> <a class=\"gb1\" href=\"https://drive.google.com/?tab=wo\">Drive</a> <a class=\"gb1\" href=\"https://www.google.com/intl/en/about/products?tab=wh\" style=\"text-decoration:none\"><u>More</u> »</a></nobr></div><div id=\"guser\" width=\"100%\"><nobr><span class=\"gbi\" id=\"gbn\"></span><span class=\"gbf\" id=\"gbf\"></span><span id=\"gbe\"></span><a class=\"gb4\" href=\"http://www.google.com/history/optout?hl=en\">Web History</a> | <a class=\"gb4\" href=\"/preferences?hl=en\">Settings</a> | <a class=\"gb4\" href=\"https://accounts.google.com/ServiceLogin?hl=en&amp;passive=true&amp;continue=https://www.google.com/\" id=\"gb_70\" target=\"_top\">Sign in</a></nobr></div><div class=\"gbh\" style=\"left:0\"></div><div class=\"gbh\" style=\"right:0\"></div> </div>,\n",
       " <div id=\"gbar\"><nobr><b class=\"gb1\">Search</b> <a class=\"gb1\" href=\"https://www.google.com/imghp?hl=en&amp;tab=wi\">Images</a> <a class=\"gb1\" href=\"https://maps.google.com/maps?hl=en&amp;tab=wl\">Maps</a> <a class=\"gb1\" href=\"https://play.google.com/?hl=en&amp;tab=w8\">Play</a> <a class=\"gb1\" href=\"https://www.youtube.com/?gl=US&amp;tab=w1\">YouTube</a> <a class=\"gb1\" href=\"https://news.google.com/nwshp?hl=en&amp;tab=wn\">News</a> <a class=\"gb1\" href=\"https://mail.google.com/mail/?tab=wm\">Gmail</a> <a class=\"gb1\" href=\"https://drive.google.com/?tab=wo\">Drive</a> <a class=\"gb1\" href=\"https://www.google.com/intl/en/about/products?tab=wh\" style=\"text-decoration:none\"><u>More</u> »</a></nobr></div>,\n",
       " <div id=\"guser\" width=\"100%\"><nobr><span class=\"gbi\" id=\"gbn\"></span><span class=\"gbf\" id=\"gbf\"></span><span id=\"gbe\"></span><a class=\"gb4\" href=\"http://www.google.com/history/optout?hl=en\">Web History</a> | <a class=\"gb4\" href=\"/preferences?hl=en\">Settings</a> | <a class=\"gb4\" href=\"https://accounts.google.com/ServiceLogin?hl=en&amp;passive=true&amp;continue=https://www.google.com/\" id=\"gb_70\" target=\"_top\">Sign in</a></nobr></div>,\n",
       " <div class=\"gbh\" style=\"left:0\"></div>,\n",
       " <div class=\"gbh\" style=\"right:0\"></div>,\n",
       " <div id=\"lga\"><a href=\"/search?site=&amp;ie=UTF-8&amp;q=Johann+Sebastian+Bach&amp;oi=ddle&amp;ct=celebrating-johann-sebastian-bach-5702425880035328&amp;hl=en&amp;kgmid=/m/03_f0&amp;sa=X&amp;ved=0ahUKEwjTrKDQoJThAhWaHTQIHWKVCrEQPQgD\"><img alt=\"Celebrating Johann Sebastian Bach\" border=\"0\" height=\"200\" id=\"hplogo\" onload=\"window.lol&amp;&amp;lol()\" src=\"/logos/doodles/2019/celebrating-johann-sebastian-bach-5702425880035328.3-l.png\" title=\"Celebrating Johann Sebastian Bach\" width=\"436\"/><br/></a><br/></div>,\n",
       " <div class=\"ds\" style=\"height:32px;margin:4px 0\"><input autocomplete=\"off\" class=\"lst\" maxlength=\"2048\" name=\"q\" size=\"57\" style=\"color:#000;margin:0;padding:5px 8px 0 6px;vertical-align:top\" title=\"Google Search\" value=\"\"/></div>,\n",
       " <div id=\"gac_scont\"></div>,\n",
       " <div style=\"font-size:83%;min-height:3.5em\"><br/><div id=\"prm\"><style>.szppmdbYutt__middle-slot-promo{font-size:small;margin-bottom:32px}.szppmdbYutt__middle-slot-promo a.ZIeIlb{display:inline-block;text-decoration:none}.szppmdbYutt__middle-slot-promo img{border:none;margin-right:5px;vertical-align:middle}</style><div class=\"szppmdbYutt__middle-slot-promo\" data-ved=\"0ahUKEwjTrKDQoJThAhWaHTQIHWKVCrEQnIcBCAQ\"><a class=\"NKcBbd\" href=\"https://www.google.com/url?q=https://youtu.be/XBfYPp6KF2g&amp;source=hpp&amp;id=19011457&amp;ct=3&amp;usg=AFQjCNFwUsEleSoziAeJ4VvoDjnlgSu9iQ&amp;sa=X&amp;ved=0ahUKEwjTrKDQoJThAhWaHTQIHWKVCrEQ8IcBCAU\" rel=\"nofollow\">Get the story</a><span> behind today's AI-powered Doodle</span></div></div></div>,\n",
       " <div id=\"prm\"><style>.szppmdbYutt__middle-slot-promo{font-size:small;margin-bottom:32px}.szppmdbYutt__middle-slot-promo a.ZIeIlb{display:inline-block;text-decoration:none}.szppmdbYutt__middle-slot-promo img{border:none;margin-right:5px;vertical-align:middle}</style><div class=\"szppmdbYutt__middle-slot-promo\" data-ved=\"0ahUKEwjTrKDQoJThAhWaHTQIHWKVCrEQnIcBCAQ\"><a class=\"NKcBbd\" href=\"https://www.google.com/url?q=https://youtu.be/XBfYPp6KF2g&amp;source=hpp&amp;id=19011457&amp;ct=3&amp;usg=AFQjCNFwUsEleSoziAeJ4VvoDjnlgSu9iQ&amp;sa=X&amp;ved=0ahUKEwjTrKDQoJThAhWaHTQIHWKVCrEQ8IcBCAU\" rel=\"nofollow\">Get the story</a><span> behind today's AI-powered Doodle</span></div></div>,\n",
       " <div class=\"szppmdbYutt__middle-slot-promo\" data-ved=\"0ahUKEwjTrKDQoJThAhWaHTQIHWKVCrEQnIcBCAQ\"><a class=\"NKcBbd\" href=\"https://www.google.com/url?q=https://youtu.be/XBfYPp6KF2g&amp;source=hpp&amp;id=19011457&amp;ct=3&amp;usg=AFQjCNFwUsEleSoziAeJ4VvoDjnlgSu9iQ&amp;sa=X&amp;ved=0ahUKEwjTrKDQoJThAhWaHTQIHWKVCrEQ8IcBCAU\" rel=\"nofollow\">Get the story</a><span> behind today's AI-powered Doodle</span></div>,\n",
       " <div style=\"font-size:10pt\"><div id=\"fll\" style=\"margin:19px auto;text-align:center\"><a href=\"/intl/en/ads/\">Advertising�Programs</a><a href=\"/services/\">Business Solutions</a><a href=\"/intl/en/about.html\">About Google</a></div></div>,\n",
       " <div id=\"fll\" style=\"margin:19px auto;text-align:center\"><a href=\"/intl/en/ads/\">Advertising�Programs</a><a href=\"/services/\">Business Solutions</a><a href=\"/intl/en/about.html\">About Google</a></div>]"
      ]
     },
     "execution_count": 15,
     "metadata": {},
     "output_type": "execute_result"
    }
   ],
   "source": [
    "soup.findAll('div')"
   ]
  },
  {
   "cell_type": "code",
   "execution_count": 16,
   "metadata": {},
   "outputs": [
    {
     "data": {
      "text/plain": [
       "[<span id=\"footer\"><div style=\"font-size:10pt\"><div id=\"fll\" style=\"margin:19px auto;text-align:center\"><a href=\"/intl/en/ads/\">Advertising�Programs</a><a href=\"/services/\">Business Solutions</a><a href=\"/intl/en/about.html\">About Google</a></div></div><p style=\"color:#767676;font-size:8pt\">© 2019 - <a href=\"/intl/en/policies/privacy/\">Privacy</a> - <a href=\"/intl/en/policies/terms/\">Terms</a></p></span>]"
      ]
     },
     "execution_count": 16,
     "metadata": {},
     "output_type": "execute_result"
    }
   ],
   "source": [
    "soup.find_all(attrs={'id': 'footer'})"
   ]
  },
  {
   "cell_type": "code",
   "execution_count": 17,
   "metadata": {},
   "outputs": [
    {
     "data": {
      "text/plain": [
       "<title>Google</title>"
      ]
     },
     "execution_count": 17,
     "metadata": {},
     "output_type": "execute_result"
    }
   ],
   "source": [
    "soup.title"
   ]
  },
  {
   "cell_type": "code",
   "execution_count": 18,
   "metadata": {},
   "outputs": [
    {
     "data": {
      "text/plain": [
       "['/advanced_search?hl=en&authuser=0',\n",
       " '/intl/en/about.html',\n",
       " '/intl/en/ads/',\n",
       " '/intl/en/policies/privacy/',\n",
       " '/intl/en/policies/terms/',\n",
       " '/language_tools?hl=en&authuser=0',\n",
       " '/preferences?hl=en',\n",
       " '/search?site=&ie=UTF-8&q=Johann+Sebastian+Bach&oi=ddle&ct=celebrating-johann-sebastian-bach-5702425880035328&hl=en&kgmid=/m/03_f0&sa=X&ved=0ahUKEwjTrKDQoJThAhWaHTQIHWKVCrEQPQgD',\n",
       " '/services/',\n",
       " 'http://www.google.com/history/optout?hl=en']"
      ]
     },
     "execution_count": 18,
     "metadata": {},
     "output_type": "execute_result"
    }
   ],
   "source": [
    "links = (link.get('href') for link in soup.find_all('a'))\n",
    "links = set(link for link in links if link)\n",
    "sorted(list(links))[:10]"
   ]
  },
  {
   "cell_type": "markdown",
   "metadata": {},
   "source": [
    "## Parsing HTML using lxml\n",
    "\n",
    "`lxml` is a (very) fast HTML and XML parser. Unfortunately, it is sometimes difficult to install. Here are the [installation instructions](http://lxml.de/installation.html) for the intrepid.\n",
    "\n",
    "If you're feeling lucky and have a C compiler installed, you can try:\n",
    "\n",
    "```\n",
    "STATIC_DEPS=true sudo pip install lxml\n",
    "```"
   ]
  },
  {
   "cell_type": "code",
   "execution_count": 19,
   "metadata": {},
   "outputs": [
    {
     "name": "stdout",
     "output_type": "stream",
     "text": [
      "Requirement already satisfied: lxml in /Users/rick446/.virtualenvs/advanced-python/lib/python3.7/site-packages (4.3.2)\n",
      "\u001b[33mYou are using pip version 18.1, however version 19.0.3 is available.\n",
      "You should consider upgrading via the 'pip install --upgrade pip' command.\u001b[0m\n"
     ]
    }
   ],
   "source": [
    "!pip install lxml"
   ]
  },
  {
   "cell_type": "code",
   "execution_count": 20,
   "metadata": {},
   "outputs": [],
   "source": [
    "# Easy: use BeautifulSoup\n",
    "from bs4 import BeautifulSoup\n",
    "soup = BeautifulSoup(html4_content, 'lxml')"
   ]
  },
  {
   "cell_type": "code",
   "execution_count": 21,
   "metadata": {},
   "outputs": [
    {
     "data": {
      "text/plain": [
       "<title>301 Moved Permanently</title>"
      ]
     },
     "execution_count": 21,
     "metadata": {},
     "output_type": "execute_result"
    }
   ],
   "source": [
    "soup.title"
   ]
  },
  {
   "cell_type": "code",
   "execution_count": 22,
   "metadata": {},
   "outputs": [],
   "source": [
    "soup = BeautifulSoup(html5_content, 'lxml')"
   ]
  },
  {
   "cell_type": "code",
   "execution_count": 23,
   "metadata": {},
   "outputs": [
    {
     "data": {
      "text/plain": [
       "<title>Google</title>"
      ]
     },
     "execution_count": 23,
     "metadata": {},
     "output_type": "execute_result"
    }
   ],
   "source": [
    "soup.title"
   ]
  },
  {
   "cell_type": "markdown",
   "metadata": {},
   "source": [
    "You can also use lxml directly:"
   ]
  },
  {
   "cell_type": "code",
   "execution_count": 24,
   "metadata": {},
   "outputs": [],
   "source": [
    "from lxml import etree\n",
    "from io import StringIO"
   ]
  },
  {
   "cell_type": "code",
   "execution_count": 25,
   "metadata": {},
   "outputs": [],
   "source": [
    "parser = etree.HTMLParser()\n",
    "tree = etree.parse(StringIO(str(html5_content)), parser)"
   ]
  },
  {
   "cell_type": "code",
   "execution_count": 26,
   "metadata": {},
   "outputs": [],
   "source": [
    "root = tree.getroot()"
   ]
  },
  {
   "cell_type": "code",
   "execution_count": 27,
   "metadata": {},
   "outputs": [
    {
     "data": {
      "text/plain": [
       "'html'"
      ]
     },
     "execution_count": 27,
     "metadata": {},
     "output_type": "execute_result"
    }
   ],
   "source": [
    "root.tag"
   ]
  },
  {
   "cell_type": "code",
   "execution_count": 28,
   "metadata": {},
   "outputs": [
    {
     "data": {
      "text/plain": [
       "[<Element body at 0x109b9ce48>]"
      ]
     },
     "execution_count": 28,
     "metadata": {},
     "output_type": "execute_result"
    }
   ],
   "source": [
    "list(root)"
   ]
  },
  {
   "cell_type": "code",
   "execution_count": 29,
   "metadata": {
    "scrolled": false
   },
   "outputs": [
    {
     "name": "stdout",
     "output_type": "stream",
     "text": [
      "https://www.google.com/imghp?hl=en&tab=wi\n",
      "https://maps.google.com/maps?hl=en&tab=wl\n",
      "https://play.google.com/?hl=en&tab=w8\n",
      "https://www.youtube.com/?gl=US&tab=w1\n",
      "https://news.google.com/nwshp?hl=en&tab=wn\n",
      "https://mail.google.com/mail/?tab=wm\n",
      "https://drive.google.com/?tab=wo\n",
      "https://www.google.com/intl/en/about/products?tab=wh\n",
      "http://www.google.com/history/optout?hl=en\n",
      "/preferences?hl=en\n"
     ]
    }
   ],
   "source": [
    "for link in tree.findall('.//a')[:10]:\n",
    "    print(link.attrib['href'])"
   ]
  },
  {
   "cell_type": "markdown",
   "metadata": {},
   "source": [
    "## Parsing XML using SAX"
   ]
  },
  {
   "cell_type": "code",
   "execution_count": 30,
   "metadata": {},
   "outputs": [],
   "source": [
    "xml_content = requests.get('http://www.developintelligence.com/blog/feed/').content"
   ]
  },
  {
   "cell_type": "code",
   "execution_count": 31,
   "metadata": {},
   "outputs": [],
   "source": [
    "import xml.sax"
   ]
  },
  {
   "cell_type": "code",
   "execution_count": 32,
   "metadata": {},
   "outputs": [],
   "source": [
    "class RSSHandler(xml.sax.ContentHandler):\n",
    "    def __init__(self):\n",
    "        self.in_link = False\n",
    "        self.link = None\n",
    "        xml.sax.ContentHandler.__init__(self)\n",
    "    def startElement(self, name, attrs):\n",
    "        if name == 'link':\n",
    "            self.in_link = True\n",
    "            self.link = ''\n",
    "    def endElement(self, name):\n",
    "        if name == 'link':\n",
    "            self.in_link = False\n",
    "            print(self.link.strip())\n",
    "            self.link = None\n",
    "    def characters(self, content):\n",
    "        if self.in_link:\n",
    "            self.link += content"
   ]
  },
  {
   "cell_type": "code",
   "execution_count": 33,
   "metadata": {},
   "outputs": [
    {
     "name": "stdout",
     "output_type": "stream",
     "text": [
      "http://www.developintelligence.com/blog\n",
      "http://www.developintelligence.com/blog/2018/07/insert-remove-splice-and-replace-elements-with-array-splice/\n",
      "http://www.developintelligence.com/blog/2018/02/reflections-reluctant-servant-leader/\n",
      "http://www.developintelligence.com/blog/2017/12/10-myths-professional-training/\n",
      "http://www.developintelligence.com/blog/2017/12/feedback-teams-learn-fast/\n",
      "http://www.developintelligence.com/blog/2017/11/reasons-shouldnt-ignore-automation/\n",
      "http://www.developintelligence.com/blog/2017/11/why-test-coverage-shouldnt-trust/\n",
      "http://www.developintelligence.com/blog/2017/11/2-surprising-skills-need-learning-team/\n",
      "http://www.developintelligence.com/blog/2017/11/devops-department-need-attention/\n",
      "http://www.developintelligence.com/blog/2017/10/look-learning-2018/\n",
      "http://www.developintelligence.com/blog/2017/10/job-specification-improve-hinder-performance/\n"
     ]
    }
   ],
   "source": [
    "parser = xml.sax.make_parser()\n",
    "parser.setContentHandler(RSSHandler())\n",
    "parser.parse(StringIO(str(xml_content, 'utf-8')))"
   ]
  },
  {
   "cell_type": "markdown",
   "metadata": {},
   "source": [
    "## Parsing XML using minidom"
   ]
  },
  {
   "cell_type": "code",
   "execution_count": 34,
   "metadata": {},
   "outputs": [],
   "source": [
    "import xml.dom.minidom"
   ]
  },
  {
   "cell_type": "code",
   "execution_count": 35,
   "metadata": {},
   "outputs": [],
   "source": [
    "dom = xml.dom.minidom.parseString(xml_content)"
   ]
  },
  {
   "cell_type": "code",
   "execution_count": 36,
   "metadata": {},
   "outputs": [
    {
     "data": {
      "text/plain": [
       "[<DOM Element: rss at 0x109e3d470>]"
      ]
     },
     "execution_count": 36,
     "metadata": {},
     "output_type": "execute_result"
    }
   ],
   "source": [
    "dom.childNodes"
   ]
  },
  {
   "cell_type": "code",
   "execution_count": 37,
   "metadata": {},
   "outputs": [
    {
     "data": {
      "text/plain": [
       "[<DOM Text node \"'\\n\\t'\">,\n",
       " <DOM Element: title at 0x109e3d638>,\n",
       " <DOM Text node \"'\\n\\t'\">,\n",
       " <DOM Element: atom:link at 0x109e3d6d0>,\n",
       " <DOM Text node \"'\\n\\t'\">,\n",
       " <DOM Element: link at 0x109e3d768>,\n",
       " <DOM Text node \"'\\n\\t'\">,\n",
       " <DOM Element: description at 0x109e3d800>,\n",
       " <DOM Text node \"'\\n\\t'\">,\n",
       " <DOM Element: lastBuildDate at 0x109e3d898>]"
      ]
     },
     "execution_count": 37,
     "metadata": {},
     "output_type": "execute_result"
    }
   ],
   "source": [
    "dom.childNodes[0].childNodes[1].childNodes[:10]"
   ]
  },
  {
   "cell_type": "markdown",
   "metadata": {},
   "source": [
    "## Parsing XML using ElementTree"
   ]
  },
  {
   "cell_type": "code",
   "execution_count": 38,
   "metadata": {},
   "outputs": [],
   "source": [
    "from xml.etree import ElementTree"
   ]
  },
  {
   "cell_type": "code",
   "execution_count": 39,
   "metadata": {},
   "outputs": [],
   "source": [
    "tree = ElementTree.parse(StringIO(str(xml_content, 'utf-8')))"
   ]
  },
  {
   "cell_type": "code",
   "execution_count": 40,
   "metadata": {},
   "outputs": [
    {
     "data": {
      "text/plain": [
       "<Element 'rss' at 0x109eebdb8>"
      ]
     },
     "execution_count": 40,
     "metadata": {},
     "output_type": "execute_result"
    }
   ],
   "source": [
    "tree.getroot()"
   ]
  },
  {
   "cell_type": "code",
   "execution_count": 41,
   "metadata": {},
   "outputs": [
    {
     "name": "stdout",
     "output_type": "stream",
     "text": [
      "http://www.developintelligence.com/blog\n",
      "http://www.developintelligence.com/blog/2018/07/insert-remove-splice-and-replace-elements-with-array-splice/\n",
      "http://www.developintelligence.com/blog/2018/02/reflections-reluctant-servant-leader/\n",
      "http://www.developintelligence.com/blog/2017/12/10-myths-professional-training/\n",
      "http://www.developintelligence.com/blog/2017/12/feedback-teams-learn-fast/\n",
      "http://www.developintelligence.com/blog/2017/11/reasons-shouldnt-ignore-automation/\n",
      "http://www.developintelligence.com/blog/2017/11/why-test-coverage-shouldnt-trust/\n",
      "http://www.developintelligence.com/blog/2017/11/2-surprising-skills-need-learning-team/\n",
      "http://www.developintelligence.com/blog/2017/11/devops-department-need-attention/\n",
      "http://www.developintelligence.com/blog/2017/10/look-learning-2018/\n",
      "http://www.developintelligence.com/blog/2017/10/job-specification-improve-hinder-performance/\n"
     ]
    }
   ],
   "source": [
    "for link in tree.findall('.//link'):\n",
    "    print(link.text)"
   ]
  },
  {
   "cell_type": "markdown",
   "metadata": {},
   "source": [
    "## Parsing XML using lxml"
   ]
  },
  {
   "cell_type": "code",
   "execution_count": 42,
   "metadata": {},
   "outputs": [],
   "source": [
    "soup = BeautifulSoup(xml_content, 'lxml-xml')"
   ]
  },
  {
   "cell_type": "code",
   "execution_count": 43,
   "metadata": {},
   "outputs": [
    {
     "data": {
      "text/plain": [
       "[<atom:link href=\"http://www.developintelligence.com/blog/feed/\" rel=\"self\" type=\"application/rss+xml\"/>,\n",
       " <link>http://www.developintelligence.com/blog</link>,\n",
       " <link>http://www.developintelligence.com/blog/2018/07/insert-remove-splice-and-replace-elements-with-array-splice/</link>,\n",
       " <link>http://www.developintelligence.com/blog/2018/02/reflections-reluctant-servant-leader/</link>,\n",
       " <link>http://www.developintelligence.com/blog/2017/12/10-myths-professional-training/</link>,\n",
       " <link>http://www.developintelligence.com/blog/2017/12/feedback-teams-learn-fast/</link>,\n",
       " <link>http://www.developintelligence.com/blog/2017/11/reasons-shouldnt-ignore-automation/</link>,\n",
       " <link>http://www.developintelligence.com/blog/2017/11/why-test-coverage-shouldnt-trust/</link>,\n",
       " <link>http://www.developintelligence.com/blog/2017/11/2-surprising-skills-need-learning-team/</link>,\n",
       " <link>http://www.developintelligence.com/blog/2017/11/devops-department-need-attention/</link>,\n",
       " <link>http://www.developintelligence.com/blog/2017/10/look-learning-2018/</link>,\n",
       " <link>http://www.developintelligence.com/blog/2017/10/job-specification-improve-hinder-performance/</link>]"
      ]
     },
     "execution_count": 43,
     "metadata": {},
     "output_type": "execute_result"
    }
   ],
   "source": [
    "soup.find_all('link')"
   ]
  },
  {
   "cell_type": "code",
   "execution_count": 44,
   "metadata": {},
   "outputs": [],
   "source": [
    "from io import BytesIO\n",
    "parser = etree.XMLParser()\n",
    "tree = etree.parse(BytesIO(xml_content), parser)"
   ]
  },
  {
   "cell_type": "code",
   "execution_count": 45,
   "metadata": {},
   "outputs": [
    {
     "data": {
      "text/plain": [
       "<Element rss at 0x109fc7148>"
      ]
     },
     "execution_count": 45,
     "metadata": {},
     "output_type": "execute_result"
    }
   ],
   "source": [
    "tree.getroot()"
   ]
  },
  {
   "cell_type": "code",
   "execution_count": 46,
   "metadata": {},
   "outputs": [
    {
     "data": {
      "text/plain": [
       "[<Element link at 0x109fb1c48>,\n",
       " <Element link at 0x109fc7a08>,\n",
       " <Element link at 0x109fc7ac8>,\n",
       " <Element link at 0x109fc7a48>,\n",
       " <Element link at 0x109fc7b08>,\n",
       " <Element link at 0x109fc7b48>,\n",
       " <Element link at 0x109fc7bc8>,\n",
       " <Element link at 0x109fc7c08>,\n",
       " <Element link at 0x109fc7c48>,\n",
       " <Element link at 0x109fc7c88>,\n",
       " <Element link at 0x109fc7cc8>]"
      ]
     },
     "execution_count": 46,
     "metadata": {},
     "output_type": "execute_result"
    }
   ],
   "source": [
    "tree.findall('.//link')"
   ]
  }
 ],
 "metadata": {
  "kernelspec": {
   "display_name": "Python 3",
   "language": "python",
   "name": "python3"
  },
  "language_info": {
   "codemirror_mode": {
    "name": "ipython",
    "version": 3
   },
   "file_extension": ".py",
   "mimetype": "text/x-python",
   "name": "python",
   "nbconvert_exporter": "python",
   "pygments_lexer": "ipython3",
   "version": "3.7.2"
  }
 },
 "nbformat": 4,
 "nbformat_minor": 1
}
