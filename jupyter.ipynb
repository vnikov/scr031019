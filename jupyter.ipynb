{
 "cells": [
  {
   "cell_type": "markdown",
   "metadata": {},
   "source": [
    "# Jupyter, briefly\n",
    "\n",
    "- Web-based interface to several different programming languages, but started with Python\n",
    "- The Jupyter **server** is what started when you ran `jupyter notebook`\n",
    "- When you open (or create) a Notebook (`.ipynb`) file in Jupyter, the server starts a **kernel** (a Python interpreter dedicated to that notebook)\n",
    "- Notebooks are organized into **cells**, which may be either code (Python) or Markdown cells.\n",
    "- When you execute a Python cell, it is sent to the kernel, executed, and the notebook then shows the output of running the cell\n",
    "\n",
    "## Why Jupyter\n",
    "\n",
    "- Training (lets you walk through examples, change things, and keep a record of what you did)\n",
    "- Exploration of data / APIs where it's good to keep a record of what you did (data scientists love their notebooks!)\n",
    "- Prototyping an algorithm to be \"productionalized\" later\n",
    "\n",
    "## Why not Jupyter\n",
    "\n",
    "- Running in production\n",
    "- Not great with source control (notebooks are stored as JSON, which does not diff well)\n",
    "\n",
    "## \"Restart and run all,\" or it didn't happen\n",
    "\n",
    "- You can run cells out of order as you're exploring. It's a good idea to run everything top to bottom when you're done to make sure you didn't delete any steps"
   ]
  },
  {
   "cell_type": "markdown",
   "metadata": {},
   "source": [
    "## Getting help\n",
    "\n",
    "#### See possible completions with `<TAB>`\n",
    "\n",
    "```ipython\n",
    "In [0]: from email import <TAB>\n",
    "```"
   ]
  },
  {
   "cell_type": "code",
   "execution_count": 1,
   "metadata": {},
   "outputs": [],
   "source": [
    "from email.mime.multipart import MIMEMultipart"
   ]
  },
  {
   "cell_type": "code",
   "execution_count": null,
   "metadata": {},
   "outputs": [],
   "source": [
    "MIMEMultipart.as_bytes()"
   ]
  },
  {
   "cell_type": "markdown",
   "metadata": {},
   "source": [
    "#### See function arguments by holding down shift and hitting `<TAB>`:\n",
    "    \n",
    "- one time: pops up simplified help\n",
    "- two times: expands simplified help\n",
    "- four times: brings up full help for function you're calling\n"
   ]
  },
  {
   "cell_type": "code",
   "execution_count": 2,
   "metadata": {},
   "outputs": [],
   "source": [
    "import os"
   ]
  },
  {
   "cell_type": "code",
   "execution_count": 3,
   "metadata": {},
   "outputs": [
    {
     "ename": "TypeError",
     "evalue": "open() missing required argument 'path' (pos 1)",
     "output_type": "error",
     "traceback": [
      "\u001b[0;31m---------------------------------------------------------------------------\u001b[0m",
      "\u001b[0;31mTypeError\u001b[0m                                 Traceback (most recent call last)",
      "\u001b[0;32m<ipython-input-3-c1b83b7e1979>\u001b[0m in \u001b[0;36m<module>\u001b[0;34m\u001b[0m\n\u001b[0;32m----> 1\u001b[0;31m \u001b[0mos\u001b[0m\u001b[0;34m.\u001b[0m\u001b[0mopen\u001b[0m\u001b[0;34m(\u001b[0m\u001b[0;34m)\u001b[0m\u001b[0;34m\u001b[0m\u001b[0;34m\u001b[0m\u001b[0m\n\u001b[0m",
      "\u001b[0;31mTypeError\u001b[0m: open() missing required argument 'path' (pos 1)"
     ]
    }
   ],
   "source": [
    "os.open()"
   ]
  },
  {
   "cell_type": "code",
   "execution_count": 4,
   "metadata": {},
   "outputs": [],
   "source": [
    "os?"
   ]
  },
  {
   "cell_type": "markdown",
   "metadata": {},
   "source": [
    "\n",
    "#### Bring up help on an object\n",
    "\n",
    "To bring up help:\n",
    "\n",
    "```ipython\n",
    "In [0]: my_function?\n",
    "```\n",
    "\n",
    "To bring up help with source code if available:\n",
    "\n",
    "```ipython\n",
    "In [0]: my_function??\n",
    "```"
   ]
  },
  {
   "cell_type": "code",
   "execution_count": 5,
   "metadata": {},
   "outputs": [],
   "source": [
    "def fun():\n",
    "    'Docstring'\n",
    "    print('This is my function')"
   ]
  },
  {
   "cell_type": "code",
   "execution_count": 6,
   "metadata": {},
   "outputs": [
    {
     "name": "stdout",
     "output_type": "stream",
     "text": [
      "Help on function fun in module __main__:\n",
      "\n",
      "fun()\n",
      "    Docstring\n",
      "\n"
     ]
    }
   ],
   "source": [
    "help(fun)"
   ]
  },
  {
   "cell_type": "code",
   "execution_count": 7,
   "metadata": {},
   "outputs": [],
   "source": [
    "fun?"
   ]
  },
  {
   "cell_type": "code",
   "execution_count": 8,
   "metadata": {},
   "outputs": [],
   "source": [
    "fun??"
   ]
  },
  {
   "cell_type": "code",
   "execution_count": 11,
   "metadata": {},
   "outputs": [],
   "source": [
    "import heapq"
   ]
  },
  {
   "cell_type": "code",
   "execution_count": 14,
   "metadata": {},
   "outputs": [],
   "source": [
    "heapq??"
   ]
  },
  {
   "cell_type": "markdown",
   "metadata": {},
   "source": [
    "#### To get a list of all the %magic commands\n",
    "\n",
    "```ipython\n",
    "In [0]: %magic\n",
    "```"
   ]
  },
  {
   "cell_type": "code",
   "execution_count": 15,
   "metadata": {},
   "outputs": [],
   "source": [
    "%magic"
   ]
  },
  {
   "cell_type": "code",
   "execution_count": 16,
   "metadata": {},
   "outputs": [],
   "source": [
    "magic"
   ]
  },
  {
   "cell_type": "markdown",
   "metadata": {},
   "source": [
    "# Interacting with the shell"
   ]
  },
  {
   "cell_type": "code",
   "execution_count": 17,
   "metadata": {},
   "outputs": [
    {
     "name": "stdout",
     "output_type": "stream",
     "text": [
      "['rick446']\n"
     ]
    }
   ],
   "source": [
    "x = !whoami\n",
    "print(x)"
   ]
  },
  {
   "cell_type": "code",
   "execution_count": 18,
   "metadata": {},
   "outputs": [
    {
     "name": "stdout",
     "output_type": "stream",
     "text": [
      "-rw-r--r--  1 rick446  staff     2072 Mar  7 03:31 Py2-3.ipynb\r\n",
      "-rw-r--r--  1 rick446  staff     2169 Mar 18 11:17 Setup-Anaconda.ipynb\r\n",
      "-rw-r--r--  1 rick446  staff     5868 Mar  5 17:06 Setup-Pip.ipynb\r\n",
      "-rw-r--r--  1 rick446  staff     9404 Mar  7 01:13 advanced-data-types-lab-solution.ipynb\r\n",
      "-rw-r--r--  1 rick446  staff     2954 Mar  7 01:13 advanced-data-types-lab.ipynb\r\n",
      "-rw-r--r--@ 1 rick446  staff    42585 Mar  6 23:35 advanced-data-types.ipynb\r\n",
      "-rw-r--r--  1 rick446  staff     1848 Mar 13 08:21 advanced-generators-lab.ipynb\r\n",
      "-rw-r--r--  1 rick446  staff    12895 Mar 13 08:23 advanced-generators.ipynb\r\n",
      "-rw-r--r--  1 rick446  staff     4823 Mar 13 08:47 advanced-oop-lab-solution.ipynb\r\n",
      "-rw-r--r--  1 rick446  staff     1412 Mar 13 08:41 advanced-oop-lab.ipynb\r\n",
      "-rw-r--r--  1 rick446  staff    17757 Mar 13 08:40 advanced-oop.ipynb\r\n",
      "-rw-r--r--  1 rick446  staff     4708 Mar 15 03:44 advanced-python.ipynb\r\n",
      "-rw-r--r--  1 rick446  staff     7239 Mar 12 07:46 ansible-modules-lab-solution.ipynb\r\n",
      "-rw-r--r--  1 rick446  staff     2862 Feb 22 10:21 ansible-modules-lab.ipynb\r\n",
      "-rw-r--r--  1 rick446  staff     5363 Feb 22 10:21 ansible-modules.ipynb\r\n",
      "-rw-r--r--  1 rick446  staff     8980 Mar 12 07:42 ansible-overview-lab-solution.ipynb\r\n",
      "-rw-r--r--  1 rick446  staff     4045 Mar 12 07:43 ansible-overview-lab.ipynb\r\n",
      "-rw-r--r--  1 rick446  staff    27988 Mar 12 07:34 ansible-overview.ipynb\r\n",
      "-rw-r--r--  1 rick446  staff     2753 Mar 13 13:57 asyncio-lab-solution.ipynb\r\n",
      "-rw-r--r--  1 rick446  staff     1611 Mar 13 13:54 asyncio-lab.ipynb\r\n",
      "-rw-r--r--  1 rick446  staff   164140 Mar 13 13:52 asyncio.ipynb\r\n",
      "-rw-r--r--  1 rick446  staff    16814 Mar  6 03:52 boto3-lab-solution.ipynb\r\n",
      "-rw-r--r--  1 rick446  staff     2658 Feb 22 15:20 boto3-lab.ipynb\r\n",
      "-rw-r--r--  1 rick446  staff   240197 Feb 20 12:11 boto3.ipynb\r\n",
      "-rw-r--r--  1 rick446  staff     1314 Feb 26 17:43 celery-lab.ipynb\r\n",
      "-rw-r--r--@ 1 rick446  staff    23555 Feb 26 17:44 celery.ipynb\r\n",
      "-rw-r--r--  1 rick446  staff     2498 Feb 23 08:46 class-productionalizing-notebooks.ipynb\r\n",
      "-rw-r--r--  1 rick446  staff     4608 Mar 12 10:53 class-python-sysadmin.ipynb\r\n",
      "-rw-r--r--  1 rick446  staff     3058 Mar  5 01:45 cli-lab-solution.ipynb\r\n",
      "-rw-r--r--  1 rick446  staff     1396 Feb 22 14:47 cli-lab.ipynb\r\n",
      "-rw-r--r--  1 rick446  staff    14205 Feb 20 10:30 cli.ipynb\r\n",
      "-rw-r--r--  1 rick446  staff     2306 Feb 23 09:26 closures-lab.ipynb\r\n",
      "-rw-r--r--@ 1 rick446  staff    20036 Mar  7 04:00 closures.ipynb\r\n",
      "-rw-r--r--  1 rick446  staff     2993 Mar  8 02:02 context-lab-solution.ipynb\r\n",
      "-rw-r--r--  1 rick446  staff     1826 Mar  8 01:47 context-lab.ipynb\r\n",
      "-rw-r--r--  1 rick446  staff     8594 Mar  8 01:47 context.ipynb\r\n",
      "-rw-r--r--  1 rick446  staff     6421 Mar  6 23:03 core-syntax-lab-solution.ipynb\r\n",
      "-rw-r--r--  1 rick446  staff     2417 Mar  6 23:03 core-syntax-lab.ipynb\r\n",
      "-rw-r--r--  1 rick446  staff    63346 Mar  6 23:03 core-syntax.ipynb\r\n",
      "-rw-r--r--  1 rick446  staff    14536 Mar  4 21:54 dates-lab-solution.ipynb\r\n",
      "-rw-r--r--  1 rick446  staff   313361 Feb 22 14:07 dates-lab.ipynb\r\n",
      "-rw-r--r--  1 rick446  staff    30806 Feb 20 08:18 dates.ipynb\r\n",
      "-rw-r--r--  1 rick446  staff     1293 Mar 13 10:11 dbapi-lab.ipynb\r\n",
      "-rw-r--r--  1 rick446  staff    14463 Mar 13 10:14 dbapi.ipynb\r\n",
      "-rw-r--r--  1 rick446  staff     2713 Mar 14 11:59 dispy-lab-solution.ipynb\r\n",
      "-rw-r--r--  1 rick446  staff     2111 Mar 14 12:03 dispy-lab.ipynb\r\n",
      "-rw-r--r--  1 rick446  staff    23904 Mar 14 11:54 dispy.ipynb\r\n",
      "-rw-r--r--  1 rick446  staff     1065 Mar 13 13:33 email-lab.ipynb\r\n",
      "-rw-r--r--  1 rick446  staff    12261 Mar 13 13:33 email.ipynb\r\n",
      "-rw-r--r--  1 rick446  staff     5810 Mar  5 22:11 fabric-lab-solution.ipynb\r\n",
      "-rw-r--r--  1 rick446  staff     2286 Feb 22 15:29 fabric-lab.ipynb\r\n",
      "-rw-r--r--  1 rick446  staff    54205 Feb 22 15:27 fabric.ipynb\r\n",
      "-rw-r--r--  1 rick446  staff    42717 Mar 12 09:01 flask-api-lab-solution.ipynb\r\n",
      "-rw-r--r--  1 rick446  staff     1109 Feb 22 15:31 flask-api-lab.ipynb\r\n",
      "-rw-r--r--  1 rick446  staff    39116 Mar 13 11:19 flask-api.ipynb\r\n",
      "-rw-r--r--  1 rick446  staff    14437 Mar 13 13:06 flask-pymongo-lab-solution.ipynb\r\n",
      "-rw-r--r--  1 rick446  staff     1033 Mar 13 12:52 flask-pymongo-lab.ipynb\r\n",
      "-rw-r--r--  1 rick446  staff     8906 Mar 13 13:04 flask-pymongo.ipynb\r\n",
      "-rw-r--r--  1 rick446  staff    13527 Mar 13 12:34 flask-sqlalchemy-lab-solution.ipynb\r\n",
      "-rw-r--r--  1 rick446  staff     1025 Mar 13 11:45 flask-sqlalchemy-lab.ipynb\r\n",
      "-rw-r--r--  1 rick446  staff     9547 Mar 13 12:52 flask-sqlalchemy.ipynb\r\n",
      "-rw-r--r--  1 rick446  staff     7009 Mar  6 01:28 flask-ui-lab-solution.ipynb\r\n",
      "-rw-r--r--  1 rick446  staff      766 Feb 21 14:19 flask-ui-lab.ipynb\r\n",
      "-rw-r--r--  1 rick446  staff    15176 Feb 21 14:19 flask-ui.ipynb\r\n",
      "-rw-r--r--  1 rick446  staff     8572 Mar  7 03:29 functional-lab-solution.ipynb\r\n",
      "-rw-r--r--  1 rick446  staff     2317 Feb 23 09:23 functional-lab.ipynb\r\n",
      "-rw-r--r--@ 1 rick446  staff    28190 Mar  7 03:01 functional.ipynb\r\n",
      "-rw-r--r--  1 rick446  staff    41605 Feb 18 13:48 git-workflow.ipynb\r\n",
      "-rw-r--r--  1 rick446  staff     3854 Feb 19 08:30 github-lab.ipynb\r\n",
      "-rw-r--r--  1 rick446  staff    22921 Mar 18 18:18 hackathon-intro.ipynb\r\n",
      "-rw-r--r--  1 rick446  staff     4360 Mar  8 01:35 iteration-lab-solution.ipynb\r\n",
      "-rw-r--r--  1 rick446  staff     2044 Feb 26 17:20 iteration-lab.ipynb\r\n",
      "-rw-r--r--  1 rick446  staff    22031 Mar  8 01:11 iteration.ipynb\r\n",
      "-rw-r--r--  1 rick446  staff     4517 Mar  4 22:42 jinja2-lab-solution.ipynb\r\n",
      "-rw-r--r--  1 rick446  staff     4517 Feb 22 14:41 jinja2-lab.ipynb\r\n",
      "-rw-r--r--  1 rick446  staff    28214 Feb 20 09:53 jinja2.ipynb\r\n",
      "-rw-r--r--  1 rick446  staff    11901 Mar 20 09:40 jupyter.ipynb\r\n",
      "-rw-r--r--  1 rick446  staff     5635 Mar  4 20:19 logging-lab-solution.ipynb\r\n",
      "-rw-r--r--  1 rick446  staff     1428 Feb  6 11:43 logging-lab.ipynb\r\n",
      "-rw-r--r--@ 1 rick446  staff    15406 Mar  1 17:35 logging.ipynb\r\n",
      "-rw-r--r--  1 rick446  staff     6288 Feb 26 17:11 macys-project.ipynb\r\n",
      "-rw-r--r--  1 rick446  staff     3271 Mar 18 18:20 ml-hackathon.ipynb\r\n",
      "-rw-r--r--  1 rick446  staff    17211 Feb 26 17:10 ml-productionalization-workflow.ipynb\r\n",
      "-rw-r--r--  1 rick446  staff     5855 Mar  8 03:31 multithreading-multiprocessing-lab-solution.ipynb\r\n",
      "-rw-r--r--  1 rick446  staff     4295 Mar  8 03:14 multithreading-multiprocessing-lab.ipynb\r\n",
      "-rw-r--r--  1 rick446  staff    19984 Mar  8 02:59 multithreading-multiprocessing.ipynb\r\n",
      "-rw-r--r--  1 rick446  staff     6120 Feb 26 17:57 numpy-lab.ipynb\r\n",
      "-rw-r--r--  1 rick446  staff    51869 Feb 26 17:57 numpy.ipynb\r\n",
      "-rw-r--r--@ 1 rick446  staff     4437 Mar  6 19:56 nutanix-intermediate-python.ipynb\r\n",
      "-rw-r--r--  1 rick446  staff     6053 Mar  8 00:45 oop-decorators-lab-solution.ipynb\r\n",
      "-rw-r--r--  1 rick446  staff     1762 Feb 23 09:53 oop-decorators-lab.ipynb\r\n",
      "-rw-r--r--@ 1 rick446  staff    31915 Mar  8 00:22 oop-decorators.ipynb\r\n",
      "-rw-r--r--  1 rick446  staff     7457 Mar  7 21:48 oop-inheritance-lab-solution.ipynb\r\n",
      "-rw-r--r--  1 rick446  staff     1495 Feb 22 14:58 oop-inheritance-lab.ipynb\r\n",
      "-rw-r--r--  1 rick446  staff    14123 Mar  7 21:29 oop-inheritance.ipynb\r\n",
      "-rw-r--r--  1 rick446  staff    10515 Mar  7 21:11 oop-intro-lab-solution.ipynb\r\n",
      "-rw-r--r--  1 rick446  staff     2698 Mar  7 20:44 oop-intro-lab.ipynb\r\n",
      "-rw-r--r--  1 rick446  staff    43929 Mar  5 05:30 oop-intro-ml.ipynb\r\n",
      "-rw-r--r--  1 rick446  staff    18198 Mar  7 20:34 oop-intro.ipynb\r\n",
      "-rw-r--r--  1 rick446  staff     8506 Mar  7 22:56 oop-magic-lab-solution.ipynb\r\n",
      "-rw-r--r--  1 rick446  staff     3672 Mar  7 22:16 oop-magic-lab.ipynb\r\n",
      "-rw-r--r--@ 1 rick446  staff    20472 Mar  7 22:04 oop-magic.ipynb\r\n",
      "-rw-r--r--  1 rick446  staff     2657 Feb 19 08:17 packaging-lab.ipynb\r\n",
      "-rw-r--r--  1 rick446  staff    71596 Feb 14 08:55 packaging.ipynb\r\n",
      "-rw-r--r--  1 rick446  staff     3189 Mar 18 11:04 pandas-intro-lab.ipynb\r\n",
      "-rw-r--r--  1 rick446  staff   169198 Mar 18 11:04 pandas-intro.ipynb\r\n",
      "-rw-r--r--  1 rick446  staff     6030 Mar 18 11:03 pandas-lab.ipynb\r\n",
      "-rw-r--r--  1 rick446  staff     1865 Mar 18 11:04 pandas-munging-lab.ipynb\r\n",
      "-rw-r--r--  1 rick446  staff    47614 Mar 18 18:13 pandas-munging.ipynb\r\n",
      "-rw-r--r--  1 rick446  staff     2553 Mar 18 17:25 pandas-sklearn-lab.ipynb\r\n",
      "-rw-r--r--  1 rick446  staff    57509 Mar 18 18:18 pandas-sklearn.ipynb\r\n",
      "-rw-r--r--  1 rick446  staff  4565012 Mar  6 19:22 pandas.ipynb\r\n",
      "-rw-r--r--  1 rick446  staff     5223 Feb 26 17:36 pdb-lab.ipynb\r\n",
      "-rw-r--r--@ 1 rick446  staff    30496 Mar  1 18:36 pdb.ipynb\r\n",
      "-rw-r--r--  1 rick446  staff      555 Feb  5 13:45 projects.ipynb\r\n",
      "-rw-r--r--  1 rick446  staff     4908 Mar 14 10:22 pycos-lab-solution.ipynb\r\n",
      "-rw-r--r--  1 rick446  staff     1249 Mar 14 10:21 pycos-lab.ipynb\r\n",
      "-rw-r--r--  1 rick446  staff    16707 Mar 14 10:18 pycos.ipynb\r\n",
      "-rw-r--r--  1 rick446  staff     3980 Mar 13 10:58 pymongo-lab-solution.ipynb\r\n",
      "-rw-r--r--  1 rick446  staff     2680 Mar 13 10:58 pymongo-lab.ipynb\r\n",
      "-rw-r--r--  1 rick446  staff    14630 Mar 13 10:58 pymongo.ipynb\r\n",
      "-rw-r--r--  1 rick446  staff    30257 Mar 12 10:09 python-sysadmin-project-solution.ipynb\r\n",
      "-rw-r--r--  1 rick446  staff    12147 Feb 22 13:52 python-sysadmin-project.ipynb\r\n",
      "-rw-r--r--  1 rick446  staff    75716 Feb 18 08:31 recommendation-engine-2.ipynb\r\n",
      "-rw-r--r--  1 rick446  staff   103799 Feb 15 09:17 recommendation-engine.ipynb\r\n",
      "-rw-r--r--  1 rick446  staff     8521 Mar  5 21:17 requests-lab-solution.ipynb\r\n",
      "-rw-r--r--  1 rick446  staff     1910 Feb 22 15:21 requests-lab.ipynb\r\n",
      "-rw-r--r--  1 rick446  staff    44491 Mar  8 03:50 requests.ipynb\r\n",
      "-rw-r--r--  1 rick446  staff     3470 Feb 26 18:05 scipy-lab.ipynb\r\n",
      "-rw-r--r--  1 rick446  staff   530360 Feb 26 18:03 scipy.ipynb\r\n",
      "-rw-r--r--  1 rick446  staff     1277 Mar 13 13:42 sgml-lab.ipynb\r\n",
      "-rw-r--r--  1 rick446  staff    39702 Mar 13 13:42 sgml.ipynb\r\n",
      "-rw-r--r--  1 rick446  staff     1731 Feb 20 10:49 shell-scripts-lab.ipynb\r\n",
      "-rw-r--r--  1 rick446  staff   107116 Feb 22 14:43 shell-scripts.ipynb\r\n",
      "-rw-r--r--  1 rick446  staff     1690 Mar 18 18:17 sklearn-validation-lab.ipynb\r\n",
      "-rw-r--r--  1 rick446  staff    31028 Mar 18 18:18 sklearn-validation.ipynb\r\n",
      "-rw-r--r--  1 rick446  staff    49436 Feb 20 13:11 snmp.ipynb\r\n",
      "-rw-r--r--  1 rick446  staff     1113 Feb 21 12:02 socket-lab.ipynb\r\n",
      "-rw-r--r--  1 rick446  staff    15023 Feb 22 15:30 socket.ipynb\r\n",
      "-rw-r--r--  1 rick446  staff    22574 Mar  4 04:04 structured-text-lab-solution.ipynb\r\n",
      "-rw-r--r--  1 rick446  staff     2604 Feb  6 11:37 structured-text-lab.ipynb\r\n",
      "-rw-r--r--  1 rick446  staff   521497 Feb  6 11:31 structured-text.ipynb\r\n",
      "-rw-r--r--  1 rick446  staff    81532 Mar  4 02:29 text-processing-lab-solution.ipynb\r\n",
      "-rw-r--r--  1 rick446  staff     2293 Feb  6 10:50 text-processing-lab.ipynb\r\n",
      "-rw-r--r--  1 rick446  staff    42325 Feb  6 10:48 text-processing.ipynb\r\n",
      "-rw-r--r--  1 rick446  staff     1860 Feb 22 14:58 unittest-lab.ipynb\r\n",
      "-rw-r--r--  1 rick446  staff   145629 Feb 19 08:18 unittest.ipynb\r\n",
      "-rw-r--r--  1 rick446  staff     1871 Mar  7 01:44 virtualenv-lab.ipynb\r\n",
      "-rw-r--r--  1 rick446  staff    71455 Mar  7 01:35 virtualenv.ipynb\r\n",
      "-rw-r--r--  1 rick446  staff      950 Mar 13 13:12 wsgi-lab.ipynb\r\n",
      "-rw-r--r--  1 rick446  staff     4137 Mar 13 13:15 wsgi.ipynb\r\n"
     ]
    }
   ],
   "source": [
    "pattern = '*.ipynb'\n",
    "!ls -l {pattern}"
   ]
  },
  {
   "cell_type": "code",
   "execution_count": 19,
   "metadata": {},
   "outputs": [],
   "source": [
    "pattern = '*.ipynb'\n",
    "filenames = !ls -l {pattern}"
   ]
  },
  {
   "cell_type": "code",
   "execution_count": 20,
   "metadata": {},
   "outputs": [
    {
     "data": {
      "text/plain": [
       "['-rw-r--r--  1 rick446  staff     2072 Mar  7 03:31 Py2-3.ipynb',\n",
       " '-rw-r--r--  1 rick446  staff     2169 Mar 18 11:17 Setup-Anaconda.ipynb',\n",
       " '-rw-r--r--  1 rick446  staff     5868 Mar  5 17:06 Setup-Pip.ipynb',\n",
       " '-rw-r--r--  1 rick446  staff     9404 Mar  7 01:13 advanced-data-types-lab-solution.ipynb',\n",
       " '-rw-r--r--  1 rick446  staff     2954 Mar  7 01:13 advanced-data-types-lab.ipynb',\n",
       " '-rw-r--r--@ 1 rick446  staff    42585 Mar  6 23:35 advanced-data-types.ipynb',\n",
       " '-rw-r--r--  1 rick446  staff     1848 Mar 13 08:21 advanced-generators-lab.ipynb',\n",
       " '-rw-r--r--  1 rick446  staff    12895 Mar 13 08:23 advanced-generators.ipynb',\n",
       " '-rw-r--r--  1 rick446  staff     4823 Mar 13 08:47 advanced-oop-lab-solution.ipynb',\n",
       " '-rw-r--r--  1 rick446  staff     1412 Mar 13 08:41 advanced-oop-lab.ipynb',\n",
       " '-rw-r--r--  1 rick446  staff    17757 Mar 13 08:40 advanced-oop.ipynb',\n",
       " '-rw-r--r--  1 rick446  staff     4708 Mar 15 03:44 advanced-python.ipynb',\n",
       " '-rw-r--r--  1 rick446  staff     7239 Mar 12 07:46 ansible-modules-lab-solution.ipynb',\n",
       " '-rw-r--r--  1 rick446  staff     2862 Feb 22 10:21 ansible-modules-lab.ipynb',\n",
       " '-rw-r--r--  1 rick446  staff     5363 Feb 22 10:21 ansible-modules.ipynb',\n",
       " '-rw-r--r--  1 rick446  staff     8980 Mar 12 07:42 ansible-overview-lab-solution.ipynb',\n",
       " '-rw-r--r--  1 rick446  staff     4045 Mar 12 07:43 ansible-overview-lab.ipynb',\n",
       " '-rw-r--r--  1 rick446  staff    27988 Mar 12 07:34 ansible-overview.ipynb',\n",
       " '-rw-r--r--  1 rick446  staff     2753 Mar 13 13:57 asyncio-lab-solution.ipynb',\n",
       " '-rw-r--r--  1 rick446  staff     1611 Mar 13 13:54 asyncio-lab.ipynb',\n",
       " '-rw-r--r--  1 rick446  staff   164140 Mar 13 13:52 asyncio.ipynb',\n",
       " '-rw-r--r--  1 rick446  staff    16814 Mar  6 03:52 boto3-lab-solution.ipynb',\n",
       " '-rw-r--r--  1 rick446  staff     2658 Feb 22 15:20 boto3-lab.ipynb',\n",
       " '-rw-r--r--  1 rick446  staff   240197 Feb 20 12:11 boto3.ipynb',\n",
       " '-rw-r--r--  1 rick446  staff     1314 Feb 26 17:43 celery-lab.ipynb',\n",
       " '-rw-r--r--@ 1 rick446  staff    23555 Feb 26 17:44 celery.ipynb',\n",
       " '-rw-r--r--  1 rick446  staff     2498 Feb 23 08:46 class-productionalizing-notebooks.ipynb',\n",
       " '-rw-r--r--  1 rick446  staff     4608 Mar 12 10:53 class-python-sysadmin.ipynb',\n",
       " '-rw-r--r--  1 rick446  staff     3058 Mar  5 01:45 cli-lab-solution.ipynb',\n",
       " '-rw-r--r--  1 rick446  staff     1396 Feb 22 14:47 cli-lab.ipynb',\n",
       " '-rw-r--r--  1 rick446  staff    14205 Feb 20 10:30 cli.ipynb',\n",
       " '-rw-r--r--  1 rick446  staff     2306 Feb 23 09:26 closures-lab.ipynb',\n",
       " '-rw-r--r--@ 1 rick446  staff    20036 Mar  7 04:00 closures.ipynb',\n",
       " '-rw-r--r--  1 rick446  staff     2993 Mar  8 02:02 context-lab-solution.ipynb',\n",
       " '-rw-r--r--  1 rick446  staff     1826 Mar  8 01:47 context-lab.ipynb',\n",
       " '-rw-r--r--  1 rick446  staff     8594 Mar  8 01:47 context.ipynb',\n",
       " '-rw-r--r--  1 rick446  staff     6421 Mar  6 23:03 core-syntax-lab-solution.ipynb',\n",
       " '-rw-r--r--  1 rick446  staff     2417 Mar  6 23:03 core-syntax-lab.ipynb',\n",
       " '-rw-r--r--  1 rick446  staff    63346 Mar  6 23:03 core-syntax.ipynb',\n",
       " '-rw-r--r--  1 rick446  staff    14536 Mar  4 21:54 dates-lab-solution.ipynb',\n",
       " '-rw-r--r--  1 rick446  staff   313361 Feb 22 14:07 dates-lab.ipynb',\n",
       " '-rw-r--r--  1 rick446  staff    30806 Feb 20 08:18 dates.ipynb',\n",
       " '-rw-r--r--  1 rick446  staff     1293 Mar 13 10:11 dbapi-lab.ipynb',\n",
       " '-rw-r--r--  1 rick446  staff    14463 Mar 13 10:14 dbapi.ipynb',\n",
       " '-rw-r--r--  1 rick446  staff     2713 Mar 14 11:59 dispy-lab-solution.ipynb',\n",
       " '-rw-r--r--  1 rick446  staff     2111 Mar 14 12:03 dispy-lab.ipynb',\n",
       " '-rw-r--r--  1 rick446  staff    23904 Mar 14 11:54 dispy.ipynb',\n",
       " '-rw-r--r--  1 rick446  staff     1065 Mar 13 13:33 email-lab.ipynb',\n",
       " '-rw-r--r--  1 rick446  staff    12261 Mar 13 13:33 email.ipynb',\n",
       " '-rw-r--r--  1 rick446  staff     5810 Mar  5 22:11 fabric-lab-solution.ipynb',\n",
       " '-rw-r--r--  1 rick446  staff     2286 Feb 22 15:29 fabric-lab.ipynb',\n",
       " '-rw-r--r--  1 rick446  staff    54205 Feb 22 15:27 fabric.ipynb',\n",
       " '-rw-r--r--  1 rick446  staff    42717 Mar 12 09:01 flask-api-lab-solution.ipynb',\n",
       " '-rw-r--r--  1 rick446  staff     1109 Feb 22 15:31 flask-api-lab.ipynb',\n",
       " '-rw-r--r--  1 rick446  staff    39116 Mar 13 11:19 flask-api.ipynb',\n",
       " '-rw-r--r--  1 rick446  staff    14437 Mar 13 13:06 flask-pymongo-lab-solution.ipynb',\n",
       " '-rw-r--r--  1 rick446  staff     1033 Mar 13 12:52 flask-pymongo-lab.ipynb',\n",
       " '-rw-r--r--  1 rick446  staff     8906 Mar 13 13:04 flask-pymongo.ipynb',\n",
       " '-rw-r--r--  1 rick446  staff    13527 Mar 13 12:34 flask-sqlalchemy-lab-solution.ipynb',\n",
       " '-rw-r--r--  1 rick446  staff     1025 Mar 13 11:45 flask-sqlalchemy-lab.ipynb',\n",
       " '-rw-r--r--  1 rick446  staff     9547 Mar 13 12:52 flask-sqlalchemy.ipynb',\n",
       " '-rw-r--r--  1 rick446  staff     7009 Mar  6 01:28 flask-ui-lab-solution.ipynb',\n",
       " '-rw-r--r--  1 rick446  staff      766 Feb 21 14:19 flask-ui-lab.ipynb',\n",
       " '-rw-r--r--  1 rick446  staff    15176 Feb 21 14:19 flask-ui.ipynb',\n",
       " '-rw-r--r--  1 rick446  staff     8572 Mar  7 03:29 functional-lab-solution.ipynb',\n",
       " '-rw-r--r--  1 rick446  staff     2317 Feb 23 09:23 functional-lab.ipynb',\n",
       " '-rw-r--r--@ 1 rick446  staff    28190 Mar  7 03:01 functional.ipynb',\n",
       " '-rw-r--r--  1 rick446  staff    41605 Feb 18 13:48 git-workflow.ipynb',\n",
       " '-rw-r--r--  1 rick446  staff     3854 Feb 19 08:30 github-lab.ipynb',\n",
       " '-rw-r--r--  1 rick446  staff    22921 Mar 18 18:18 hackathon-intro.ipynb',\n",
       " '-rw-r--r--  1 rick446  staff     4360 Mar  8 01:35 iteration-lab-solution.ipynb',\n",
       " '-rw-r--r--  1 rick446  staff     2044 Feb 26 17:20 iteration-lab.ipynb',\n",
       " '-rw-r--r--  1 rick446  staff    22031 Mar  8 01:11 iteration.ipynb',\n",
       " '-rw-r--r--  1 rick446  staff     4517 Mar  4 22:42 jinja2-lab-solution.ipynb',\n",
       " '-rw-r--r--  1 rick446  staff     4517 Feb 22 14:41 jinja2-lab.ipynb',\n",
       " '-rw-r--r--  1 rick446  staff    28214 Feb 20 09:53 jinja2.ipynb',\n",
       " '-rw-r--r--  1 rick446  staff    11901 Mar 20 09:40 jupyter.ipynb',\n",
       " '-rw-r--r--  1 rick446  staff     5635 Mar  4 20:19 logging-lab-solution.ipynb',\n",
       " '-rw-r--r--  1 rick446  staff     1428 Feb  6 11:43 logging-lab.ipynb',\n",
       " '-rw-r--r--@ 1 rick446  staff    15406 Mar  1 17:35 logging.ipynb',\n",
       " '-rw-r--r--  1 rick446  staff     6288 Feb 26 17:11 macys-project.ipynb',\n",
       " '-rw-r--r--  1 rick446  staff     3271 Mar 18 18:20 ml-hackathon.ipynb',\n",
       " '-rw-r--r--  1 rick446  staff    17211 Feb 26 17:10 ml-productionalization-workflow.ipynb',\n",
       " '-rw-r--r--  1 rick446  staff     5855 Mar  8 03:31 multithreading-multiprocessing-lab-solution.ipynb',\n",
       " '-rw-r--r--  1 rick446  staff     4295 Mar  8 03:14 multithreading-multiprocessing-lab.ipynb',\n",
       " '-rw-r--r--  1 rick446  staff    19984 Mar  8 02:59 multithreading-multiprocessing.ipynb',\n",
       " '-rw-r--r--  1 rick446  staff     6120 Feb 26 17:57 numpy-lab.ipynb',\n",
       " '-rw-r--r--  1 rick446  staff    51869 Feb 26 17:57 numpy.ipynb',\n",
       " '-rw-r--r--@ 1 rick446  staff     4437 Mar  6 19:56 nutanix-intermediate-python.ipynb',\n",
       " '-rw-r--r--  1 rick446  staff     6053 Mar  8 00:45 oop-decorators-lab-solution.ipynb',\n",
       " '-rw-r--r--  1 rick446  staff     1762 Feb 23 09:53 oop-decorators-lab.ipynb',\n",
       " '-rw-r--r--@ 1 rick446  staff    31915 Mar  8 00:22 oop-decorators.ipynb',\n",
       " '-rw-r--r--  1 rick446  staff     7457 Mar  7 21:48 oop-inheritance-lab-solution.ipynb',\n",
       " '-rw-r--r--  1 rick446  staff     1495 Feb 22 14:58 oop-inheritance-lab.ipynb',\n",
       " '-rw-r--r--  1 rick446  staff    14123 Mar  7 21:29 oop-inheritance.ipynb',\n",
       " '-rw-r--r--  1 rick446  staff    10515 Mar  7 21:11 oop-intro-lab-solution.ipynb',\n",
       " '-rw-r--r--  1 rick446  staff     2698 Mar  7 20:44 oop-intro-lab.ipynb',\n",
       " '-rw-r--r--  1 rick446  staff    43929 Mar  5 05:30 oop-intro-ml.ipynb',\n",
       " '-rw-r--r--  1 rick446  staff    18198 Mar  7 20:34 oop-intro.ipynb',\n",
       " '-rw-r--r--  1 rick446  staff     8506 Mar  7 22:56 oop-magic-lab-solution.ipynb',\n",
       " '-rw-r--r--  1 rick446  staff     3672 Mar  7 22:16 oop-magic-lab.ipynb',\n",
       " '-rw-r--r--@ 1 rick446  staff    20472 Mar  7 22:04 oop-magic.ipynb',\n",
       " '-rw-r--r--  1 rick446  staff     2657 Feb 19 08:17 packaging-lab.ipynb',\n",
       " '-rw-r--r--  1 rick446  staff    71596 Feb 14 08:55 packaging.ipynb',\n",
       " '-rw-r--r--  1 rick446  staff     3189 Mar 18 11:04 pandas-intro-lab.ipynb',\n",
       " '-rw-r--r--  1 rick446  staff   169198 Mar 18 11:04 pandas-intro.ipynb',\n",
       " '-rw-r--r--  1 rick446  staff     6030 Mar 18 11:03 pandas-lab.ipynb',\n",
       " '-rw-r--r--  1 rick446  staff     1865 Mar 18 11:04 pandas-munging-lab.ipynb',\n",
       " '-rw-r--r--  1 rick446  staff    47614 Mar 18 18:13 pandas-munging.ipynb',\n",
       " '-rw-r--r--  1 rick446  staff     2553 Mar 18 17:25 pandas-sklearn-lab.ipynb',\n",
       " '-rw-r--r--  1 rick446  staff    57509 Mar 18 18:18 pandas-sklearn.ipynb',\n",
       " '-rw-r--r--  1 rick446  staff  4565012 Mar  6 19:22 pandas.ipynb',\n",
       " '-rw-r--r--  1 rick446  staff     5223 Feb 26 17:36 pdb-lab.ipynb',\n",
       " '-rw-r--r--@ 1 rick446  staff    30496 Mar  1 18:36 pdb.ipynb',\n",
       " '-rw-r--r--  1 rick446  staff      555 Feb  5 13:45 projects.ipynb',\n",
       " '-rw-r--r--  1 rick446  staff     4908 Mar 14 10:22 pycos-lab-solution.ipynb',\n",
       " '-rw-r--r--  1 rick446  staff     1249 Mar 14 10:21 pycos-lab.ipynb',\n",
       " '-rw-r--r--  1 rick446  staff    16707 Mar 14 10:18 pycos.ipynb',\n",
       " '-rw-r--r--  1 rick446  staff     3980 Mar 13 10:58 pymongo-lab-solution.ipynb',\n",
       " '-rw-r--r--  1 rick446  staff     2680 Mar 13 10:58 pymongo-lab.ipynb',\n",
       " '-rw-r--r--  1 rick446  staff    14630 Mar 13 10:58 pymongo.ipynb',\n",
       " '-rw-r--r--  1 rick446  staff    30257 Mar 12 10:09 python-sysadmin-project-solution.ipynb',\n",
       " '-rw-r--r--  1 rick446  staff    12147 Feb 22 13:52 python-sysadmin-project.ipynb',\n",
       " '-rw-r--r--  1 rick446  staff    75716 Feb 18 08:31 recommendation-engine-2.ipynb',\n",
       " '-rw-r--r--  1 rick446  staff   103799 Feb 15 09:17 recommendation-engine.ipynb',\n",
       " '-rw-r--r--  1 rick446  staff     8521 Mar  5 21:17 requests-lab-solution.ipynb',\n",
       " '-rw-r--r--  1 rick446  staff     1910 Feb 22 15:21 requests-lab.ipynb',\n",
       " '-rw-r--r--  1 rick446  staff    44491 Mar  8 03:50 requests.ipynb',\n",
       " '-rw-r--r--  1 rick446  staff     3470 Feb 26 18:05 scipy-lab.ipynb',\n",
       " '-rw-r--r--  1 rick446  staff   530360 Feb 26 18:03 scipy.ipynb',\n",
       " '-rw-r--r--  1 rick446  staff     1277 Mar 13 13:42 sgml-lab.ipynb',\n",
       " '-rw-r--r--  1 rick446  staff    39702 Mar 13 13:42 sgml.ipynb',\n",
       " '-rw-r--r--  1 rick446  staff     1731 Feb 20 10:49 shell-scripts-lab.ipynb',\n",
       " '-rw-r--r--  1 rick446  staff   107116 Feb 22 14:43 shell-scripts.ipynb',\n",
       " '-rw-r--r--  1 rick446  staff     1690 Mar 18 18:17 sklearn-validation-lab.ipynb',\n",
       " '-rw-r--r--  1 rick446  staff    31028 Mar 18 18:18 sklearn-validation.ipynb',\n",
       " '-rw-r--r--  1 rick446  staff    49436 Feb 20 13:11 snmp.ipynb',\n",
       " '-rw-r--r--  1 rick446  staff     1113 Feb 21 12:02 socket-lab.ipynb',\n",
       " '-rw-r--r--  1 rick446  staff    15023 Feb 22 15:30 socket.ipynb',\n",
       " '-rw-r--r--  1 rick446  staff    22574 Mar  4 04:04 structured-text-lab-solution.ipynb',\n",
       " '-rw-r--r--  1 rick446  staff     2604 Feb  6 11:37 structured-text-lab.ipynb',\n",
       " '-rw-r--r--  1 rick446  staff   521497 Feb  6 11:31 structured-text.ipynb',\n",
       " '-rw-r--r--  1 rick446  staff    81532 Mar  4 02:29 text-processing-lab-solution.ipynb',\n",
       " '-rw-r--r--  1 rick446  staff     2293 Feb  6 10:50 text-processing-lab.ipynb',\n",
       " '-rw-r--r--  1 rick446  staff    42325 Feb  6 10:48 text-processing.ipynb',\n",
       " '-rw-r--r--  1 rick446  staff     1860 Feb 22 14:58 unittest-lab.ipynb',\n",
       " '-rw-r--r--  1 rick446  staff   145629 Feb 19 08:18 unittest.ipynb',\n",
       " '-rw-r--r--  1 rick446  staff     1871 Mar  7 01:44 virtualenv-lab.ipynb',\n",
       " '-rw-r--r--  1 rick446  staff    71455 Mar  7 01:35 virtualenv.ipynb',\n",
       " '-rw-r--r--  1 rick446  staff      950 Mar 13 13:12 wsgi-lab.ipynb',\n",
       " '-rw-r--r--  1 rick446  staff     4137 Mar 13 13:15 wsgi.ipynb']"
      ]
     },
     "execution_count": 20,
     "metadata": {},
     "output_type": "execute_result"
    }
   ],
   "source": [
    "filenames"
   ]
  },
  {
   "cell_type": "code",
   "execution_count": 21,
   "metadata": {},
   "outputs": [
    {
     "name": "stdout",
     "output_type": "stream",
     "text": [
      "This is a little script\n",
      "Iteration 1\n",
      "Iteration 2\n",
      "Iteration 3\n"
     ]
    }
   ],
   "source": [
    "%%bash\n",
    "echo \"This is a little script\"\n",
    "for i in $(seq 3); do\n",
    "    echo \"Iteration\" $i\n",
    "done"
   ]
  },
  {
   "cell_type": "code",
   "execution_count": null,
   "metadata": {},
   "outputs": [],
   "source": [
    "magic"
   ]
  },
  {
   "cell_type": "code",
   "execution_count": 22,
   "metadata": {},
   "outputs": [
    {
     "data": {
      "text/plain": [
       "['Does this work']"
      ]
     },
     "execution_count": 22,
     "metadata": {},
     "output_type": "execute_result"
    }
   ],
   "source": [
    "%%! /bin/bash  #!/bin/bash\n",
    "echo \"Does this work\""
   ]
  },
  {
   "cell_type": "code",
   "execution_count": 23,
   "metadata": {},
   "outputs": [
    {
     "data": {
      "text/plain": [
       "'/Users/rick446/src/arborian-classes/src'"
      ]
     },
     "execution_count": 23,
     "metadata": {},
     "output_type": "execute_result"
    }
   ],
   "source": [
    "%pwd"
   ]
  },
  {
   "cell_type": "code",
   "execution_count": 24,
   "metadata": {},
   "outputs": [
    {
     "name": "stdout",
     "output_type": "stream",
     "text": [
      "/Users/rick446/src/arborian-classes\n"
     ]
    },
    {
     "data": {
      "text/plain": [
       "['~/src/arborian-classes/src']"
      ]
     },
     "execution_count": 24,
     "metadata": {},
     "output_type": "execute_result"
    }
   ],
   "source": [
    "pushd .."
   ]
  },
  {
   "cell_type": "code",
   "execution_count": 25,
   "metadata": {},
   "outputs": [
    {
     "name": "stdout",
     "output_type": "stream",
     "text": [
      "/Users/rick446/src/arborian-classes/src\n",
      "popd -> ~/src/arborian-classes/src\n"
     ]
    }
   ],
   "source": [
    "popd"
   ]
  },
  {
   "cell_type": "markdown",
   "metadata": {},
   "source": [
    "# Debugging\n",
    "\n",
    "Auto-call (i)pdb on uncaught exceptions:"
   ]
  },
  {
   "cell_type": "code",
   "execution_count": null,
   "metadata": {},
   "outputs": [],
   "source": [
    "%pdb"
   ]
  },
  {
   "cell_type": "code",
   "execution_count": null,
   "metadata": {},
   "outputs": [],
   "source": [
    "1 / 0"
   ]
  },
  {
   "cell_type": "code",
   "execution_count": null,
   "metadata": {},
   "outputs": [],
   "source": [
    "pdb"
   ]
  },
  {
   "cell_type": "markdown",
   "metadata": {},
   "source": [
    "Post-mortem debugging"
   ]
  },
  {
   "cell_type": "code",
   "execution_count": 26,
   "metadata": {},
   "outputs": [],
   "source": [
    "def myfun():\n",
    "    1 / 0\n",
    "    \n",
    "def otherfun():\n",
    "    myfun()"
   ]
  },
  {
   "cell_type": "code",
   "execution_count": 27,
   "metadata": {},
   "outputs": [
    {
     "ename": "ZeroDivisionError",
     "evalue": "division by zero",
     "output_type": "error",
     "traceback": [
      "\u001b[0;31m---------------------------------------------------------------------------\u001b[0m",
      "\u001b[0;31mZeroDivisionError\u001b[0m                         Traceback (most recent call last)",
      "\u001b[0;32m<ipython-input-27-e67c701ec6e1>\u001b[0m in \u001b[0;36m<module>\u001b[0;34m\u001b[0m\n\u001b[0;32m----> 1\u001b[0;31m \u001b[0motherfun\u001b[0m\u001b[0;34m(\u001b[0m\u001b[0;34m)\u001b[0m\u001b[0;34m\u001b[0m\u001b[0;34m\u001b[0m\u001b[0m\n\u001b[0m",
      "\u001b[0;32m<ipython-input-26-66288039c5d6>\u001b[0m in \u001b[0;36motherfun\u001b[0;34m()\u001b[0m\n\u001b[1;32m      3\u001b[0m \u001b[0;34m\u001b[0m\u001b[0m\n\u001b[1;32m      4\u001b[0m \u001b[0;32mdef\u001b[0m \u001b[0motherfun\u001b[0m\u001b[0;34m(\u001b[0m\u001b[0;34m)\u001b[0m\u001b[0;34m:\u001b[0m\u001b[0;34m\u001b[0m\u001b[0;34m\u001b[0m\u001b[0m\n\u001b[0;32m----> 5\u001b[0;31m     \u001b[0mmyfun\u001b[0m\u001b[0;34m(\u001b[0m\u001b[0;34m)\u001b[0m\u001b[0;34m\u001b[0m\u001b[0;34m\u001b[0m\u001b[0m\n\u001b[0m",
      "\u001b[0;32m<ipython-input-26-66288039c5d6>\u001b[0m in \u001b[0;36mmyfun\u001b[0;34m()\u001b[0m\n\u001b[1;32m      1\u001b[0m \u001b[0;32mdef\u001b[0m \u001b[0mmyfun\u001b[0m\u001b[0;34m(\u001b[0m\u001b[0;34m)\u001b[0m\u001b[0;34m:\u001b[0m\u001b[0;34m\u001b[0m\u001b[0;34m\u001b[0m\u001b[0m\n\u001b[0;32m----> 2\u001b[0;31m     \u001b[0;36m1\u001b[0m \u001b[0;34m/\u001b[0m \u001b[0;36m0\u001b[0m\u001b[0;34m\u001b[0m\u001b[0;34m\u001b[0m\u001b[0m\n\u001b[0m\u001b[1;32m      3\u001b[0m \u001b[0;34m\u001b[0m\u001b[0m\n\u001b[1;32m      4\u001b[0m \u001b[0;32mdef\u001b[0m \u001b[0motherfun\u001b[0m\u001b[0;34m(\u001b[0m\u001b[0;34m)\u001b[0m\u001b[0;34m:\u001b[0m\u001b[0;34m\u001b[0m\u001b[0;34m\u001b[0m\u001b[0m\n\u001b[1;32m      5\u001b[0m     \u001b[0mmyfun\u001b[0m\u001b[0;34m(\u001b[0m\u001b[0;34m)\u001b[0m\u001b[0;34m\u001b[0m\u001b[0;34m\u001b[0m\u001b[0m\n",
      "\u001b[0;31mZeroDivisionError\u001b[0m: division by zero"
     ]
    }
   ],
   "source": [
    "otherfun()"
   ]
  },
  {
   "cell_type": "code",
   "execution_count": 28,
   "metadata": {
    "scrolled": false
   },
   "outputs": [
    {
     "name": "stdout",
     "output_type": "stream",
     "text": [
      "> \u001b[0;32m<ipython-input-26-66288039c5d6>\u001b[0m(2)\u001b[0;36mmyfun\u001b[0;34m()\u001b[0m\n",
      "\u001b[0;32m      1 \u001b[0;31m\u001b[0;32mdef\u001b[0m \u001b[0mmyfun\u001b[0m\u001b[0;34m(\u001b[0m\u001b[0;34m)\u001b[0m\u001b[0;34m:\u001b[0m\u001b[0;34m\u001b[0m\u001b[0;34m\u001b[0m\u001b[0m\n",
      "\u001b[0m\u001b[0;32m----> 2 \u001b[0;31m    \u001b[0;36m1\u001b[0m \u001b[0;34m/\u001b[0m \u001b[0;36m0\u001b[0m\u001b[0;34m\u001b[0m\u001b[0;34m\u001b[0m\u001b[0m\n",
      "\u001b[0m\u001b[0;32m      3 \u001b[0;31m\u001b[0;34m\u001b[0m\u001b[0m\n",
      "\u001b[0m\u001b[0;32m      4 \u001b[0;31m\u001b[0;32mdef\u001b[0m \u001b[0motherfun\u001b[0m\u001b[0;34m(\u001b[0m\u001b[0;34m)\u001b[0m\u001b[0;34m:\u001b[0m\u001b[0;34m\u001b[0m\u001b[0;34m\u001b[0m\u001b[0m\n",
      "\u001b[0m\u001b[0;32m      5 \u001b[0;31m    \u001b[0mmyfun\u001b[0m\u001b[0;34m(\u001b[0m\u001b[0;34m)\u001b[0m\u001b[0;34m\u001b[0m\u001b[0;34m\u001b[0m\u001b[0m\n",
      "\u001b[0m\n",
      "ipdb> list\n",
      "\u001b[1;32m      1 \u001b[0m\u001b[0;32mdef\u001b[0m \u001b[0mmyfun\u001b[0m\u001b[0;34m(\u001b[0m\u001b[0;34m)\u001b[0m\u001b[0;34m:\u001b[0m\u001b[0;34m\u001b[0m\u001b[0;34m\u001b[0m\u001b[0m\n",
      "\u001b[0;32m----> 2 \u001b[0;31m    \u001b[0;36m1\u001b[0m \u001b[0;34m/\u001b[0m \u001b[0;36m0\u001b[0m\u001b[0;34m\u001b[0m\u001b[0;34m\u001b[0m\u001b[0m\n",
      "\u001b[0m\u001b[1;32m      3 \u001b[0m\u001b[0;34m\u001b[0m\u001b[0m\n",
      "\u001b[1;32m      4 \u001b[0m\u001b[0;32mdef\u001b[0m \u001b[0motherfun\u001b[0m\u001b[0;34m(\u001b[0m\u001b[0;34m)\u001b[0m\u001b[0;34m:\u001b[0m\u001b[0;34m\u001b[0m\u001b[0;34m\u001b[0m\u001b[0m\n",
      "\u001b[1;32m      5 \u001b[0m    \u001b[0mmyfun\u001b[0m\u001b[0;34m(\u001b[0m\u001b[0;34m)\u001b[0m\u001b[0;34m\u001b[0m\u001b[0;34m\u001b[0m\u001b[0m\n",
      "\n",
      "ipdb> up\n",
      "> \u001b[0;32m<ipython-input-26-66288039c5d6>\u001b[0m(5)\u001b[0;36motherfun\u001b[0;34m()\u001b[0m\n",
      "\u001b[0;32m      1 \u001b[0;31m\u001b[0;32mdef\u001b[0m \u001b[0mmyfun\u001b[0m\u001b[0;34m(\u001b[0m\u001b[0;34m)\u001b[0m\u001b[0;34m:\u001b[0m\u001b[0;34m\u001b[0m\u001b[0;34m\u001b[0m\u001b[0m\n",
      "\u001b[0m\u001b[0;32m      2 \u001b[0;31m    \u001b[0;36m1\u001b[0m \u001b[0;34m/\u001b[0m \u001b[0;36m0\u001b[0m\u001b[0;34m\u001b[0m\u001b[0;34m\u001b[0m\u001b[0m\n",
      "\u001b[0m\u001b[0;32m      3 \u001b[0;31m\u001b[0;34m\u001b[0m\u001b[0m\n",
      "\u001b[0m\u001b[0;32m      4 \u001b[0;31m\u001b[0;32mdef\u001b[0m \u001b[0motherfun\u001b[0m\u001b[0;34m(\u001b[0m\u001b[0;34m)\u001b[0m\u001b[0;34m:\u001b[0m\u001b[0;34m\u001b[0m\u001b[0;34m\u001b[0m\u001b[0m\n",
      "\u001b[0m\u001b[0;32m----> 5 \u001b[0;31m    \u001b[0mmyfun\u001b[0m\u001b[0;34m(\u001b[0m\u001b[0;34m)\u001b[0m\u001b[0;34m\u001b[0m\u001b[0;34m\u001b[0m\u001b[0m\n",
      "\u001b[0m\n",
      "ipdb> help\n",
      "\n",
      "Documented commands (type help <topic>):\n",
      "========================================\n",
      "EOF    cl         disable  interact  next    psource  rv         unt   \n",
      "a      clear      display  j         p       q        s          until \n",
      "alias  commands   down     jump      pdef    quit     source     up    \n",
      "args   condition  enable   l         pdoc    r        step       w     \n",
      "b      cont       exit     list      pfile   restart  tbreak     whatis\n",
      "break  continue   h        ll        pinfo   return   u          where \n",
      "bt     d          help     longlist  pinfo2  retval   unalias  \n",
      "c      debug      ignore   n         pp      run      undisplay\n",
      "\n",
      "Miscellaneous help topics:\n",
      "==========================\n",
      "exec  pdb\n",
      "\n",
      "ipdb> q\n"
     ]
    }
   ],
   "source": [
    "debug"
   ]
  },
  {
   "cell_type": "code",
   "execution_count": null,
   "metadata": {},
   "outputs": [],
   "source": [
    "def myfun():\n",
    "    import ipdb; ipdb.set_trace()\n",
    "    1 / 0\n",
    "    \n",
    "def otherfun():\n",
    "    myfun()"
   ]
  },
  {
   "cell_type": "code",
   "execution_count": null,
   "metadata": {},
   "outputs": [],
   "source": [
    "otherfun()"
   ]
  },
  {
   "cell_type": "markdown",
   "metadata": {},
   "source": [
    "# Accessing history"
   ]
  },
  {
   "cell_type": "code",
   "execution_count": 29,
   "metadata": {},
   "outputs": [
    {
     "data": {
      "text/plain": [
       "15"
      ]
     },
     "execution_count": 29,
     "metadata": {},
     "output_type": "execute_result"
    }
   ],
   "source": [
    "x = 5\n",
    "y = 10\n",
    "x + y"
   ]
  },
  {
   "cell_type": "code",
   "execution_count": 30,
   "metadata": {},
   "outputs": [
    {
     "data": {
      "text/plain": [
       "435"
      ]
     },
     "execution_count": 30,
     "metadata": {},
     "output_type": "execute_result"
    }
   ],
   "source": [
    "_ * 29"
   ]
  },
  {
   "cell_type": "code",
   "execution_count": 31,
   "metadata": {},
   "outputs": [
    {
     "data": {
      "text/plain": [
       "15"
      ]
     },
     "execution_count": 31,
     "metadata": {},
     "output_type": "execute_result"
    }
   ],
   "source": [
    "x = Out[29]\n",
    "x"
   ]
  },
  {
   "cell_type": "code",
   "execution_count": 32,
   "metadata": {},
   "outputs": [
    {
     "data": {
      "text/plain": [
       "'from email.mime.multipart import MIMEMultipart'"
      ]
     },
     "execution_count": 32,
     "metadata": {},
     "output_type": "execute_result"
    }
   ],
   "source": [
    "In[1]"
   ]
  },
  {
   "cell_type": "code",
   "execution_count": 33,
   "metadata": {},
   "outputs": [
    {
     "data": {
      "text/plain": [
       "15"
      ]
     },
     "execution_count": 33,
     "metadata": {},
     "output_type": "execute_result"
    }
   ],
   "source": [
    "_29"
   ]
  },
  {
   "cell_type": "code",
   "execution_count": null,
   "metadata": {},
   "outputs": [],
   "source": [
    "%xdel os"
   ]
  },
  {
   "cell_type": "code",
   "execution_count": null,
   "metadata": {},
   "outputs": [],
   "source": [
    "os"
   ]
  },
  {
   "cell_type": "markdown",
   "metadata": {},
   "source": [
    "# Interacting with the file system"
   ]
  },
  {
   "cell_type": "code",
   "execution_count": null,
   "metadata": {},
   "outputs": [],
   "source": [
    "# %load ./test1.py\n",
    "import unittest\n",
    "\n",
    "\n",
    "class MyTest(unittest.TestCase):\n",
    "\n",
    "    def test_pass(self):\n",
    "        pass\n",
    "\n",
    "\n",
    "if __name__ == '__main__':\n",
    "    unittest.main()"
   ]
  },
  {
   "cell_type": "code",
   "execution_count": 34,
   "metadata": {},
   "outputs": [
    {
     "name": "stdout",
     "output_type": "stream",
     "text": [
      "Overwriting my-little-file.txt\n"
     ]
    }
   ],
   "source": [
    "%%file my-little-file.txt\n",
    "This has my text in it.\n",
    "Even more!\n",
    "\n"
   ]
  },
  {
   "cell_type": "code",
   "execution_count": 35,
   "metadata": {},
   "outputs": [
    {
     "name": "stdout",
     "output_type": "stream",
     "text": [
      "This has my text in it.\r\n",
      "Even more!\r\n",
      "\r\n",
      "This has my text in it.\r\n",
      "Even more!\r\n",
      "\r\n",
      "This has my text in it.\r\n",
      "Even more!\r\n",
      "\r\n"
     ]
    }
   ],
   "source": [
    "%cat my-little-file.txt my-little-file.txt my-little-file.txt"
   ]
  },
  {
   "cell_type": "markdown",
   "metadata": {},
   "source": [
    "# Profiling code"
   ]
  },
  {
   "cell_type": "code",
   "execution_count": null,
   "metadata": {},
   "outputs": [],
   "source": [
    "%%prun\n",
    "x = 5\n",
    "for i in range(100):\n",
    "    x = x ** i"
   ]
  },
  {
   "cell_type": "markdown",
   "metadata": {},
   "source": [
    "# Timing code"
   ]
  },
  {
   "cell_type": "code",
   "execution_count": 36,
   "metadata": {},
   "outputs": [
    {
     "name": "stdout",
     "output_type": "stream",
     "text": [
      "CPU times: user 2.29 ms, sys: 1.7 ms, total: 4 ms\n",
      "Wall time: 1.16 s\n"
     ]
    }
   ],
   "source": [
    "%%time \n",
    "import time\n",
    "x = 5\n",
    "for i in range(100):\n",
    "    x = x ** i\n",
    "    time.sleep(0.01)"
   ]
  },
  {
   "cell_type": "code",
   "execution_count": 37,
   "metadata": {},
   "outputs": [
    {
     "name": "stdout",
     "output_type": "stream",
     "text": [
      "32.1 µs ± 221 ns per loop (mean ± std. dev. of 7 runs, 10000 loops each)\n"
     ]
    }
   ],
   "source": [
    "%%timeit\n",
    "x = 5\n",
    "for i in range(100):\n",
    "    x = x ** i"
   ]
  }
 ],
 "metadata": {
  "kernelspec": {
   "display_name": "Python 3",
   "language": "python",
   "name": "python3"
  },
  "language_info": {
   "codemirror_mode": {
    "name": "ipython",
    "version": 3
   },
   "file_extension": ".py",
   "mimetype": "text/x-python",
   "name": "python",
   "nbconvert_exporter": "python",
   "pygments_lexer": "ipython3",
   "version": "3.7.2"
  }
 },
 "nbformat": 4,
 "nbformat_minor": 2
}
