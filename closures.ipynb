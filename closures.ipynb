{
 "cells": [
  {
   "cell_type": "markdown",
   "metadata": {
    "slideshow": {
     "slide_type": "slide"
    }
   },
   "source": [
    "# Functional Closures and Decorators\n",
    "\n",
    "Sometimes we may have \"cross-cutting\" concerns: functionality which is not related to the \"core\" functionality of a function:\n",
    "\n",
    "- logging\n",
    "- authentication\n",
    "- locking\n",
    "- entry of the function into a global registry\n",
    "\n",
    "Python has a syntax that uses two features of the language (scoping and first-class functions) to enable such operations to be separated from the core function.\n",
    "\n",
    "First, though, let's see if you can guess what the following code prints:"
   ]
  },
  {
   "cell_type": "code",
   "execution_count": 1,
   "metadata": {},
   "outputs": [
    {
     "name": "stdout",
     "output_type": "stream",
     "text": [
      "1 => a=10, b=15\n",
      "2 => a=20, b=15\n",
      "3 => a=10, b=15\n",
      "4 => a=5\n"
     ]
    },
    {
     "ename": "NameError",
     "evalue": "name 'b' is not defined",
     "output_type": "error",
     "traceback": [
      "\u001b[0;31m---------------------------------------------------------------------------\u001b[0m",
      "\u001b[0;31mNameError\u001b[0m                                 Traceback (most recent call last)",
      "\u001b[0;32m<ipython-input-1-ca33bcdfdd10>\u001b[0m in \u001b[0;36m<module>\u001b[0;34m\u001b[0m\n\u001b[1;32m     11\u001b[0m \u001b[0mfoo\u001b[0m\u001b[0;34m(\u001b[0m\u001b[0;34m)\u001b[0m\u001b[0;34m\u001b[0m\u001b[0;34m\u001b[0m\u001b[0m\n\u001b[1;32m     12\u001b[0m \u001b[0mprint\u001b[0m\u001b[0;34m(\u001b[0m\u001b[0;34mf'4 => a={a}'\u001b[0m\u001b[0;34m)\u001b[0m\u001b[0;34m\u001b[0m\u001b[0;34m\u001b[0m\u001b[0m\n\u001b[0;32m---> 13\u001b[0;31m \u001b[0mprint\u001b[0m\u001b[0;34m(\u001b[0m\u001b[0;34mf'5 => b={b}'\u001b[0m\u001b[0;34m)\u001b[0m\u001b[0;34m\u001b[0m\u001b[0;34m\u001b[0m\u001b[0m\n\u001b[0m",
      "\u001b[0;31mNameError\u001b[0m: name 'b' is not defined"
     ]
    }
   ],
   "source": [
    "a = 5\n",
    "def foo():\n",
    "    a = 10\n",
    "    b = 15\n",
    "    print(f'1 => a={a}, b={b}')  # '1 => a={}, b={}'.format(a, b)   Py 3.5+\n",
    "    def bar():\n",
    "        a = 20\n",
    "        print(f'2 => a={a}, b={b}')\n",
    "    bar()\n",
    "    print(f'3 => a={a}, b={b}')\n",
    "foo()\n",
    "print(f'4 => a={a}')\n",
    "print(f'5 => b={b}')\n"
   ]
  },
  {
   "cell_type": "markdown",
   "metadata": {
    "slideshow": {
     "slide_type": "subslide"
    }
   },
   "source": [
    "##  Closures\n",
    "* In order to understand closures, let's review the Python scoping rules: LEGB\n",
    "  * L = local\n",
    "  * E = enclosing (i.e. `nonlocal`)\n",
    "  * G = global\n",
    "  * B = builtin (e.g., len() function)\n",
    "  \n",
    "```python\n",
    "a = 'global scope'\n",
    "\n",
    "def outer_func():\n",
    "    b = 'local to outer_func()'\n",
    "    def inner_func():\n",
    "        c = 'local to inner_func()'\n",
    "        print(b, 'enclosing/nonlocal scope')\n",
    "        print(a, 'global scope')\n",
    "```\n",
    "                \n",
    "* When a function references a name that is not local, Python first attempts to resolve that name in the enclosing scope\n",
    "* A *closure* is a nested function which \"remembers\" a value or values from the enclosing lexical scope even when the program flow is no longer in the enclosing scope"
   ]
  },
  {
   "cell_type": "code",
   "execution_count": 3,
   "metadata": {
    "slideshow": {
     "slide_type": "subslide"
    }
   },
   "outputs": [
    {
     "data": {
      "text/plain": [
       "49"
      ]
     },
     "execution_count": 3,
     "metadata": {},
     "output_type": "execute_result"
    }
   ],
   "source": [
    "def make_adder(x):\n",
    "    \n",
    "    def adder(y):\n",
    "        return x + y # Python uses LEGB to find 'x'\n",
    "    \n",
    "    return adder\n",
    "\n",
    "add39 = make_adder(39)\n",
    "add39(10)"
   ]
  },
  {
   "cell_type": "code",
   "execution_count": 4,
   "metadata": {},
   "outputs": [
    {
     "data": {
      "text/plain": [
       "22"
      ]
     },
     "execution_count": 4,
     "metadata": {},
     "output_type": "execute_result"
    }
   ],
   "source": [
    "add12 = make_adder(12)\n",
    "add12(10)"
   ]
  },
  {
   "cell_type": "code",
   "execution_count": 5,
   "metadata": {},
   "outputs": [
    {
     "data": {
      "text/plain": [
       "49"
      ]
     },
     "execution_count": 5,
     "metadata": {},
     "output_type": "execute_result"
    }
   ],
   "source": [
    "add39(10)"
   ]
  },
  {
   "cell_type": "code",
   "execution_count": 6,
   "metadata": {},
   "outputs": [],
   "source": [
    "cell = add39.__closure__[0]"
   ]
  },
  {
   "cell_type": "code",
   "execution_count": 7,
   "metadata": {},
   "outputs": [
    {
     "data": {
      "text/plain": [
       "39"
      ]
     },
     "execution_count": 7,
     "metadata": {},
     "output_type": "execute_result"
    }
   ],
   "source": [
    "cell.cell_contents"
   ]
  },
  {
   "cell_type": "code",
   "execution_count": 8,
   "metadata": {},
   "outputs": [
    {
     "data": {
      "text/plain": [
       "49"
      ]
     },
     "execution_count": 8,
     "metadata": {},
     "output_type": "execute_result"
    }
   ],
   "source": [
    "x = make_adder(39)\n",
    "x(10)"
   ]
  },
  {
   "cell_type": "code",
   "execution_count": 9,
   "metadata": {},
   "outputs": [
    {
     "data": {
      "text/plain": [
       "49"
      ]
     },
     "execution_count": 9,
     "metadata": {},
     "output_type": "execute_result"
    }
   ],
   "source": [
    "make_adder(39)(10)"
   ]
  },
  {
   "cell_type": "code",
   "execution_count": 10,
   "metadata": {},
   "outputs": [],
   "source": [
    "add6 = make_adder(6)"
   ]
  },
  {
   "cell_type": "code",
   "execution_count": 11,
   "metadata": {},
   "outputs": [
    {
     "name": "stdout",
     "output_type": "stream",
     "text": [
      "16 49\n"
     ]
    }
   ],
   "source": [
    "print(add6(10), add39(10))"
   ]
  },
  {
   "cell_type": "code",
   "execution_count": 12,
   "metadata": {},
   "outputs": [
    {
     "data": {
      "text/plain": [
       "'<function make_adder.<locals>.adder at 0x111159bf8>'"
      ]
     },
     "execution_count": 12,
     "metadata": {},
     "output_type": "execute_result"
    }
   ],
   "source": [
    "# let's use repr so we can see the address of the function\n",
    "# we could use print(\"%X\") as well...\n",
    "#type(add39)\n",
    "repr(add39)"
   ]
  },
  {
   "cell_type": "code",
   "execution_count": 13,
   "metadata": {},
   "outputs": [
    {
     "data": {
      "text/plain": [
       "'<function make_adder.<locals>.adder at 0x111159f28>'"
      ]
     },
     "execution_count": 13,
     "metadata": {},
     "output_type": "execute_result"
    }
   ],
   "source": [
    "repr(add6)"
   ]
  },
  {
   "cell_type": "code",
   "execution_count": 14,
   "metadata": {
    "scrolled": true
   },
   "outputs": [
    {
     "data": {
      "text/plain": [
       "(<cell at 0x111101288: int object at 0x10f11b550>,)"
      ]
     },
     "execution_count": 14,
     "metadata": {},
     "output_type": "execute_result"
    }
   ],
   "source": [
    "# all functions have a closure attribute\n",
    "add39.__closure__"
   ]
  },
  {
   "cell_type": "code",
   "execution_count": 15,
   "metadata": {},
   "outputs": [
    {
     "data": {
      "text/plain": [
       "39"
      ]
     },
     "execution_count": 15,
     "metadata": {},
     "output_type": "execute_result"
    }
   ],
   "source": [
    "# notice that the cell object has a reference to an int object\n",
    "add39.__closure__[0].cell_contents"
   ]
  },
  {
   "cell_type": "code",
   "execution_count": 16,
   "metadata": {},
   "outputs": [
    {
     "data": {
      "text/plain": [
       "6"
      ]
     },
     "execution_count": 16,
     "metadata": {},
     "output_type": "execute_result"
    }
   ],
   "source": [
    "add6.__closure__[0].cell_contents"
   ]
  },
  {
   "cell_type": "markdown",
   "metadata": {
    "collapsed": true,
    "slideshow": {
     "slide_type": "subslide"
    }
   },
   "source": [
    "* One case where closures are frequently used is in building function wrappers\n",
    "* Suppose we want to log each invocation of a function:"
   ]
  },
  {
   "cell_type": "code",
   "execution_count": 17,
   "metadata": {
    "slideshow": {
     "slide_type": "-"
    }
   },
   "outputs": [
    {
     "name": "stdout",
     "output_type": "stream",
     "text": [
      "Wrapping <function make_adder.<locals>.adder at 0x111159bf8>\n",
      "<function logging.<locals>.wrapper at 0x111198268>\n"
     ]
    }
   ],
   "source": [
    "def logging(function):\n",
    "    print('Wrapping {}'.format(function))\n",
    "    def wrapper(*args, **kwargs):\n",
    "        print('Calling %r(%r, %r)' % (function, args, kwargs))\n",
    "        return function(*args, **kwargs)\n",
    "    return wrapper\n",
    "\n",
    "logging_add39 = logging(add39)\n",
    "print(logging_add39)\n",
    "#print(add39(5)) # remember that add39 just adds 39 to our argument\n",
    "#logging_add39(10)"
   ]
  },
  {
   "cell_type": "code",
   "execution_count": 18,
   "metadata": {
    "slideshow": {
     "slide_type": "subslide"
    }
   },
   "outputs": [
    {
     "data": {
      "text/plain": [
       "<function __main__.make_adder.<locals>.adder(y)>"
      ]
     },
     "execution_count": 18,
     "metadata": {},
     "output_type": "execute_result"
    }
   ],
   "source": [
    "logging_add39.__closure__[0].cell_contents"
   ]
  },
  {
   "cell_type": "code",
   "execution_count": 19,
   "metadata": {},
   "outputs": [
    {
     "name": "stdout",
     "output_type": "stream",
     "text": [
      "Calling <function make_adder.<locals>.adder at 0x111159bf8>((5,), {})\n"
     ]
    },
    {
     "data": {
      "text/plain": [
       "44"
      ]
     },
     "execution_count": 19,
     "metadata": {},
     "output_type": "execute_result"
    }
   ],
   "source": [
    "logging_add39(5)"
   ]
  },
  {
   "cell_type": "code",
   "execution_count": 20,
   "metadata": {},
   "outputs": [
    {
     "name": "stdout",
     "output_type": "stream",
     "text": [
      "Wrapping <function make_adder.<locals>.adder at 0x111159bf8>\n"
     ]
    }
   ],
   "source": [
    "add39 = logging(add39)"
   ]
  },
  {
   "cell_type": "code",
   "execution_count": 21,
   "metadata": {},
   "outputs": [
    {
     "name": "stdout",
     "output_type": "stream",
     "text": [
      "Calling <function make_adder.<locals>.adder at 0x111159bf8>((5,), {})\n"
     ]
    },
    {
     "data": {
      "text/plain": [
       "44"
      ]
     },
     "execution_count": 21,
     "metadata": {},
     "output_type": "execute_result"
    }
   ],
   "source": [
    "add39(5)"
   ]
  },
  {
   "cell_type": "markdown",
   "metadata": {
    "slideshow": {
     "slide_type": "subslide"
    }
   },
   "source": [
    "## Decorators\n",
    "* Wrapper functions are so common, that Python has its own term for it–a *decorator*.\n",
    "* Why might you want to use a decorator?\n",
    "  * sometimes you want to modify a function’s behavior without explicitly modifying the function, e.g., pre/post actions, debugging, etc. \n",
    "  * suppose we have a set of tasks that need to be performed by many different functions, e.g.,\n",
    "   * access control\n",
    "   * cleanup\n",
    "   * error handling\n",
    "   * logging\n",
    " * ...in other words, there is some boilerplate code that needs to be executed before or after  every invocation of the function\n"
   ]
  },
  {
   "cell_type": "code",
   "execution_count": 22,
   "metadata": {},
   "outputs": [],
   "source": [
    "def proxy(func):\n",
    "    def wrapper(*args, **kwargs):\n",
    "        return func(*args, **kwargs)\n",
    "    return wrapper"
   ]
  },
  {
   "cell_type": "code",
   "execution_count": 23,
   "metadata": {},
   "outputs": [],
   "source": [
    "def printme(me):\n",
    "    print(me)\n",
    "\n",
    "proxy_printme = proxy(printme)"
   ]
  },
  {
   "cell_type": "code",
   "execution_count": 24,
   "metadata": {},
   "outputs": [
    {
     "name": "stdout",
     "output_type": "stream",
     "text": [
      "Hello there\n"
     ]
    }
   ],
   "source": [
    "proxy_printme('Hello there')"
   ]
  },
  {
   "cell_type": "markdown",
   "metadata": {
    "slideshow": {
     "slide_type": "subslide"
    }
   },
   "source": [
    "## Decorators build on topics we already know...\n",
    "* nested functions\n",
    "* variable positional args (`*args`)\n",
    "* variable keyword args (`**kwargs`)\n",
    "* functions are objects (actually everything in Python is an object)"
   ]
  },
  {
   "cell_type": "code",
   "execution_count": 25,
   "metadata": {},
   "outputs": [
    {
     "name": "stdout",
     "output_type": "stream",
     "text": [
      "Running plain old add_ints()\n",
      "8\n"
     ]
    }
   ],
   "source": [
    "def document_it(func):\n",
    "    # below is a nested, or inner function\n",
    "    def new_function(*args, **kwargs):\n",
    "        print('Running function: {}'.format(func.__name__))\n",
    "        print('Positional arguments: {}'.format(args))\n",
    "        print('Keyword arguments: {}'.format(kwargs))\n",
    "        # here we invoke the function passed in as an argument\n",
    "        result = func(*args, **kwargs)\n",
    "        print('Result: {}'.format(result))\n",
    "        return result\n",
    "    \n",
    "    # document_it() is returning a reference to the inner function\n",
    "    return new_function\n",
    "\n",
    "def add_ints(a, b):\n",
    "    return a + b\n",
    "\n",
    "print('Running plain old add_ints()')\n",
    "print(add_ints(3, 5))\n",
    "\n"
   ]
  },
  {
   "cell_type": "code",
   "execution_count": 26,
   "metadata": {},
   "outputs": [
    {
     "name": "stdout",
     "output_type": "stream",
     "text": [
      "Running cooler add_ints()\n",
      "Running function: add_ints\n",
      "Positional arguments: (3, 5)\n",
      "Keyword arguments: {}\n",
      "Result: 8\n"
     ]
    },
    {
     "data": {
      "text/plain": [
       "8"
      ]
     },
     "execution_count": 26,
     "metadata": {},
     "output_type": "execute_result"
    }
   ],
   "source": [
    "# manual decorator assignment\n",
    "cooler_add_ints = document_it(add_ints) \n",
    "\n",
    "print('Running cooler add_ints()')\n",
    "cooler_add_ints(3, 5)"
   ]
  },
  {
   "cell_type": "code",
   "execution_count": 27,
   "metadata": {},
   "outputs": [],
   "source": [
    "def add_ints(a, b):\n",
    "    return a + b\n",
    "add_ints = document_it(add_ints)"
   ]
  },
  {
   "cell_type": "code",
   "execution_count": 28,
   "metadata": {},
   "outputs": [
    {
     "name": "stdout",
     "output_type": "stream",
     "text": [
      "Running function: add_ints\n",
      "Positional arguments: (4,)\n",
      "Keyword arguments: {'b': 7}\n",
      "Result: 11\n"
     ]
    },
    {
     "data": {
      "text/plain": [
       "11"
      ]
     },
     "execution_count": 28,
     "metadata": {},
     "output_type": "execute_result"
    }
   ],
   "source": [
    "# decorator shorthand for what we did above\n",
    "@document_it\n",
    "def add_ints(a, b):\n",
    "    return a + b\n",
    "\n",
    "add_ints(4, b=7)"
   ]
  },
  {
   "cell_type": "markdown",
   "metadata": {},
   "source": [
    "Not all decorators wrap. Two examples:"
   ]
  },
  {
   "cell_type": "code",
   "execution_count": 29,
   "metadata": {},
   "outputs": [
    {
     "name": "stdout",
     "output_type": "stream",
     "text": [
      "Build route(/)\n",
      "Call decorator(<function get_home at 0x1111987b8>)\n",
      "Build route(/about)\n",
      "Call decorator(<function get_about at 0x111198b70>)\n",
      "Build route(/error)\n",
      "Call decorator(<function get_error at 0x111198e18>)\n"
     ]
    }
   ],
   "source": [
    "# Flask-like routing\n",
    "\n",
    "routes = {}  # map url => python function\n",
    "\n",
    "\n",
    "def route(path):   # \"decorator factory\" (returns a decorator)\n",
    "    print(f'Build route({path})')\n",
    "    def decorator(function):   # decorator (takes a single function as input)\n",
    "        print(f'Call decorator({function})')\n",
    "        routes[path] = function\n",
    "        # (no wrapping going on here)\n",
    "        return function\n",
    "    return decorator\n",
    "\n",
    "\n",
    "@route('/')\n",
    "def get_home():\n",
    "    return 'Welcome'\n",
    "\n",
    "@route('/about')\n",
    "def get_about():\n",
    "    return 'About us'\n",
    "\n",
    "# @route('/error')\n",
    "# def get_error():\n",
    "#     return '404'\n",
    "\n",
    "route_error_decorator = route('/error')\n",
    "def get_error():\n",
    "    return '404'\n",
    "get_error = route_error_decorator(get_error)\n"
   ]
  },
  {
   "cell_type": "code",
   "execution_count": 30,
   "metadata": {},
   "outputs": [
    {
     "data": {
      "text/plain": [
       "{'/': <function __main__.get_home()>,\n",
       " '/about': <function __main__.get_about()>,\n",
       " '/error': <function __main__.get_error()>}"
      ]
     },
     "execution_count": 30,
     "metadata": {},
     "output_type": "execute_result"
    }
   ],
   "source": [
    "routes"
   ]
  },
  {
   "cell_type": "code",
   "execution_count": 31,
   "metadata": {},
   "outputs": [],
   "source": [
    "def run_request(routes, url):\n",
    "    function_to_call = routes[url]\n",
    "    return function_to_call()"
   ]
  },
  {
   "cell_type": "code",
   "execution_count": 32,
   "metadata": {},
   "outputs": [
    {
     "data": {
      "text/plain": [
       "'Welcome'"
      ]
     },
     "execution_count": 32,
     "metadata": {},
     "output_type": "execute_result"
    }
   ],
   "source": [
    "run_request(routes, '/')"
   ]
  },
  {
   "cell_type": "code",
   "execution_count": 33,
   "metadata": {},
   "outputs": [
    {
     "data": {
      "text/plain": [
       "'About us'"
      ]
     },
     "execution_count": 33,
     "metadata": {},
     "output_type": "execute_result"
    }
   ],
   "source": [
    "run_request(routes, '/about')"
   ]
  },
  {
   "cell_type": "code",
   "execution_count": 34,
   "metadata": {},
   "outputs": [
    {
     "data": {
      "text/plain": [
       "'404'"
      ]
     },
     "execution_count": 34,
     "metadata": {},
     "output_type": "execute_result"
    }
   ],
   "source": [
    "run_request(routes, '/error')"
   ]
  },
  {
   "cell_type": "code",
   "execution_count": 35,
   "metadata": {},
   "outputs": [],
   "source": [
    "# Cherrypy/Turbogears-like routing\n",
    "\n",
    "def expose(function):\n",
    "    function._exposed = True\n",
    "    return function\n",
    "\n",
    "class Controller(object):\n",
    "    @expose\n",
    "    def home(self):\n",
    "        return 'Welcome'\n",
    "    \n",
    "c = Controller()"
   ]
  },
  {
   "cell_type": "code",
   "execution_count": 36,
   "metadata": {},
   "outputs": [],
   "source": [
    "def dispatch_url(root_controller, url):\n",
    "    parts = url.split('/')\n",
    "    cur = root_controller\n",
    "    for part in parts:\n",
    "        next = getattr(cur, part)\n",
    "        if not next._exposed:\n",
    "            raise ValueError('403 Forbidden')\n",
    "        cur = next\n",
    "    return cur()"
   ]
  },
  {
   "cell_type": "code",
   "execution_count": 37,
   "metadata": {
    "scrolled": true
   },
   "outputs": [
    {
     "data": {
      "text/plain": [
       "'Welcome'"
      ]
     },
     "execution_count": 37,
     "metadata": {},
     "output_type": "execute_result"
    }
   ],
   "source": [
    "dispatch_url(c, 'home')"
   ]
  },
  {
   "cell_type": "markdown",
   "metadata": {
    "collapsed": true
   },
   "source": [
    "```python\n",
    "@EXPR0  # (\n",
    "@EXPR1  # (\n",
    "def FUNC():\n",
    "    ...\n",
    "# ))\n",
    "```\n",
    "    \n",
    "... means nothing more than ...\n",
    "\n",
    "```python\n",
    "_temp0 = EXPR0\n",
    "_temp1 = EXPR1\n",
    "def FUNC():\n",
    "    ...\n",
    "FUNC = _temp1(FUNC)\n",
    "FUNC = _temp0(FUNC)\n",
    "```"
   ]
  },
  {
   "cell_type": "markdown",
   "metadata": {},
   "source": [
    "# Lab\n",
    "\n",
    "Open the [Closures Lab][closures-lab]\n",
    "\n",
    "[closures-lab]: ./closures-lab.ipynb\n"
   ]
  },
  {
   "cell_type": "code",
   "execution_count": null,
   "metadata": {},
   "outputs": [],
   "source": []
  }
 ],
 "metadata": {
  "kernelspec": {
   "display_name": "Python 3",
   "language": "python",
   "name": "python3"
  },
  "language_info": {
   "codemirror_mode": {
    "name": "ipython",
    "version": 3
   },
   "file_extension": ".py",
   "mimetype": "text/x-python",
   "name": "python",
   "nbconvert_exporter": "python",
   "pygments_lexer": "ipython3",
   "version": "3.7.2"
  }
 },
 "nbformat": 4,
 "nbformat_minor": 1
}
