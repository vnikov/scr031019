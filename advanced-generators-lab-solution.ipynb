{
 "cells": [
  {
   "cell_type": "markdown",
   "metadata": {},
   "source": [
    "# Lab: Pipelines\n",
    "\n",
    "Write a processing pipeline using generators (e.g. use the `def` and `yield` statements) that will print out the capitalized lines in a file that contain the word 'host'."
   ]
  },
  {
   "cell_type": "code",
   "execution_count": 8,
   "metadata": {},
   "outputs": [],
   "source": [
    "def gen_lines(filename):\n",
    "    \"\"\"This is a 'source', so it does not take a generator as input.\"\"\"\n",
    "    with open(filename) as fp:\n",
    "        for line in fp:\n",
    "            yield line\n",
    "            \n",
    "def grep_host(gen):\n",
    "    '''Your code here'''\n",
    "    for line in gen:\n",
    "        if 'host' in line.lower():\n",
    "            yield line\n",
    "    \n",
    "def capitalize(gen):\n",
    "    '''Your code here'''\n",
    "    for line in gen:\n",
    "        yield line.title()"
   ]
  },
  {
   "cell_type": "code",
   "execution_count": 9,
   "metadata": {},
   "outputs": [
    {
     "name": "stdout",
     "output_type": "stream",
     "text": [
      "# Host Database\n",
      "# Localhost Is Used To Configure The Loopback Interface\n",
      "127.0.0.1\tLocalhost Localhost.Carefol.Io\n",
      "255.255.255.255\tBroadcasthost\n",
      "::1             Localhost\n",
      "Fe80::1%Lo0\tLocalhost\n"
     ]
    }
   ],
   "source": [
    "x = gen_lines('/etc/hosts')\n",
    "x = grep_host(x)\n",
    "x = capitalize(x)\n",
    "for line in x:\n",
    "    print(line, end='')"
   ]
  },
  {
   "cell_type": "markdown",
   "metadata": {},
   "source": [
    "Write another processing pipeline using generator expressions (e.g. the list comprehension-looking things)"
   ]
  },
  {
   "cell_type": "code",
   "execution_count": 10,
   "metadata": {},
   "outputs": [
    {
     "name": "stdout",
     "output_type": "stream",
     "text": [
      "# Localhost Is Used To Configure The Loopback Interface\n",
      "127.0.0.1\tLocalhost Localhost.Carefol.Io\n",
      "255.255.255.255\tBroadcasthost\n",
      "::1             Localhost\n",
      "Fe80::1%Lo0\tLocalhost\n"
     ]
    }
   ],
   "source": [
    "x = gen_lines('/etc/hosts')\n",
    "x = (line.title() for line in x if 'host' in line)\n",
    "for line in x:\n",
    "    print(line, end='')"
   ]
  },
  {
   "cell_type": "markdown",
   "metadata": {},
   "source": [
    "# Lab: Coroutine Pipelines\n",
    "\n",
    "Write a processing pipeline that will capitalize only IPV6 addresses"
   ]
  },
  {
   "cell_type": "code",
   "execution_count": 21,
   "metadata": {},
   "outputs": [],
   "source": [
    "def handle_ipv6():\n",
    "    while True:\n",
    "        line = yield\n",
    "        if '::' in line:\n",
    "            print(line.title(), end='')\n",
    "        else:\n",
    "            print(line, end='')"
   ]
  },
  {
   "cell_type": "code",
   "execution_count": 22,
   "metadata": {},
   "outputs": [],
   "source": [
    "ipv6_handler = handle_ipv6()\n",
    "next(ipv6_handler)"
   ]
  },
  {
   "cell_type": "code",
   "execution_count": 23,
   "metadata": {},
   "outputs": [
    {
     "name": "stdout",
     "output_type": "stream",
     "text": [
      "##\n",
      "# Host Database\n",
      "#\n",
      "# localhost is used to configure the loopback interface\n",
      "# when the system is booting.  Do not change this entry.\n",
      "##\n",
      "127.0.0.1\tlocalhost localhost.carefol.io\n",
      "255.255.255.255\tbroadcasthost\n",
      "::1             Localhost\n",
      "Fe80::1%Lo0\tLocalhost\n",
      "# 192.168.11.3\taragorn\n",
      "# 208.113.226.104 www.ricksresources.com\n",
      "127.0.0.1\teht_cf-web_1 eht_sso-web_1 eht_blob-web_1 eht_pcc-gw-web_1\n"
     ]
    }
   ],
   "source": [
    "x = gen_lines('/etc/hosts')\n",
    "for line in x:\n",
    "    ipv6_handler.send(line)"
   ]
  }
 ],
 "metadata": {
  "kernelspec": {
   "display_name": "Python 3",
   "language": "python",
   "name": "python3"
  },
  "language_info": {
   "codemirror_mode": {
    "name": "ipython",
    "version": 3
   },
   "file_extension": ".py",
   "mimetype": "text/x-python",
   "name": "python",
   "nbconvert_exporter": "python",
   "pygments_lexer": "ipython3",
   "version": "3.7.2"
  }
 },
 "nbformat": 4,
 "nbformat_minor": 2
}
