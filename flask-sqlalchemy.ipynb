{
 "cells": [
  {
   "cell_type": "markdown",
   "metadata": {},
   "source": [
    "# Flask-SQLAlchemy\n",
    "\n",
    "Flask itself does not come with any database backend, but the Flask-SQLAlchemy plugin provides database access via the SQLAlchemy database toolkit.\n",
    "\n"
   ]
  },
  {
   "cell_type": "code",
   "execution_count": 1,
   "metadata": {},
   "outputs": [
    {
     "name": "stdout",
     "output_type": "stream",
     "text": [
      "Requirement already satisfied: flask-sqlalchemy in /Users/rick446/.virtualenvs/advanced-python/lib/python3.7/site-packages (2.3.2)\n",
      "Requirement already satisfied: Flask>=0.10 in /Users/rick446/.virtualenvs/advanced-python/lib/python3.7/site-packages (from flask-sqlalchemy) (1.0.2)\n",
      "Requirement already satisfied: SQLAlchemy>=0.8.0 in /Users/rick446/.virtualenvs/advanced-python/lib/python3.7/site-packages (from flask-sqlalchemy) (1.3.1)\n",
      "Requirement already satisfied: Jinja2>=2.10 in /Users/rick446/.virtualenvs/advanced-python/lib/python3.7/site-packages (from Flask>=0.10->flask-sqlalchemy) (2.10)\n",
      "Requirement already satisfied: Werkzeug>=0.14 in /Users/rick446/.virtualenvs/advanced-python/lib/python3.7/site-packages (from Flask>=0.10->flask-sqlalchemy) (0.14.1)\n",
      "Requirement already satisfied: click>=5.1 in /Users/rick446/.virtualenvs/advanced-python/lib/python3.7/site-packages (from Flask>=0.10->flask-sqlalchemy) (7.0)\n",
      "Requirement already satisfied: itsdangerous>=0.24 in /Users/rick446/.virtualenvs/advanced-python/lib/python3.7/site-packages (from Flask>=0.10->flask-sqlalchemy) (1.1.0)\n",
      "Requirement already satisfied: MarkupSafe>=0.23 in /Users/rick446/.virtualenvs/advanced-python/lib/python3.7/site-packages (from Jinja2>=2.10->Flask>=0.10->flask-sqlalchemy) (1.1.1)\n",
      "\u001b[33mYou are using pip version 18.1, however version 19.0.3 is available.\n",
      "You should consider upgrading via the 'pip install --upgrade pip' command.\u001b[0m\n"
     ]
    }
   ],
   "source": [
    "!pip install flask-sqlalchemy"
   ]
  },
  {
   "cell_type": "code",
   "execution_count": 2,
   "metadata": {},
   "outputs": [],
   "source": [
    "from flask_helpers import running_app"
   ]
  },
  {
   "cell_type": "code",
   "execution_count": 3,
   "metadata": {},
   "outputs": [
    {
     "name": "stdout",
     "output_type": "stream",
     "text": [
      "Overwriting data/flask-examples/sa_model.py\n"
     ]
    }
   ],
   "source": [
    "%%file data/flask-examples/sa_model.py\n",
    "from flask_sqlalchemy import SQLAlchemy\n",
    "\n",
    "db = SQLAlchemy()\n",
    "\n",
    "class Post(db.Model):\n",
    "    id = db.Column(db.Integer, primary_key=True)\n",
    "    postedDate = db.Column(db.DateTime)\n",
    "    authorName = db.Column(db.String)\n",
    "    title = db.Column(db.String)\n",
    "    content = db.Column(db.String)\n",
    "    \n",
    "class Comment(db.Model):\n",
    "    id = db.Column(db.Integer, primary_key=True)\n",
    "    post_id = db.Column(db.Integer, db.ForeignKey('post.id'), nullable=False)\n",
    "    postedDate = db.Column(db.DateTime)\n",
    "    authorName = db.Column(db.String)\n",
    "    content = db.Column(db.String)\n",
    "    \n",
    "    post = db.relationship('Post', backref=db.backref('comments', lazy=True))\n"
   ]
  },
  {
   "cell_type": "code",
   "execution_count": 4,
   "metadata": {},
   "outputs": [
    {
     "name": "stdout",
     "output_type": "stream",
     "text": [
      "Overwriting data/flask-examples/sa-app.py\n"
     ]
    }
   ],
   "source": [
    "%%file data/flask-examples/sa-app.py\n",
    "from datetime import datetime\n",
    "\n",
    "from flask import Flask, url_for, jsonify, request, abort\n",
    "\n",
    "from sa_model import db, Post, Comment\n",
    "\n",
    "app = Flask(__name__)\n",
    "app.config['SQLALCHEMY_DATABASE_URI'] = 'sqlite:///blog.db'\n",
    "app.config['SQLALCHEMY_TRACK_MODIFICATIONS'] = False\n",
    "db.init_app(app)\n",
    "\n",
    "\n",
    "@app.route('/')\n",
    "def get_root():\n",
    "    return jsonify(_links={'posts': url_for('get_posts', _external=True)})\n",
    "\n",
    "\n",
    "@app.route('/post')\n",
    "def get_posts():\n",
    "    post_links = [\n",
    "        url_for('get_post', post_id=post.id, _external=True) \n",
    "        for post in Post.query]\n",
    "    return jsonify(\n",
    "        _links={'self': url_for('get_posts', _external=True)},\n",
    "        posts=[dict(_links=dict(self=link)) for link in post_links])\n",
    "\n",
    "@app.route('/post', methods=['POST'])\n",
    "def create_post():\n",
    "    post = Post(\n",
    "        authorName=request.authorization.username,\n",
    "        postedDate=datetime.utcnow(),\n",
    "        title=request.json['title'],\n",
    "        content=request.json['content'],\n",
    "    )\n",
    "    db.session.add(post)\n",
    "    db.session.commit()\n",
    "    result = jsonify_post(post)\n",
    "    result.headers['Location'] = url_for('get_post', post_id=post.id, _external=True)\n",
    "    return result\n",
    "\n",
    "@app.route('/post/<int:post_id>')\n",
    "def get_post(post_id):\n",
    "    post = Post.query.get(post_id)\n",
    "    if not post:\n",
    "        abort(404)\n",
    "    return jsonify_post(post)\n",
    "\n",
    "@app.route('/post/<int:post_id>', methods=['PUT'])\n",
    "def update_post(post_id):\n",
    "    post = Post.query.get(post_id)\n",
    "    if not post:\n",
    "        abort(404)\n",
    "    post.authorName = request.authorization.username\n",
    "    post.postedDate = datetime.utcnow()\n",
    "    post.title = request.json['title']\n",
    "    post.content = request.json['content']\n",
    "    db.session.commit()\n",
    "    return jsonify_post(post)\n",
    "\n",
    "@app.route('/post/<int:post_id>', methods=['DELETE'])\n",
    "def delete_post(post_id):\n",
    "    post = Post.query.get(post_id)\n",
    "    if not post:\n",
    "        abort(404)\n",
    "    db.session.delete(post)\n",
    "    db.session.commit()\n",
    "    return '', 204\n",
    "\n",
    "def jsonify_post(post):\n",
    "    return jsonify(\n",
    "        _links={'self': url_for('get_post', post_id=post.id, _external=True)},\n",
    "        postedDate=post.postedDate.isoformat(),\n",
    "        authorName=post.authorName,\n",
    "        title=post.title,\n",
    "        content=post.content,\n",
    "    )"
   ]
  },
  {
   "cell_type": "code",
   "execution_count": 5,
   "metadata": {},
   "outputs": [],
   "source": [
    "import requests\n",
    "sess = requests.Session()\n",
    "sess.auth = ('rick', 'password')"
   ]
  },
  {
   "cell_type": "code",
   "execution_count": 8,
   "metadata": {},
   "outputs": [
    {
     "name": "stdout",
     "output_type": "stream",
     "text": [
      " * Serving Flask app \"data/flask-examples/sa-app.py\"\n",
      " * Environment: development\n",
      " * Debug mode: on\n",
      " * Running on http://127.0.0.1:5000/ (Press CTRL+C to quit)\n",
      "127.0.0.1 - - [22/Mar/2019 11:41:17] \"POST /post HTTP/1.1\" 200 -\n",
      "Exiting output thread\n"
     ]
    }
   ],
   "source": [
    "with running_app('data/flask-examples/sa-app.py'):\n",
    "    sess.post('http://localhost:5000/post', json={\n",
    "        'title': 'First post!',\n",
    "        'content': 'This is the first post, does it work?',\n",
    "    })"
   ]
  },
  {
   "cell_type": "code",
   "execution_count": 10,
   "metadata": {},
   "outputs": [],
   "source": [
    "import sqlite3\n",
    "conn = sqlite3.connect('data/flask-examples/blog.db')"
   ]
  },
  {
   "cell_type": "code",
   "execution_count": 12,
   "metadata": {},
   "outputs": [
    {
     "name": "stdout",
     "output_type": "stream",
     "text": [
      "(1, '2019-03-22 18:41:17.540083', 'rick', 'First post!', 'This is the first post, does it work?')\n"
     ]
    }
   ],
   "source": [
    "for row in conn.execute('SELECT * FROM post'):\n",
    "    print(row)"
   ]
  },
  {
   "cell_type": "code",
   "execution_count": 7,
   "metadata": {
    "scrolled": false
   },
   "outputs": [
    {
     "name": "stdout",
     "output_type": "stream",
     "text": [
      " * Serving Flask app \"data/flask-examples/sa-app.py\"\n",
      " * Environment: development\n",
      " * Debug mode: on\n",
      " * Running on http://127.0.0.1:5000/ (Press CTRL+C to quit)\n",
      "127.0.0.1 - - [22/Mar/2019 11:41:02] \"GET /post HTTP/1.1\" 200 -\n",
      "{'_links': {'self': 'http://localhost:5000/post'}, 'posts': [{'_links': {'self': 'http://localhost:5000/post/1'}}]}\n",
      "Post\n",
      "127.0.0.1 - - [22/Mar/2019 11:41:02] \"GET /post/1 HTTP/1.1\" 200 -\n",
      "{'_links': {'self': 'http://localhost:5000/post/1'}, 'authorName': 'rick', 'content': 'This is the first post, does it work?', 'postedDate': '2019-03-22T18:40:52.912340', 'title': 'First post!'}\n",
      "127.0.0.1 - - [22/Mar/2019 11:41:02] \"DELETE /post/1 HTTP/1.1\" 204 -\n",
      "Exiting output thread\n"
     ]
    }
   ],
   "source": [
    "with running_app('data/flask-examples/sa-app.py'):\n",
    "    resp = sess.get('http://localhost:5000/post')\n",
    "    resp.raise_for_status()\n",
    "    print(resp.json())\n",
    "    for post in resp.json()['posts']:\n",
    "        print('Post')\n",
    "        r = sess.get(post['_links']['self'])\n",
    "        r.raise_for_status()\n",
    "        print(r.json())\n",
    "        sess.delete(post['_links']['self'])"
   ]
  },
  {
   "cell_type": "markdown",
   "metadata": {},
   "source": [
    "Open the [Flask-SQLAlchemy lab](./flask-sqlalchemy-lab.ipynb)"
   ]
  }
 ],
 "metadata": {
  "kernelspec": {
   "display_name": "Python 3",
   "language": "python",
   "name": "python3"
  },
  "language_info": {
   "codemirror_mode": {
    "name": "ipython",
    "version": 3
   },
   "file_extension": ".py",
   "mimetype": "text/x-python",
   "name": "python",
   "nbconvert_exporter": "python",
   "pygments_lexer": "ipython3",
   "version": "3.7.2"
  }
 },
 "nbformat": 4,
 "nbformat_minor": 2
}
