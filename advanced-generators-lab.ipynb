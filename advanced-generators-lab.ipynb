{
 "cells": [
  {
   "cell_type": "markdown",
   "metadata": {},
   "source": [
    "# Lab: Pipelines\n",
    "\n",
    "Write a processing pipeline using generators (e.g. use the `def` and `yield` statements) that will print out the capitalized lines in a file that contain the word 'host'."
   ]
  },
  {
   "cell_type": "code",
   "execution_count": null,
   "metadata": {},
   "outputs": [],
   "source": [
    "def gen_lines(filename):\n",
    "    \"\"\"This is a 'source', so it does not take a generator as input.\"\"\"\n",
    "    with open(filename) as fp:\n",
    "        for line in fp:\n",
    "            yield line\n",
    "            \n",
    "def grep_host(gen):\n",
    "    '''Your code here'''\n",
    "    \n",
    "def capitalize(gen):\n",
    "    '''Your code here'''"
   ]
  },
  {
   "cell_type": "markdown",
   "metadata": {},
   "source": [
    "Write another processing pipeline using generator expressions (e.g. the list comprehension-looking things)"
   ]
  },
  {
   "cell_type": "code",
   "execution_count": null,
   "metadata": {},
   "outputs": [],
   "source": []
  },
  {
   "cell_type": "markdown",
   "metadata": {},
   "source": [
    "# Lab: Coroutine Pipelines\n",
    "\n",
    "Write a processing pipeline that will capitalize only IPV6 addresses"
   ]
  },
  {
   "cell_type": "code",
   "execution_count": null,
   "metadata": {},
   "outputs": [],
   "source": []
  }
 ],
 "metadata": {
  "kernelspec": {
   "display_name": "Python 3",
   "language": "python",
   "name": "python3"
  },
  "language_info": {
   "codemirror_mode": {
    "name": "ipython",
    "version": 3
   },
   "file_extension": ".py",
   "mimetype": "text/x-python",
   "name": "python",
   "nbconvert_exporter": "python",
   "pygments_lexer": "ipython3",
   "version": "3.7.2"
  }
 },
 "nbformat": 4,
 "nbformat_minor": 2
}
