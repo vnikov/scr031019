{
 "cells": [
  {
   "cell_type": "markdown",
   "metadata": {},
   "source": [
    "### Lab: Celery\n",
    "* create a Celery task named __`write_file()`__ which takes two arguments, a filename and a string, and write the string to the file\n",
    "* create a second task named __`read_file()`__ which reads from a file\n",
    "  * if the file does not exist, it waits until the file exists (perhaps have it poll once a second)\n",
    "  * after a successful read, the task should delete the file\n",
    "* test your tasks\n",
    "* incorporate the task into a program which gets input from the user, and uses the tasks above to read and write data to a file (imagine that the files are on a remote system, even though that won't be the case for our lab)"
   ]
  },
  {
   "cell_type": "code",
   "execution_count": null,
   "metadata": {},
   "outputs": [],
   "source": [
    "cd data"
   ]
  },
  {
   "cell_type": "code",
   "execution_count": 9,
   "metadata": {},
   "outputs": [
    {
     "name": "stdout",
     "output_type": "stream",
     "text": [
      "Overwriting celery_examples/file_tasks.py\n"
     ]
    }
   ],
   "source": [
    "%%file celery_examples/file_tasks.py\n",
    "import os\n",
    "import time\n",
    "\n",
    "from celery import Celery\n",
    "\n",
    "app = Celery('tasks', backend='rpc://', broker='amqp://guest@localhost')\n",
    "\n",
    "@app.task\n",
    "def write_file(filename, content):\n",
    "    with open(filename, 'w') as f:\n",
    "        f.write(content)\n",
    "\n",
    "@app.task\n",
    "def read_file(filename):\n",
    "    while not os.path.exists(filename):\n",
    "        time.sleep(1)\n",
    "    with open(filename) as f:\n",
    "        data = f.read()\n",
    "    os.remove(filename)\n",
    "    return data"
   ]
  },
  {
   "cell_type": "code",
   "execution_count": 10,
   "metadata": {},
   "outputs": [
    {
     "name": "stdout",
     "output_type": "stream",
     "text": [
      "Filename? /tmp/foobar.txt\n",
      "Content? DOes this work?\n",
      "DOes this work?\n"
     ]
    }
   ],
   "source": [
    "from celery_examples.file_tasks import write_file, read_file\n",
    "\n",
    "filename = input('Filename? ')\n",
    "content = input('Content? ')\n",
    "\n",
    "write_file.delay(filename, content)\n",
    "result = read_file.delay(filename)\n",
    "print(result.get())\n"
   ]
  },
  {
   "cell_type": "code",
   "execution_count": null,
   "metadata": {},
   "outputs": [],
   "source": []
  }
 ],
 "metadata": {
  "kernelspec": {
   "display_name": "Python 3",
   "language": "python",
   "name": "python3"
  },
  "language_info": {
   "codemirror_mode": {
    "name": "ipython",
    "version": 3
   },
   "file_extension": ".py",
   "mimetype": "text/x-python",
   "name": "python",
   "nbconvert_exporter": "python",
   "pygments_lexer": "ipython3",
   "version": "3.7.2"
  }
 },
 "nbformat": 4,
 "nbformat_minor": 2
}
