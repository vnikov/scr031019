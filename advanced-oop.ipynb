{
 "cells": [
  {
   "cell_type": "markdown",
   "metadata": {},
   "source": [
    "# Advanced Object-Oriented Programming: Metaclasses and Class Decorators\n",
    "\n",
    "A `class` is a \"factory for objects (instances)\"\n",
    "\n",
    "What is a \"factory for classes?\""
   ]
  },
  {
   "cell_type": "code",
   "execution_count": 1,
   "metadata": {},
   "outputs": [],
   "source": [
    "class MyClass1(object):\n",
    "    pass"
   ]
  },
  {
   "cell_type": "code",
   "execution_count": 2,
   "metadata": {},
   "outputs": [
    {
     "data": {
      "text/plain": [
       "__main__.MyClass1"
      ]
     },
     "execution_count": 2,
     "metadata": {},
     "output_type": "execute_result"
    }
   ],
   "source": [
    "obj = MyClass1()\n",
    "type(obj)"
   ]
  },
  {
   "cell_type": "code",
   "execution_count": 3,
   "metadata": {},
   "outputs": [
    {
     "data": {
      "text/plain": [
       "type"
      ]
     },
     "execution_count": 3,
     "metadata": {},
     "output_type": "execute_result"
    }
   ],
   "source": [
    "type(MyClass1)"
   ]
  },
  {
   "cell_type": "code",
   "execution_count": 4,
   "metadata": {},
   "outputs": [],
   "source": [
    "%%python2\n",
    "def meta(name, bases, dct):\n",
    "    return type(name, bases, dct)\n",
    "\n",
    "class MyClass2(object):\n",
    "    __metaclass__ = meta\n"
   ]
  },
  {
   "cell_type": "code",
   "execution_count": 5,
   "metadata": {},
   "outputs": [
    {
     "name": "stdout",
     "output_type": "stream",
     "text": [
      "MyClass2 (<class 'object'>,) {'__module__': '__main__', '__qualname__': 'MyClass2', 'a': 'foo'}\n"
     ]
    }
   ],
   "source": [
    "def meta(name, bases, dct):\n",
    "    print(name, bases, dct)\n",
    "    return type(name, bases, dct)\n",
    "\n",
    "class MyClass2(object, metaclass=meta):\n",
    "    a = 'foo'\n"
   ]
  },
  {
   "cell_type": "code",
   "execution_count": 6,
   "metadata": {},
   "outputs": [
    {
     "name": "stdout",
     "output_type": "stream",
     "text": [
      "MyClass2 (<class 'object'>,) {'a': 'foo'}\n"
     ]
    }
   ],
   "source": [
    "dct = {'a': 'foo'}\n",
    "MyClass2 = meta('MyClass2', (object,), dct)"
   ]
  },
  {
   "cell_type": "code",
   "execution_count": 7,
   "metadata": {},
   "outputs": [
    {
     "data": {
      "text/plain": [
       "type"
      ]
     },
     "execution_count": 7,
     "metadata": {},
     "output_type": "execute_result"
    }
   ],
   "source": [
    "type(MyClass2)"
   ]
  },
  {
   "cell_type": "code",
   "execution_count": 8,
   "metadata": {},
   "outputs": [],
   "source": [
    "class WithAMeta(type):\n",
    "    def __new__(meta, name, bases, dct):\n",
    "        dct['a'] = 5\n",
    "        return super().__new__(meta, name, bases, dct)\n",
    "    \n",
    "class MyClass3(object, metaclass=WithAMeta):\n",
    "    pass"
   ]
  },
  {
   "cell_type": "code",
   "execution_count": 11,
   "metadata": {},
   "outputs": [],
   "source": [
    "MyClass3 = WithAMeta('MyClass3', (object,), {})"
   ]
  },
  {
   "cell_type": "code",
   "execution_count": 12,
   "metadata": {},
   "outputs": [
    {
     "data": {
      "text/plain": [
       "__main__.WithAMeta"
      ]
     },
     "execution_count": 12,
     "metadata": {},
     "output_type": "execute_result"
    }
   ],
   "source": [
    "type(MyClass3)"
   ]
  },
  {
   "cell_type": "code",
   "execution_count": 13,
   "metadata": {},
   "outputs": [
    {
     "data": {
      "text/plain": [
       "5"
      ]
     },
     "execution_count": 13,
     "metadata": {},
     "output_type": "execute_result"
    }
   ],
   "source": [
    "MyClass3.a"
   ]
  },
  {
   "cell_type": "markdown",
   "metadata": {},
   "source": [
    "### Metaclass use case: collecting properties ('declarative programming')"
   ]
  },
  {
   "cell_type": "code",
   "execution_count": 27,
   "metadata": {},
   "outputs": [],
   "source": [
    "class ImportantField(object):\n",
    "    def __init__(self, value, name=None):\n",
    "        self.value = value\n",
    "        self.name = name\n",
    "        \n",
    "class CollectorMeta(type):\n",
    "    def __new__(meta, name, bases, dct):\n",
    "        important = []\n",
    "        for k, v in dct.items():\n",
    "            if isinstance(v, ImportantField):\n",
    "                if v.name is None:\n",
    "                    v.name = k\n",
    "                important.append(v)\n",
    "        dct['_important'] = important\n",
    "        return type.__new__(meta, name, bases, dct)\n",
    "        \n",
    "class MyBase(object, metaclass=CollectorMeta):\n",
    "\n",
    "    def __repr__(self):\n",
    "        l = ['<{}'.format(self.__class__.__name__)]\n",
    "        for fld in self._important:\n",
    "            l.append(' {}={}'.format(fld.name, fld.value))\n",
    "        l.append('>')\n",
    "        return ''.join(l)\n",
    "    \n",
    "class MyClass4(MyBase):\n",
    "    a = ImportantField(1)\n",
    "    b = ImportantField(2)\n",
    "    c = ImportantField(3)"
   ]
  },
  {
   "cell_type": "code",
   "execution_count": 28,
   "metadata": {},
   "outputs": [
    {
     "data": {
      "text/plain": [
       "<MyClass4 a=1 b=2 c=3>"
      ]
     },
     "execution_count": 28,
     "metadata": {},
     "output_type": "execute_result"
    }
   ],
   "source": [
    "MyClass4()"
   ]
  },
  {
   "cell_type": "code",
   "execution_count": 29,
   "metadata": {},
   "outputs": [
    {
     "name": "stdout",
     "output_type": "stream",
     "text": [
      "<MyClass4 a=1 b=2 c=3>\n"
     ]
    }
   ],
   "source": [
    "print(MyClass4())"
   ]
  },
  {
   "cell_type": "markdown",
   "metadata": {},
   "source": [
    "### Metaclass use case: class registries"
   ]
  },
  {
   "cell_type": "code",
   "execution_count": 37,
   "metadata": {},
   "outputs": [],
   "source": [
    "class RegistryMeta(type):\n",
    "    _registry = {}\n",
    "    def __new__(meta, name, bases, dct):\n",
    "        if 'name' not in dct:\n",
    "            raise ValueError('All instances must include a \"name\" attribute')\n",
    "        cls = type.__new__(meta, name, bases, dct)\n",
    "        meta._registry[dct['name']] = cls\n",
    "        return cls\n",
    "    def lookup_meta(self, name):\n",
    "        return self._registry[name]\n",
    "\n",
    "class RegistryBase(object, metaclass=RegistryMeta):\n",
    "    name = 'base'\n",
    "    @classmethod\n",
    "    def lookup(cls, name):\n",
    "        return cls._registry[name]\n",
    "\n",
    "    \n",
    "class Registered1(RegistryBase):\n",
    "    name = 'r1'\n",
    "\n",
    "class Registered2(RegistryBase):\n",
    "    name = 'r2'\n",
    "    \n",
    "class Registered3(object, metaclass=RegistryMeta):\n",
    "    name = 'r3'\n"
   ]
  },
  {
   "cell_type": "code",
   "execution_count": 38,
   "metadata": {},
   "outputs": [
    {
     "data": {
      "text/plain": [
       "__main__.Registered1"
      ]
     },
     "execution_count": 38,
     "metadata": {},
     "output_type": "execute_result"
    }
   ],
   "source": [
    "RegistryBase.lookup('r1')"
   ]
  },
  {
   "cell_type": "code",
   "execution_count": 39,
   "metadata": {},
   "outputs": [
    {
     "data": {
      "text/plain": [
       "__main__.Registered2"
      ]
     },
     "execution_count": 39,
     "metadata": {},
     "output_type": "execute_result"
    }
   ],
   "source": [
    "RegistryBase.lookup('r2')"
   ]
  },
  {
   "cell_type": "code",
   "execution_count": 40,
   "metadata": {},
   "outputs": [
    {
     "data": {
      "text/plain": [
       "__main__.Registered1"
      ]
     },
     "execution_count": 40,
     "metadata": {},
     "output_type": "execute_result"
    }
   ],
   "source": [
    "RegistryBase.lookup_meta('r1')"
   ]
  },
  {
   "cell_type": "code",
   "execution_count": 41,
   "metadata": {},
   "outputs": [
    {
     "data": {
      "text/plain": [
       "__main__.Registered3"
      ]
     },
     "execution_count": 41,
     "metadata": {},
     "output_type": "execute_result"
    }
   ],
   "source": [
    "RegistryBase.lookup_meta('r3')"
   ]
  },
  {
   "cell_type": "markdown",
   "metadata": {},
   "source": [
    "### Metaclass use case: class operators"
   ]
  },
  {
   "cell_type": "code",
   "execution_count": 47,
   "metadata": {},
   "outputs": [],
   "source": [
    "class RegistryMeta(type):\n",
    "    _registry = {}\n",
    "    def __new__(meta, name, bases, dct):\n",
    "        if 'name' not in dct:\n",
    "            raise ValueError('All instances must include a \"name\" attribute')\n",
    "        cls = type.__new__(meta, name, bases, dct)\n",
    "        meta._registry[dct['name']] = cls\n",
    "        return cls\n",
    "    def __getitem__(cls, name):\n",
    "        return cls._registry[name]\n",
    "\n",
    "class RegistryBase(object, metaclass=RegistryMeta):\n",
    "    name = 'base'\n",
    "  \n",
    "#     sadly, this does not work...\n",
    "#     @classmethod\n",
    "#     def __getitem__(cls, name):\n",
    "#         return cls._registry[name]\n",
    "    \n",
    "class Registered1(RegistryBase):\n",
    "    name = 'r1'\n",
    "\n",
    "class Registered2(RegistryBase):\n",
    "    name = 'r2'\n"
   ]
  },
  {
   "cell_type": "code",
   "execution_count": 48,
   "metadata": {},
   "outputs": [
    {
     "data": {
      "text/plain": [
       "__main__.Registered1"
      ]
     },
     "execution_count": 48,
     "metadata": {},
     "output_type": "execute_result"
    }
   ],
   "source": [
    "RegistryBase['r1']"
   ]
  },
  {
   "cell_type": "code",
   "execution_count": 49,
   "metadata": {},
   "outputs": [
    {
     "data": {
      "text/plain": [
       "__main__.Registered2"
      ]
     },
     "execution_count": 49,
     "metadata": {},
     "output_type": "execute_result"
    }
   ],
   "source": [
    "RegistryBase['r2']"
   ]
  },
  {
   "cell_type": "code",
   "execution_count": 53,
   "metadata": {},
   "outputs": [],
   "source": [
    "class HierMeta(type):\n",
    "    def __new__(meta, name, bases, dct):\n",
    "        cls = type.__new__(meta, name, bases, dct)\n",
    "        return cls\n",
    "    def __add__(cls, other):\n",
    "        return type(f'{cls.__name__} + {other.__name__}', (cls, other), {})\n",
    "\n",
    "class HierBase(object, metaclass=HierMeta): pass\n",
    "\n",
    "class R1(HierBase): pass\n",
    "class R2(HierBase): pass\n",
    "\n",
    "R3 = R1 + R2\n"
   ]
  },
  {
   "cell_type": "code",
   "execution_count": 54,
   "metadata": {},
   "outputs": [
    {
     "data": {
      "text/plain": [
       "__main__.R1 + R2"
      ]
     },
     "execution_count": 54,
     "metadata": {},
     "output_type": "execute_result"
    }
   ],
   "source": [
    "R3"
   ]
  },
  {
   "cell_type": "code",
   "execution_count": 55,
   "metadata": {},
   "outputs": [
    {
     "data": {
      "text/plain": [
       "[__main__.R1 + R2, __main__.R1, __main__.R2, __main__.HierBase, object]"
      ]
     },
     "execution_count": 55,
     "metadata": {},
     "output_type": "execute_result"
    }
   ],
   "source": [
    "R3.mro()"
   ]
  },
  {
   "cell_type": "markdown",
   "metadata": {},
   "source": [
    "### Class decorators: cheap substitute for metaclasses"
   ]
  },
  {
   "cell_type": "code",
   "execution_count": 56,
   "metadata": {},
   "outputs": [],
   "source": [
    "class Registry(object):\n",
    "    def __init__(self):\n",
    "        self._registry = {}\n",
    "    def register(self, name):\n",
    "        def decorator(cls):\n",
    "            self._registry[name] = cls\n",
    "            return cls\n",
    "        return decorator\n",
    "    def __getitem__(self, name):\n",
    "        return self._registry[name]\n",
    "    \n",
    "r = Registry()\n",
    "\n",
    "@r.register('r1')\n",
    "class Registered1:\n",
    "    pass\n",
    "\n",
    "@r.register('r2')\n",
    "class Registered2():\n",
    "    pass"
   ]
  },
  {
   "cell_type": "code",
   "execution_count": 57,
   "metadata": {},
   "outputs": [
    {
     "data": {
      "text/plain": [
       "__main__.Registered1"
      ]
     },
     "execution_count": 57,
     "metadata": {},
     "output_type": "execute_result"
    }
   ],
   "source": [
    "r['r1']"
   ]
  },
  {
   "cell_type": "code",
   "execution_count": 58,
   "metadata": {},
   "outputs": [
    {
     "data": {
      "text/plain": [
       "__main__.Registered2"
      ]
     },
     "execution_count": 58,
     "metadata": {},
     "output_type": "execute_result"
    }
   ],
   "source": [
    "r['r2']"
   ]
  },
  {
   "cell_type": "markdown",
   "metadata": {},
   "source": [
    "## Metaclass semantics\n",
    "\n",
    "bar = Foo()\n",
    "\n",
    "- if Foo is a class, bar is an instance\n",
    "- if Foo is a metaclass, bar is a class\n",
    "\n",
    "- `type` is a metaclass\n",
    "- `object` is class\n",
    "- `'foo'` is an instance (of the class `str`, which has metaclass `type`)"
   ]
  },
  {
   "cell_type": "markdown",
   "metadata": {},
   "source": [
    "# Descriptors\n",
    "\n",
    "... or \"ever wonder how `@property`, `@classmethod`, and `@staticmethod` work?\"\n",
    "\n",
    "**Descriptors** are object which contain one or more of the following magic methods, and which occur in a class body:\n",
    "\n",
    "- `__get__(self, object, type)` - called when the descriptor attribute is looked up (e.g. `getattr()`)\n",
    "- `__set__(self, object, value)` - called when the descriptor attribute is set (e.g. `setattr()`)\n",
    "- `__del__(self, object)` - called when the descriptor attribute is deleted (e.g. `delattr()` or `del obj.attr`)"
   ]
  },
  {
   "cell_type": "markdown",
   "metadata": {},
   "source": [
    "Let's re-implement @property:"
   ]
  },
  {
   "cell_type": "code",
   "execution_count": 79,
   "metadata": {},
   "outputs": [],
   "source": [
    "class myproperty():\n",
    "\n",
    "    def __init__(self, getter, setter=None):\n",
    "        self._getter = getter\n",
    "        self._setter = setter\n",
    "        \n",
    "    def __get__(self, object, type):\n",
    "        if object is None:\n",
    "            return self\n",
    "        return self._getter(object)\n",
    "    \n",
    "    def __set__(self, object, value):\n",
    "        if self._setter is None:\n",
    "            raise AttributeError\n",
    "        self._setter(object, value)\n",
    "        \n",
    "    def __call__(self, x):\n",
    "        print(f'Calling myproperty({x})')\n",
    "        \n",
    "    def setter(self, setter):\n",
    "        \"\"\"Descorator to add a setter\"\"\"\n",
    "        self._setter = setter\n",
    "        return self\n",
    "        \n",
    "            "
   ]
  },
  {
   "cell_type": "code",
   "execution_count": 87,
   "metadata": {},
   "outputs": [],
   "source": [
    "class Foo():\n",
    "    \n",
    "    @myproperty\n",
    "    def bar(self):\n",
    "        print('Calling getter for bar')\n",
    "        return 'barval'\n",
    "    \n",
    "    @bar.setter\n",
    "    def bar(self, value):\n",
    "        print('Calling setter for bar')\n",
    "        \n",
    "    def get_baz(self, other=None):\n",
    "        print(f'Calling get_baz({other})')\n",
    "        \n",
    "    baz = property(get_baz)\n",
    "        \n",
    "foo = Foo()"
   ]
  },
  {
   "cell_type": "code",
   "execution_count": 88,
   "metadata": {},
   "outputs": [
    {
     "name": "stdout",
     "output_type": "stream",
     "text": [
      "Calling getter for bar\n"
     ]
    },
    {
     "data": {
      "text/plain": [
       "'barval'"
      ]
     },
     "execution_count": 88,
     "metadata": {},
     "output_type": "execute_result"
    }
   ],
   "source": [
    "foo.bar"
   ]
  },
  {
   "cell_type": "code",
   "execution_count": 89,
   "metadata": {},
   "outputs": [
    {
     "name": "stdout",
     "output_type": "stream",
     "text": [
      "Calling setter for bar\n"
     ]
    }
   ],
   "source": [
    "foo.bar = 10"
   ]
  },
  {
   "cell_type": "code",
   "execution_count": 90,
   "metadata": {},
   "outputs": [
    {
     "name": "stdout",
     "output_type": "stream",
     "text": [
      "Calling get_baz(None)\n"
     ]
    }
   ],
   "source": [
    "foo.baz"
   ]
  },
  {
   "cell_type": "code",
   "execution_count": 91,
   "metadata": {},
   "outputs": [
    {
     "name": "stdout",
     "output_type": "stream",
     "text": [
      "Calling get_baz(10)\n"
     ]
    }
   ],
   "source": [
    "foo.get_baz(10)"
   ]
  },
  {
   "cell_type": "code",
   "execution_count": 63,
   "metadata": {},
   "outputs": [
    {
     "data": {
      "text/plain": [
       "<__main__.myproperty at 0x1102bce80>"
      ]
     },
     "execution_count": 63,
     "metadata": {},
     "output_type": "execute_result"
    }
   ],
   "source": [
    "Foo.bar"
   ]
  },
  {
   "cell_type": "markdown",
   "metadata": {},
   "source": [
    "## Descriptor types\n",
    "\n",
    "- A **data descriptor** is a descriptor that defines both `__get__` and `__set__`\n",
    "- A **non-data descriptor** is a descriptor that defines only `__get__`\n",
    "\n",
    "> Data and non-data descriptors differ in how overrides are calculated with respect to entries in an instance’s dictionary. If an instance’s dictionary has an entry with the same name as a data descriptor, the data descriptor takes precedence. If an instance’s dictionary has an entry with the same name as a non-data descriptor, the dictionary entry takes precedence.\n"
   ]
  },
  {
   "cell_type": "code",
   "execution_count": 66,
   "metadata": {},
   "outputs": [],
   "source": [
    "class Foo(): \n",
    "    pass\n",
    "\n",
    "foo = Foo()\n",
    "foo.a = 5"
   ]
  },
  {
   "cell_type": "code",
   "execution_count": 67,
   "metadata": {},
   "outputs": [
    {
     "data": {
      "text/plain": [
       "{'a': 5}"
      ]
     },
     "execution_count": 67,
     "metadata": {},
     "output_type": "execute_result"
    }
   ],
   "source": [
    "foo.__dict__"
   ]
  },
  {
   "cell_type": "code",
   "execution_count": 68,
   "metadata": {},
   "outputs": [],
   "source": [
    "class DataDescriptor():\n",
    "    \n",
    "    def __get__(self, object, type):\n",
    "        if object is None:\n",
    "            return self\n",
    "        return 'data descriptor value'\n",
    "    \n",
    "    def __set__(self, object, value):\n",
    "        # Just make it a read-only data descriptor\n",
    "        raise AttributeError"
   ]
  },
  {
   "cell_type": "code",
   "execution_count": 69,
   "metadata": {},
   "outputs": [],
   "source": [
    "class NonDataDescriptor():\n",
    "    \n",
    "    def __get__(self, object, type):\n",
    "        if object is None:\n",
    "            return self\n",
    "        return 'non-data descriptor value'\n",
    "        "
   ]
  },
  {
   "cell_type": "code",
   "execution_count": 70,
   "metadata": {},
   "outputs": [],
   "source": [
    "class MyClass():\n",
    "    data = DataDescriptor()\n",
    "    nondata = NonDataDescriptor()"
   ]
  },
  {
   "cell_type": "code",
   "execution_count": 71,
   "metadata": {},
   "outputs": [],
   "source": [
    "obj = MyClass()\n",
    "obj.__dict__.update(\n",
    "    data='instance data',\n",
    "    nondata='instance nondata'\n",
    ")"
   ]
  },
  {
   "cell_type": "markdown",
   "metadata": {},
   "source": [
    "Data descriptors have precedence over instance data:"
   ]
  },
  {
   "cell_type": "code",
   "execution_count": 72,
   "metadata": {},
   "outputs": [
    {
     "data": {
      "text/plain": [
       "'data descriptor value'"
      ]
     },
     "execution_count": 72,
     "metadata": {},
     "output_type": "execute_result"
    }
   ],
   "source": [
    "obj.data"
   ]
  },
  {
   "cell_type": "markdown",
   "metadata": {},
   "source": [
    "Instance data has precendence over non-data descriptors:"
   ]
  },
  {
   "cell_type": "code",
   "execution_count": 73,
   "metadata": {},
   "outputs": [
    {
     "data": {
      "text/plain": [
       "'instance nondata'"
      ]
     },
     "execution_count": 73,
     "metadata": {},
     "output_type": "execute_result"
    }
   ],
   "source": [
    "obj.nondata"
   ]
  },
  {
   "cell_type": "markdown",
   "metadata": {},
   "source": [
    "Open [Advanced OOP Lab](./advanced-oop-lab.ipynb)"
   ]
  },
  {
   "cell_type": "code",
   "execution_count": null,
   "metadata": {},
   "outputs": [],
   "source": []
  }
 ],
 "metadata": {
  "kernelspec": {
   "display_name": "Python 3",
   "language": "python",
   "name": "python3"
  },
  "language_info": {
   "codemirror_mode": {
    "name": "ipython",
    "version": 3
   },
   "file_extension": ".py",
   "mimetype": "text/x-python",
   "name": "python",
   "nbconvert_exporter": "python",
   "pygments_lexer": "ipython3",
   "version": "3.7.2"
  }
 },
 "nbformat": 4,
 "nbformat_minor": 1
}
