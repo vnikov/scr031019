{
 "cells": [
  {
   "cell_type": "markdown",
   "metadata": {},
   "source": [
    "# Handling Email (sending / receiving)"
   ]
  },
  {
   "cell_type": "code",
   "execution_count": 1,
   "metadata": {},
   "outputs": [],
   "source": [
    "import smtplib"
   ]
  },
  {
   "cell_type": "markdown",
   "metadata": {},
   "source": [
    "Most of the time, you'll be connecting to either your ISP's SMTP server, or some other server with authentication. In order to avoid exposing my password and such, I'll just use a local proxy server to print some debugging information:\n",
    "\n",
    "(You can run the proxy with `python -m smtpd -n -c DebuggingServer`)"
   ]
  },
  {
   "cell_type": "code",
   "execution_count": 2,
   "metadata": {},
   "outputs": [
    {
     "name": "stderr",
     "output_type": "stream",
     "text": [
      "send: 'ehlo faramir.local\\r\\n'\n",
      "reply: b'250-faramir.local\\r\\n'\n",
      "reply: b'250-8BITMIME\\r\\n'\n",
      "reply: b'250 HELP\\r\\n'\n",
      "reply: retcode (250); Msg: b'faramir.local\\n8BITMIME\\nHELP'\n",
      "send: 'mail FROM:<rick@arborian.com>\\r\\n'\n",
      "reply: b'250 OK\\r\\n'\n",
      "reply: retcode (250); Msg: b'OK'\n",
      "send: 'rcpt TO:<rick446@usa.net>\\r\\n'\n",
      "reply: b'250 OK\\r\\n'\n",
      "reply: retcode (250); Msg: b'OK'\n",
      "send: 'data\\r\\n'\n",
      "reply: b'354 End data with <CR><LF>.<CR><LF>\\r\\n'\n",
      "reply: retcode (354); Msg: b'End data with <CR><LF>.<CR><LF>'\n",
      "data: (354, b'End data with <CR><LF>.<CR><LF>')\n",
      "send: b'Subject: This is a test\\r\\nFrom: <rick@arborian.com>\\r\\nTo: <rick446@usa.net>\\r\\n\\r\\nTest message\\r\\n.\\r\\n'\n",
      "reply: b'250 OK\\r\\n'\n",
      "reply: retcode (250); Msg: b'OK'\n",
      "data: (250, b'OK')\n"
     ]
    },
    {
     "data": {
      "text/plain": [
       "{}"
      ]
     },
     "execution_count": 2,
     "metadata": {},
     "output_type": "execute_result"
    }
   ],
   "source": [
    "conn = smtplib.SMTP('localhost', 8025)\n",
    "conn.set_debuglevel(1)\n",
    "# conn.login(username, password)\n",
    "addr_from = 'rick@arborian.com'\n",
    "addr_to = 'rick446@usa.net'\n",
    "msg = '''Subject: This is a test\n",
    "From: <{}>\n",
    "To: <{}>\n",
    "\n",
    "Test message\n",
    "'''.format(addr_from, addr_to)\n",
    "conn.sendmail(addr_from, [addr_to], msg)"
   ]
  },
  {
   "cell_type": "markdown",
   "metadata": {},
   "source": [
    "## Creating and parsing email messages\n",
    "\n",
    "If you're going to be putting together more complicated emails, the `email` module is extremely useful (for multipart messages, attachments, etc.):"
   ]
  },
  {
   "cell_type": "code",
   "execution_count": 3,
   "metadata": {},
   "outputs": [],
   "source": [
    "from email.mime.text import MIMEText"
   ]
  },
  {
   "cell_type": "code",
   "execution_count": 4,
   "metadata": {},
   "outputs": [
    {
     "name": "stderr",
     "output_type": "stream",
     "text": [
      "send: 'mail FROM:<rick@arborian.com>\\r\\n'\n",
      "reply: b'250 OK\\r\\n'\n",
      "reply: retcode (250); Msg: b'OK'\n",
      "send: 'rcpt TO:<rick446@usa.net>\\r\\n'\n",
      "reply: b'250 OK\\r\\n'\n",
      "reply: retcode (250); Msg: b'OK'\n",
      "send: 'data\\r\\n'\n",
      "reply: b'354 End data with <CR><LF>.<CR><LF>\\r\\n'\n",
      "reply: retcode (354); Msg: b'End data with <CR><LF>.<CR><LF>'\n",
      "data: (354, b'End data with <CR><LF>.<CR><LF>')\n",
      "send: b'Content-Type: text/plain; charset=\"us-ascii\"\\r\\nMIME-Version: 1.0\\r\\nContent-Transfer-Encoding: 7bit\\r\\nSubject: This is a test message\\r\\nFrom: rick@arborian.com\\r\\nTo: rick446@usa.net\\r\\n\\r\\nThis is a text message\\r\\n.\\r\\n'\n",
      "reply: b'250 OK\\r\\n'\n",
      "reply: retcode (250); Msg: b'OK'\n",
      "data: (250, b'OK')\n"
     ]
    },
    {
     "data": {
      "text/plain": [
       "{}"
      ]
     },
     "execution_count": 4,
     "metadata": {},
     "output_type": "execute_result"
    }
   ],
   "source": [
    "msg = MIMEText('This is a text message')\n",
    "msg['Subject'] = 'This is a test message'\n",
    "msg['From'] = addr_from\n",
    "msg['To'] = addr_to\n",
    "conn.sendmail(addr_from, [addr_to], msg.as_string())"
   ]
  },
  {
   "cell_type": "code",
   "execution_count": 5,
   "metadata": {},
   "outputs": [],
   "source": [
    "from email.mime.multipart import MIMEMultipart"
   ]
  },
  {
   "cell_type": "code",
   "execution_count": 6,
   "metadata": {
    "scrolled": true
   },
   "outputs": [
    {
     "name": "stderr",
     "output_type": "stream",
     "text": [
      "send: 'mail FROM:<rick@arborian.com>\\r\\n'\n",
      "reply: b'250 OK\\r\\n'\n",
      "reply: retcode (250); Msg: b'OK'\n",
      "send: 'rcpt TO:<rick446@usa.net>\\r\\n'\n",
      "reply: b'250 OK\\r\\n'\n",
      "reply: retcode (250); Msg: b'OK'\n",
      "send: 'data\\r\\n'\n",
      "reply: b'354 End data with <CR><LF>.<CR><LF>\\r\\n'\n",
      "reply: retcode (354); Msg: b'End data with <CR><LF>.<CR><LF>'\n",
      "data: (354, b'End data with <CR><LF>.<CR><LF>')\n",
      "send: b'Content-Type: multipart/mixed; boundary=\"===============7485811049391948111==\"\\r\\nMIME-Version: 1.0\\r\\nSubject: This is a test message\\r\\nFrom: rick@arborian.com\\r\\nTo: rick446@usa.net\\r\\n\\r\\n--===============7485811049391948111==\\r\\nContent-Type: text/plain; charset=\"us-ascii\"\\r\\nMIME-Version: 1.0\\r\\nContent-Transfer-Encoding: 7bit\\r\\n\\r\\nThis is a text message\\r\\n--===============7485811049391948111==\\r\\nContent-Type: text/html; charset=\"us-ascii\"\\r\\nMIME-Version: 1.0\\r\\nContent-Transfer-Encoding: 7bit\\r\\n\\r\\n<h1>This is an HTML message</h1>\\r\\n--===============7485811049391948111==--\\r\\n.\\r\\n'\n",
      "reply: b'250 OK\\r\\n'\n",
      "reply: retcode (250); Msg: b'OK'\n",
      "data: (250, b'OK')\n"
     ]
    },
    {
     "data": {
      "text/plain": [
       "{}"
      ]
     },
     "execution_count": 6,
     "metadata": {},
     "output_type": "execute_result"
    }
   ],
   "source": [
    "msg = MIMEMultipart()\n",
    "msg['Subject'] = 'This is a test message'\n",
    "msg['From'] = addr_from\n",
    "msg['To'] = addr_to\n",
    "text_part = MIMEText('This is a text message', 'plain')\n",
    "html_part = MIMEText('<h1>This is an HTML message</h1>', 'html')\n",
    "msg.attach(text_part)\n",
    "msg.attach(html_part)\n",
    "conn.sendmail(addr_from, [addr_to], msg.as_string())"
   ]
  },
  {
   "cell_type": "code",
   "execution_count": 7,
   "metadata": {},
   "outputs": [],
   "source": [
    "from email.parser import Parser"
   ]
  },
  {
   "cell_type": "code",
   "execution_count": 8,
   "metadata": {},
   "outputs": [],
   "source": [
    "parsed = Parser().parsestr(msg.as_string())"
   ]
  },
  {
   "cell_type": "code",
   "execution_count": 9,
   "metadata": {},
   "outputs": [
    {
     "data": {
      "text/plain": [
       "<email.message.Message at 0x11058a4a8>"
      ]
     },
     "execution_count": 9,
     "metadata": {},
     "output_type": "execute_result"
    }
   ],
   "source": [
    "parsed"
   ]
  },
  {
   "cell_type": "code",
   "execution_count": 10,
   "metadata": {},
   "outputs": [
    {
     "data": {
      "text/plain": [
       "{'Content-Type': 'multipart/mixed; boundary=\"===============7485811049391948111==\"',\n",
       " 'MIME-Version': '1.0',\n",
       " 'Subject': 'This is a test message',\n",
       " 'From': 'rick@arborian.com',\n",
       " 'To': 'rick446@usa.net'}"
      ]
     },
     "execution_count": 10,
     "metadata": {},
     "output_type": "execute_result"
    }
   ],
   "source": [
    "headers = dict(parsed)\n",
    "headers"
   ]
  },
  {
   "cell_type": "code",
   "execution_count": 11,
   "metadata": {
    "scrolled": false
   },
   "outputs": [
    {
     "name": "stdout",
     "output_type": "stream",
     "text": [
      ">>> Begin part (class = <class 'email.message.Message'>) <<<\n",
      "{'Content-Type': 'text/plain; charset=\"us-ascii\"', 'MIME-Version': '1.0', 'Content-Transfer-Encoding': '7bit'}\n",
      "Content-Type: text/plain; charset=\"us-ascii\"\n",
      "MIME-Version: 1.0\n",
      "Content-Transfer-Encoding: 7bit\n",
      "\n",
      "This is a text message\n",
      ">>> End part <<<\n",
      "\n",
      ">>> Begin part (class = <class 'email.message.Message'>) <<<\n",
      "{'Content-Type': 'text/html; charset=\"us-ascii\"', 'MIME-Version': '1.0', 'Content-Transfer-Encoding': '7bit'}\n",
      "Content-Type: text/html; charset=\"us-ascii\"\n",
      "MIME-Version: 1.0\n",
      "Content-Transfer-Encoding: 7bit\n",
      "\n",
      "<h1>This is an HTML message</h1>\n",
      ">>> End part <<<\n",
      "\n"
     ]
    }
   ],
   "source": [
    "for part in parsed.walk():\n",
    "    if part.is_multipart():\n",
    "        continue\n",
    "    print('>>> Begin part (class = {}) <<<'.format(part.__class__))\n",
    "    print(dict(part))\n",
    "    print(part)\n",
    "    print('>>> End part <<<')\n",
    "    print('')"
   ]
  },
  {
   "cell_type": "markdown",
   "metadata": {},
   "source": [
    "## Accessing email on the server using `imaplib`"
   ]
  },
  {
   "cell_type": "code",
   "execution_count": 12,
   "metadata": {},
   "outputs": [
    {
     "data": {
      "text/plain": [
       "('OK', [b'class@arborian.com authenticated (Success)'])"
      ]
     },
     "execution_count": 12,
     "metadata": {},
     "output_type": "execute_result"
    }
   ],
   "source": [
    "import imaplib\n",
    "server = imaplib.IMAP4_SSL('imap.gmail.com', 993)\n",
    "server.login('class@arborian.com', 'class-test1')"
   ]
  },
  {
   "cell_type": "code",
   "execution_count": 13,
   "metadata": {},
   "outputs": [
    {
     "name": "stdout",
     "output_type": "stream",
     "text": [
      "Message b'1'\n",
      "{'MIME-Version': '1.0', 'x-no-auto-attachment': '1', 'Received': 'by 2002:a2e:5015:0:0:0:0:0; Wed, 13 Mar 2019 13:28:31 -0700 (PDT)', 'Date': 'Wed, 13 Mar 2019 13:28:31 -0700', 'Message-ID': '<CAOHibm=bSyF3xSu863YLBO1pL04fGQQ2p2OkZnXJEbNf=0ww8Q@mail.gmail.com>', 'Subject': 'The best of Gmail, wherever you are', 'From': 'Gmail Team <mail-noreply@google.com>', 'To': 'Class Test2 <class@arborian.com>', 'Content-Type': 'multipart/alternative; boundary=\"0000000000003588bb0583ffa67d\"'}\n",
      "\n",
      "Message b'2'\n",
      "{'MIME-Version': '1.0', 'x-no-auto-attachment': '1', 'Received': 'by 2002:a2e:5015:0:0:0:0:0; Wed, 13 Mar 2019 13:28:32 -0700 (PDT)', 'Date': 'Wed, 13 Mar 2019 13:28:32 -0700', 'Message-ID': '<CAOHibmkUys2rsKVHiy5WZRUAND7OcqWgVy1sCdj=SyPh20MuxQ@mail.gmail.com>', 'Subject': 'Tips for using your new inbox', 'From': 'Gmail Team <mail-noreply@google.com>', 'To': 'Class Test2 <class@arborian.com>', 'Content-Type': 'multipart/alternative; boundary=\"0000000000004069740583ffa680\"'}\n",
      "\n"
     ]
    }
   ],
   "source": [
    "server.select()\n",
    "typ, data = server.search(None, 'ALL')\n",
    "for num in data[0].split():\n",
    "    typ, data = server.fetch(num, '(RFC822)')\n",
    "    msg = Parser().parsestr(str(data[0][1], 'utf-8'))\n",
    "    print('Message {}\\n{}\\n'.format(num, dict(msg)))"
   ]
  },
  {
   "cell_type": "code",
   "execution_count": 14,
   "metadata": {},
   "outputs": [
    {
     "data": {
      "text/plain": [
       "('BYE', [b'LOGOUT Requested'])"
      ]
     },
     "execution_count": 14,
     "metadata": {},
     "output_type": "execute_result"
    }
   ],
   "source": [
    "server.close()\n",
    "server.logout()"
   ]
  },
  {
   "cell_type": "markdown",
   "metadata": {},
   "source": [
    "# Lab\n",
    "\n",
    "Open [Email Lab](./email-lab.ipynb)"
   ]
  }
 ],
 "metadata": {
  "kernelspec": {
   "display_name": "Python 3",
   "language": "python",
   "name": "python3"
  },
  "language_info": {
   "codemirror_mode": {
    "name": "ipython",
    "version": 3
   },
   "file_extension": ".py",
   "mimetype": "text/x-python",
   "name": "python",
   "nbconvert_exporter": "python",
   "pygments_lexer": "ipython3",
   "version": "3.7.2"
  }
 },
 "nbformat": 4,
 "nbformat_minor": 1
}
